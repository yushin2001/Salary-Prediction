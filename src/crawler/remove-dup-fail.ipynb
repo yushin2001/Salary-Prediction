{
 "cells": [
  {
   "cell_type": "code",
   "execution_count": 1,
   "metadata": {},
   "outputs": [],
   "source": [
    "import json\n",
    "import pandas as pd"
   ]
  },
  {
   "cell_type": "markdown",
   "metadata": {},
   "source": [
    "Remove duplicated items in joblist"
   ]
  },
  {
   "cell_type": "code",
   "execution_count": 2,
   "metadata": {},
   "outputs": [],
   "source": [
    "with open('./joblist.json') as f:\n",
    "    job_list = json.load(f)"
   ]
  },
  {
   "cell_type": "code",
   "execution_count": 3,
   "metadata": {},
   "outputs": [
    {
     "data": {
      "text/plain": [
       "627790"
      ]
     },
     "execution_count": 3,
     "metadata": {},
     "output_type": "execute_result"
    }
   ],
   "source": [
    "len(job_list)"
   ]
  },
  {
   "cell_type": "code",
   "execution_count": 15,
   "metadata": {},
   "outputs": [
    {
     "data": {
      "text/html": [
       "<div>\n",
       "<style scoped>\n",
       "    .dataframe tbody tr th:only-of-type {\n",
       "        vertical-align: middle;\n",
       "    }\n",
       "\n",
       "    .dataframe tbody tr th {\n",
       "        vertical-align: top;\n",
       "    }\n",
       "\n",
       "    .dataframe thead th {\n",
       "        text-align: right;\n",
       "    }\n",
       "</style>\n",
       "<table border=\"1\" class=\"dataframe\">\n",
       "  <thead>\n",
       "    <tr style=\"text-align: right;\">\n",
       "      <th></th>\n",
       "      <th>id</th>\n",
       "      <th>no</th>\n",
       "      <th>cust</th>\n",
       "    </tr>\n",
       "  </thead>\n",
       "  <tbody>\n",
       "    <tr>\n",
       "      <th>277644</th>\n",
       "      <td>7ewku</td>\n",
       "      <td>12452718</td>\n",
       "      <td>1a2x6bil7a</td>\n",
       "    </tr>\n",
       "    <tr>\n",
       "      <th>277649</th>\n",
       "      <td>7ewlm</td>\n",
       "      <td>12452746</td>\n",
       "      <td>1a2x6bil7a</td>\n",
       "    </tr>\n",
       "    <tr>\n",
       "      <th>277651</th>\n",
       "      <td>7fk2w</td>\n",
       "      <td>12483176</td>\n",
       "      <td>1a2x6blt25</td>\n",
       "    </tr>\n",
       "    <tr>\n",
       "      <th>277653</th>\n",
       "      <td>7tat1</td>\n",
       "      <td>13124341</td>\n",
       "      <td>7e8hwhk</td>\n",
       "    </tr>\n",
       "    <tr>\n",
       "      <th>277656</th>\n",
       "      <td>7lc6f</td>\n",
       "      <td>12752871</td>\n",
       "      <td>1a2x6bm0es</td>\n",
       "    </tr>\n",
       "  </tbody>\n",
       "</table>\n",
       "</div>"
      ],
      "text/plain": [
       "           id        no        cust\n",
       "277644  7ewku  12452718  1a2x6bil7a\n",
       "277649  7ewlm  12452746  1a2x6bil7a\n",
       "277651  7fk2w  12483176  1a2x6blt25\n",
       "277653  7tat1  13124341     7e8hwhk\n",
       "277656  7lc6f  12752871  1a2x6bm0es"
      ]
     },
     "execution_count": 15,
     "metadata": {},
     "output_type": "execute_result"
    }
   ],
   "source": [
    "idlst = []\n",
    "nolst = []\n",
    "custlst = []\n",
    "for i in range(len(job_list)):\n",
    "    idlst.append(job_list[i]['job_id'])\n",
    "    nolst.append(job_list[i]['job_no'])\n",
    "    custlst.append(job_list[i]['cust_id'])\n",
    "\n",
    "df = pd.DataFrame({'id': idlst, 'no': nolst, 'cust': custlst})\n",
    "df.drop_duplicates(inplace=True, keep='first')\n",
    "df[100000: 100005]"
   ]
  },
  {
   "cell_type": "code",
   "execution_count": 12,
   "metadata": {},
   "outputs": [
    {
     "name": "stdout",
     "output_type": "stream",
     "text": [
      "197221 197221 197221\n"
     ]
    }
   ],
   "source": [
    "newid = list(df['id'])\n",
    "newno = list(df['no'])\n",
    "newcust = list(df['cust'])\n",
    "print(len(newid), len(newno), len(newcust))"
   ]
  },
  {
   "cell_type": "code",
   "execution_count": 16,
   "metadata": {},
   "outputs": [
    {
     "name": "stdout",
     "output_type": "stream",
     "text": [
      "7ewku 12452718 1a2x6bil7a\n",
      "7ewlm 12452746 1a2x6bil7a\n",
      "7fk2w 12483176 1a2x6blt25\n",
      "7tat1 13124341 7e8hwhk\n"
     ]
    }
   ],
   "source": [
    "for i in range(4):\n",
    "    print(newid[100000+i], newno[100000+i], newcust[100000+i])"
   ]
  },
  {
   "cell_type": "code",
   "execution_count": 17,
   "metadata": {},
   "outputs": [],
   "source": [
    "job_list2 = []\n",
    "\n",
    "for i in range(len(newid)):\n",
    "    job_id = newid[i]\n",
    "    job_no = newno[i]\n",
    "    cust_id = newcust[i]\n",
    "    d = {'job_id': job_id, 'job_no': job_no, 'cust_id': cust_id}\n",
    "    job_list2.append(d)\n"
   ]
  },
  {
   "cell_type": "code",
   "execution_count": 19,
   "metadata": {},
   "outputs": [
    {
     "data": {
      "text/plain": [
       "197221"
      ]
     },
     "execution_count": 19,
     "metadata": {},
     "output_type": "execute_result"
    }
   ],
   "source": [
    "len(job_list2)"
   ]
  },
  {
   "cell_type": "code",
   "execution_count": 20,
   "metadata": {},
   "outputs": [],
   "source": [
    "# output the file\n",
    "with open('./joblist.json', 'w') as outfile:\n",
    "    json.dump(job_list2, outfile, ensure_ascii = False, indent = 4)"
   ]
  },
  {
   "cell_type": "markdown",
   "metadata": {},
   "source": [
    "Remove jobs without apply data"
   ]
  },
  {
   "cell_type": "code",
   "execution_count": 25,
   "metadata": {},
   "outputs": [],
   "source": [
    "with open('./raw2.json') as f:\n",
    "    raw2 = json.load(f)"
   ]
  },
  {
   "cell_type": "code",
   "execution_count": 26,
   "metadata": {},
   "outputs": [
    {
     "data": {
      "text/plain": [
       "197221"
      ]
     },
     "execution_count": 26,
     "metadata": {},
     "output_type": "execute_result"
    }
   ],
   "source": [
    "len(raw2)"
   ]
  },
  {
   "cell_type": "code",
   "execution_count": 29,
   "metadata": {},
   "outputs": [
    {
     "name": "stdout",
     "output_type": "stream",
     "text": [
      "removed\n",
      "removed\n",
      "removed\n",
      "removed\n",
      "removed\n",
      "removed\n",
      "197215\n"
     ]
    }
   ],
   "source": [
    "fail = [raw2[59657], raw2[87628], raw2[87789], raw2[89181], raw2[92318], raw2[110227]]\n",
    "\n",
    "for element in fail:\n",
    "    if len(element.keys()) == 5:\n",
    "        print('removed')\n",
    "        raw2.remove(element)\n",
    "\n",
    "print(len(raw2))"
   ]
  },
  {
   "cell_type": "markdown",
   "metadata": {},
   "source": [
    "Remove non existing jobs"
   ]
  },
  {
   "cell_type": "code",
   "execution_count": 40,
   "metadata": {},
   "outputs": [
    {
     "data": {
      "text/plain": [
       "197215"
      ]
     },
     "execution_count": 40,
     "metadata": {},
     "output_type": "execute_result"
    }
   ],
   "source": [
    "raw = raw2\n",
    "len(raw)"
   ]
  },
  {
   "cell_type": "code",
   "execution_count": 43,
   "metadata": {},
   "outputs": [
    {
     "name": "stdout",
     "output_type": "stream",
     "text": [
      "18\n",
      "remove  dict_keys(['error']) 7tmdm\n",
      "remove  dict_keys(['error']) 7t8ju\n",
      "remove  dict_keys(['error']) 7rz85\n",
      "remove  dict_keys(['error']) 7t7bt\n",
      "remove  dict_keys(['error']) 7tjdm\n",
      "remove  dict_keys(['error']) 7rd62\n",
      "remove  dict_keys(['error']) 7ofl1\n",
      "remove  dict_keys(['error']) 7tibl\n",
      "remove  dict_keys(['error']) 7oc5m\n",
      "remove  dict_keys(['error']) 7tjck\n",
      "remove  dict_keys(['error']) 7tjch\n",
      "remove  dict_keys(['error']) 7tjcc\n",
      "remove  dict_keys(['error']) 7tjcd\n",
      "remove  dict_keys(['error']) 7qybx\n",
      "remove  dict_keys(['error']) 7tkbo\n",
      "remove  dict_keys(['error']) 7fmp3\n",
      "remove  dict_keys(['error']) 7tnr5\n",
      "remove  dict_keys(['error']) 7tmhy\n"
     ]
    }
   ],
   "source": [
    "noexist = []\n",
    "for i in range(len(raw)):\n",
    "    if len(raw[i]['jobData'].keys()) == 1:\n",
    "        noexist.append(raw[i])\n",
    "\n",
    "print(len(noexist))\n",
    "\n",
    "for e in noexist:\n",
    "    if len(e['jobData'].keys()) == 1:\n",
    "        print('remove ', e['jobData'].keys(), e['job_id'])\n",
    "        raw.remove(e)"
   ]
  },
  {
   "cell_type": "code",
   "execution_count": 46,
   "metadata": {},
   "outputs": [
    {
     "data": {
      "text/plain": [
       "197197"
      ]
     },
     "execution_count": 46,
     "metadata": {},
     "output_type": "execute_result"
    }
   ],
   "source": [
    "len(raw)"
   ]
  },
  {
   "cell_type": "code",
   "execution_count": 49,
   "metadata": {},
   "outputs": [
    {
     "data": {
      "text/plain": [
       "{'corpImageRight': {'corpImageRight': {'imageUrl': '', 'link': ''}},\n",
       " 'header': {'corpImageTop': {'imageUrl': 'https://static.104.com.tw/b_profile/cust_picture/0000/97165560000/custintroduce/image2.jpg?v=20220907132136',\n",
       "   'link': ''},\n",
       "  'jobName': '大潤發全台 - 商業/後勤部門 MA/儲備幹部( 完整在職培訓 )',\n",
       "  'appearDate': '2022/11/20',\n",
       "  'custName': '大潤發流通事業股份有限公司(總公司)',\n",
       "  'custUrl': 'https://www.104.com.tw/company/18mxv5xc',\n",
       "  'applyDate': '',\n",
       "  'analysisType': 2,\n",
       "  'analysisUrl': '//www.104.com.tw/jobs/apply/analysis/6g6js',\n",
       "  'isSaved': False,\n",
       "  'isApplied': False},\n",
       " 'contact': {'hrName': '人力資源處 徐小姐',\n",
       "  'email': '',\n",
       "  'visit': '',\n",
       "  'phone': [],\n",
       "  'other': '其他應徵方式及備註：應徵方式 APPLY NOW!!!\\n直接投遞104履歷\\n通過初步資格審核者將寄發工作申請表，不通過者則不另行通知，請見諒!',\n",
       "  'reply': '',\n",
       "  'suggestExam': False},\n",
       " 'environmentPic': {'environmentPic': [{'thumbnailLink': 'https://static.104.com.tw/b_profile/cust_picture/0000/97165560000/env/s_890328564446787594.jpg?v=20220907132136',\n",
       "    'link': 'https://static.104.com.tw/b_profile/cust_picture/0000/97165560000/env/l_890328564446787594.jpg?v=20220907132136',\n",
       "    'description': '店面外觀'},\n",
       "   {'thumbnailLink': 'https://static.104.com.tw/b_profile/cust_picture/0000/97165560000/env/s_890328564411204426.jpg?v=20220907132136',\n",
       "    'link': 'https://static.104.com.tw/b_profile/cust_picture/0000/97165560000/env/l_890328564411204426.jpg?v=20220907132136',\n",
       "    'description': 'Life Store概念店內裝'},\n",
       "   {'thumbnailLink': 'https://static.104.com.tw/b_profile/cust_picture/0000/97165560000/env/s_962627717425147640.jpg?v=20220907132136',\n",
       "    'link': 'https://static.104.com.tw/b_profile/cust_picture/0000/97165560000/env/l_962627717425147640.jpg?v=20220907132136',\n",
       "    'description': '開心的工作團隊'},\n",
       "   {'thumbnailLink': 'https://static.104.com.tw/b_profile/cust_picture/0000/97165560000/env/s_964488071831130780.jpg?v=20220907132136',\n",
       "    'link': 'https://static.104.com.tw/b_profile/cust_picture/0000/97165560000/env/l_964488071831130780.jpg?v=20220907132136',\n",
       "    'description': '全國運動會'}],\n",
       "  'corpImageBottom': {'imageUrl': 'https://static.104.com.tw/b_profile/cust_picture/0000/97165560000/custintroduce/image1.jpg?v=20220907132136',\n",
       "   'link': 'https://kad.events.104.com.tw/rtmart_20220526/'}},\n",
       " 'condition': {'acceptRole': {'role': [{'code': 2, 'description': '應屆畢業生'},\n",
       "    {'code': 64, 'description': '原住民'}],\n",
       "   'disRole': {'needHandicapCompendium': False, 'disability': []}},\n",
       "  'workExp': '不拘',\n",
       "  'edu': '大學以上',\n",
       "  'major': [],\n",
       "  'language': [],\n",
       "  'localLanguage': [],\n",
       "  'specialty': [],\n",
       "  'skill': [],\n",
       "  'certificate': [],\n",
       "  'driverLicense': [],\n",
       "  'other': '大學或研究所畢業，不限科系！\\n個性積極主動，具服務熱誠，有零售業工作經驗者佳\\n配合彈性分發至全台各地，跨縣市分發享員工宿舍\\n具領導力、企圖心、執行力\\n2022新鮮人招募職務'},\n",
       " 'welfare': {'tag': ['員工紅利',\n",
       "   '年終獎金',\n",
       "   '三節獎金/禮品',\n",
       "   '特殊節日獎金禮品',\n",
       "   '員工宿舍',\n",
       "   '交通車',\n",
       "   '員工餐廳',\n",
       "   '零食櫃',\n",
       "   '咖啡吧',\n",
       "   '不扣薪病假',\n",
       "   '結婚禮金',\n",
       "   '生育津貼',\n",
       "   '社團補助',\n",
       "   '子女教育獎助學金',\n",
       "   '旅遊補助',\n",
       "   '社團活動',\n",
       "   '員工優惠',\n",
       "   '員工停車位',\n",
       "   '特約商店',\n",
       "   '停車位',\n",
       "   '伙食津貼',\n",
       "   '員工團體保險'],\n",
       "  'welfare': '＜For 身心＞\\n◆團保\\n◆定期健康檢查\\n◆勞工退休金提撥\\n◆定期醫師駐點諮詢\\n\\n＜For 生活＞\\n◆三節禮卷\\n◆結婚及生育津貼\\n◆子女獎助學金\\n◆生日禮品\\n◆交通車\\n◆汽/機車停車位\\n\\n＜For 休閒＞\\n◆社團活動及運動日\\n◆員工旅遊補助\\n◆員工購物優惠\\n◆特約商店優惠',\n",
       "  'legalTag': ['哺乳室',\n",
       "   '家庭照顧假',\n",
       "   '勞保',\n",
       "   '健保',\n",
       "   '陪產假',\n",
       "   '產假',\n",
       "   '特別休假',\n",
       "   '育嬰留停',\n",
       "   '女性生理假',\n",
       "   '勞退提撥金',\n",
       "   '產檢假',\n",
       "   '防疫照顧假',\n",
       "   '員工體檢']},\n",
       " 'jobDetail': {'jobDescription': '公司經營理念 COMPANY VISION\\nTRUST!EXCELLENT!OPENNESS! 信任!卓越!開放!\\n\\n\\n▲培訓方式 TRAINING\\n4-6個月完整的培訓計畫，包含1-2個月新人實務訓練、理論課程及一對一標竿訓練，讓學員能快速熟悉實務操作、商品知識和經營管理方面相關知識\\n\\n▲工作使命 MISSION\\n深入管理門店\\n帶領團隊，管理商品進銷存創造業績及提供顧客最優質的服務吸引更高來客\\n\\n▲職涯規劃 CAREER DEVELOPMENT\\n第一步: 成為分店課長\\n第二步: 透過訓練、每年績效考核、職涯發展團隊面談，在分店晉升經理及店總經理\\n抑或者朝支援辦公室專業領域發展(人資、採購、行銷、電子商務…)\\n第三步: 成為理級的潛力人才\\n\\n▲薪水 SALARY\\n月薪 : 新台幣$36,900，年資滿六個月薪資將調整為新台幣$40,000\\n津貼 : 生鮮類別另有技術訓練及技術檢定，通過可享有技術津貼\\n福利 : 享年終獎金一個月、績效獎金、季進步獎金、員工分紅\\n\\t\\n',\n",
       "  'jobCategory': [{'code': '2001001002', 'description': '儲備幹部'},\n",
       "   {'code': '2001001001', 'description': '經營管理主管'},\n",
       "   {'code': '2005002002', 'description': '連鎖店管理人員'}],\n",
       "  'salary': '月薪36,900~40,000元',\n",
       "  'salaryMin': 36900,\n",
       "  'salaryMax': 40000,\n",
       "  'salaryType': 50,\n",
       "  'jobType': 1,\n",
       "  'workType': [],\n",
       "  'addressNo': '6001001001',\n",
       "  'addressRegion': '台北市中正區',\n",
       "  'addressArea': '台北市',\n",
       "  'addressDetail': '大潤發全台分店',\n",
       "  'industryArea': '',\n",
       "  'longitude': '121.5198716',\n",
       "  'latitude': '25.0421407',\n",
       "  'manageResp': '管理9-12人',\n",
       "  'businessTrip': '無需出差外派',\n",
       "  'workPeriod': '日班/晚班/假日班，需輪班',\n",
       "  'vacationPolicy': '依公司規定',\n",
       "  'startWorkingDay': '一個月內',\n",
       "  'hireType': 0,\n",
       "  'delegatedRecruit': '',\n",
       "  'needEmp': '3~10人',\n",
       "  'landmark': '',\n",
       "  'remoteWork': None},\n",
       " 'switch': 'on',\n",
       " 'custLogo': 'https://static.104.com.tw/b_profile/cust_picture/0000/97165560000/logo.png?v=20220907132136',\n",
       " 'postalCode': '100',\n",
       " 'closeDate': '',\n",
       " 'industry': '量販流通相關業',\n",
       " 'custNo': '97165560000',\n",
       " 'reportUrl': 'https://www.104.com.tw/feedback?category=2&custName=%E5%A4%A7%E6%BD%A4%E7%99%BC%E6%B5%81%E9%80%9A%E4%BA%8B%E6%A5%AD%E8%82%A1%E4%BB%BD%E6%9C%89%E9%99%90%E5%85%AC%E5%8F%B8%28%E7%B8%BD%E5%85%AC%E5%8F%B8%29&jobName=%E5%A4%A7%E6%BD%A4%E7%99%BC%E5%85%A8%E5%8F%B0+-+%E5%95%86%E6%A5%AD%2F%E5%BE%8C%E5%8B%A4%E9%83%A8%E9%96%80+MA%2F%E5%84%B2%E5%82%99%E5%B9%B9%E9%83%A8%28+%E5%AE%8C%E6%95%B4%E5%9C%A8%E8%81%B7%E5%9F%B9%E8%A8%93+%29',\n",
       " 'industryNo': '1003002014',\n",
       " 'employees': '4800人',\n",
       " 'chinaCorp': False}"
      ]
     },
     "execution_count": 49,
     "metadata": {},
     "output_type": "execute_result"
    }
   ],
   "source": [
    "raw[0]['jobData']['data']"
   ]
  },
  {
   "cell_type": "code",
   "execution_count": 50,
   "metadata": {},
   "outputs": [],
   "source": [
    "for i in range(len(raw)):\n",
    "    raw[i]['jobData'] = raw[i]['jobData']['data']"
   ]
  },
  {
   "cell_type": "code",
   "execution_count": 51,
   "metadata": {},
   "outputs": [],
   "source": [
    "# output the file\n",
    "with open('./raw.json', 'w') as outfile:\n",
    "    json.dump(raw, outfile, ensure_ascii = False, indent = 4)"
   ]
  }
 ],
 "metadata": {
  "kernelspec": {
   "display_name": "Python 3.6.9 ('qwe9887476': venv)",
   "language": "python",
   "name": "python3"
  },
  "language_info": {
   "codemirror_mode": {
    "name": "ipython",
    "version": 3
   },
   "file_extension": ".py",
   "mimetype": "text/x-python",
   "name": "python",
   "nbconvert_exporter": "python",
   "pygments_lexer": "ipython3",
   "version": "3.6.9"
  },
  "orig_nbformat": 4,
  "vscode": {
   "interpreter": {
    "hash": "5bf6df6aca0587c3d575cbe78d8d9df74e83db4ef5eb69188bbfb0803a9e9627"
   }
  }
 },
 "nbformat": 4,
 "nbformat_minor": 2
}
