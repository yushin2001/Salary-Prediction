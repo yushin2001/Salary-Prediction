{
 "cells": [
  {
   "cell_type": "markdown",
   "id": "a15ea437",
   "metadata": {},
   "source": [
    "讀檔"
   ]
  },
  {
   "cell_type": "code",
   "execution_count": 2,
   "id": "4a118d4e-31a4-4adc-af1f-042d96da9d24",
   "metadata": {},
   "outputs": [],
   "source": [
    "import pandas as pd\n",
    "data_x = pd.read_csv('datafinal/final_x.csv/final_x.csv', encoding='utf8')\n",
    "\n",
    "data_y = pd.read_csv('datafinal/before_standard_y.csv')"
   ]
  },
  {
   "cell_type": "markdown",
   "id": "2f99d498-787d-4322-a5cf-535af281cf3a",
   "metadata": {},
   "source": [
    "刪除data_x中['Unnamed: 0', 'Unnamed: 0.1', 'jobName', 'custName']\n",
    "\n",
    "刪除data_y中['Unnamed: 0']，並且將salaryMin, salaryMax分開"
   ]
  },
  {
   "cell_type": "code",
   "execution_count": 3,
   "id": "b29b461c-c763-4f6a-abeb-88c3c807fb1c",
   "metadata": {},
   "outputs": [],
   "source": [
    "import numpy as np\n",
    "import ipykernel\n",
    "columns = list(data_x.columns)\n",
    "data_x_numpy = data_x.to_numpy()\n",
    "data_y_numpy = data_y.to_numpy()[:,1:]\n"
   ]
  },
  {
   "cell_type": "code",
   "execution_count": 4,
   "id": "c017468d",
   "metadata": {},
   "outputs": [],
   "source": [
    "delete_index = []\n",
    "\n",
    "for i in range(len(columns)):\n",
    "    if \"Unnamed\" in data_x.columns[i]:\n",
    "        delete_index.append(i)\n",
    "    elif data_x.columns[i] == 'id':\n",
    "        delete_index.append(i)\n",
    "    # elif 'apply_education' in data_x.columns[i]:\n",
    "    #     delete_index.append(i)\n",
    "    # elif 'apply_age' in data_x.columns[i]:\n",
    "    #     delete_index.append(i)\n",
    "\n",
    "delete_index.reverse()\n",
    "\n",
    "for j in delete_index:\n",
    "    data_x_numpy = np.delete(data_x_numpy, j, 1)\n",
    "    del columns[j]\n"
   ]
  },
  {
   "cell_type": "code",
   "execution_count": 5,
   "id": "7f6538b4",
   "metadata": {},
   "outputs": [
    {
     "data": {
      "text/plain": [
       "((131624, 3967), (131624, 2), 3967)"
      ]
     },
     "execution_count": 5,
     "metadata": {},
     "output_type": "execute_result"
    }
   ],
   "source": [
    "data_x_numpy.shape, data_y_numpy.shape, len(columns)"
   ]
  },
  {
   "cell_type": "markdown",
   "id": "44fce1dd-3db3-4699-82e4-bc6233e7744c",
   "metadata": {},
   "source": [
    "## Feature Selection\n",
    "使用Validation Threshold，從914個變數挑出294個"
   ]
  },
  {
   "cell_type": "code",
   "execution_count": 180,
   "id": "14778e85-b643-4914-94be-6dccda479d2d",
   "metadata": {},
   "outputs": [],
   "source": [
    "from sklearn.feature_selection import VarianceThreshold\n",
    "from sklearn.feature_selection import RFE\n",
    "from sklearn.ensemble import RandomForestRegressor\n",
    "from sklearn.feature_selection import SelectKBest\n",
    "from sklearn.feature_selection import mutual_info_regression\n",
    "\n",
    "\n",
    "sel = VarianceThreshold(threshold=(.99 * (1 - .99)))\n",
    "X = sel.fit_transform(data_x_numpy)\n",
    "\n",
    "# estimator = RandomForestRegressor(max_depth=5, n_estimators=150)\n",
    "# sel = RFE(estimator=estimator, n_features_to_select=64, step=5)\n",
    "# X = sel.fit_transform(X, y_max)\n",
    "\n",
    "# sel = SelectKBest(mutual_info_regression, k=64)\n",
    "# X = sel.fit_transform(data_x_new, y_max_std)"
   ]
  },
  {
   "cell_type": "code",
   "execution_count": 181,
   "id": "5335a8c5-f0b3-4a71-80c1-4278655a8338",
   "metadata": {},
   "outputs": [
    {
     "data": {
      "text/plain": [
       "(131624, 294)"
      ]
     },
     "execution_count": 181,
     "metadata": {},
     "output_type": "execute_result"
    }
   ],
   "source": [
    "X.shape"
   ]
  },
  {
   "cell_type": "code",
   "execution_count": 182,
   "id": "ecbce9da-f955-484c-94cc-4d6a6b659b31",
   "metadata": {},
   "outputs": [],
   "source": [
    "selected_column = []\n",
    "for i in range(len(sel.get_support())):\n",
    "    if sel.get_support()[i] == True:\n",
    "        selected_column.append(columns[i])"
   ]
  },
  {
   "cell_type": "code",
   "execution_count": 183,
   "id": "4a97163f-5bfd-4f4d-9501-82c491a18090",
   "metadata": {},
   "outputs": [
    {
     "data": {
      "text/plain": [
       "['appearDate',\n",
       " 'enviornmentPic',\n",
       " 'driverLicense',\n",
       " 'other',\n",
       " 'welfare',\n",
       " 'jobDescription',\n",
       " 'businessTrip',\n",
       " 'workPeriod',\n",
       " 'edu_不拘',\n",
       " 'edu_大學',\n",
       " 'edu_大學、碩士',\n",
       " 'edu_大學以上',\n",
       " 'edu_專科、大學',\n",
       " 'edu_專科、大學、碩士',\n",
       " 'edu_專科以上',\n",
       " 'edu_高中',\n",
       " 'edu_高中、專科',\n",
       " 'edu_高中、專科、大學',\n",
       " 'edu_高中、專科、大學、碩士',\n",
       " 'edu_高中以上',\n",
       " 'edu_高中以下、高中、專科、大學',\n",
       " 'major_一般商業學類',\n",
       " 'major_商業及管理學科類',\n",
       " 'major_土木工程相關',\n",
       " 'major_工程學科類',\n",
       " 'major_會計學相關',\n",
       " 'major_機械工程相關',\n",
       " 'major_機械維護相關',\n",
       " 'major_護理助產相關',\n",
       " 'major_資訊工程相關',\n",
       " 'major_資訊管理相關',\n",
       " 'major_電機電子工程相關',\n",
       " 'major_電機電子維護相關',\n",
       " 'language_中文',\n",
       " 'language_日文',\n",
       " 'language_英文',\n",
       " 'specialty_Adobe Photoshop',\n",
       " 'specialty_AutoCAD',\n",
       " 'specialty_Excel',\n",
       " 'specialty_Illustrator',\n",
       " 'specialty_Outlook',\n",
       " 'specialty_PowerPoint',\n",
       " 'specialty_Word',\n",
       " 'specialty_中文打字20~50',\n",
       " 'specialty_中文打字50~75',\n",
       " 'specialty_英文打字20~50',\n",
       " 'skill_報表彙整與管理',\n",
       " 'skill_客戶情報蒐集',\n",
       " 'skill_客戶資料更新維護',\n",
       " 'skill_客訴案件處理',\n",
       " 'skill_文件或資料輸入建檔處理',\n",
       " 'skill_文件收發與檔案管理',\n",
       " 'skill_文件檔案資料處理、轉換及整合工作',\n",
       " 'skill_文書處理╱排版能力',\n",
       " 'skill_業務或通路開發',\n",
       " 'skill_業績目標分配與績效達成',\n",
       " 'skill_業績與管理報表撰寫',\n",
       " 'skill_櫃檯門市接待與需求服務',\n",
       " 'skill_產品介紹及解說銷售',\n",
       " 'skill_行政事務處理',\n",
       " 'skill_電話接聽與人員接待事項',\n",
       " 'skill_食材貯存管理',\n",
       " 'skill_食物製前準備',\n",
       " 'certificate_TOEIC (多益測驗)',\n",
       " 'certificate_普通小型車駕照',\n",
       " 'certificate_高考護理師執照',\n",
       " 'jobCategory_中餐廚師',\n",
       " 'jobCategory_作業員／包裝員',\n",
       " 'jobCategory_保全人員／警衛',\n",
       " 'jobCategory_倉儲物流人員',\n",
       " 'jobCategory_倉管',\n",
       " 'jobCategory_儲備幹部',\n",
       " 'jobCategory_其他保安服務工作',\n",
       " 'jobCategory_其他客戶服務人員',\n",
       " 'jobCategory_其他機械操作員',\n",
       " 'jobCategory_其他類廚師',\n",
       " 'jobCategory_助理工程師',\n",
       " 'jobCategory_品管／檢驗人員',\n",
       " 'jobCategory_售票／收銀人員',\n",
       " 'jobCategory_國內業務人員',\n",
       " 'jobCategory_外務／快遞／送貨',\n",
       " 'jobCategory_大樓管理員',\n",
       " 'jobCategory_家事服務人員',\n",
       " 'jobCategory_小客車／計程車及小貨車司機',\n",
       " 'jobCategory_工務人員／助理',\n",
       " 'jobCategory_平面設計／美編人員',\n",
       " 'jobCategory_店長／賣場管理人員',\n",
       " 'jobCategory_教保員',\n",
       " 'jobCategory_業務助理',\n",
       " 'jobCategory_機械加工技術人員',\n",
       " 'jobCategory_櫃檯接待人員',\n",
       " 'jobCategory_清潔工／資源回收人員',\n",
       " 'jobCategory_物管／資材',\n",
       " 'jobCategory_生產技術／製程工程師',\n",
       " 'jobCategory_產品售後技術服務',\n",
       " 'jobCategory_產品維修人員',\n",
       " 'jobCategory_產品行銷人員',\n",
       " 'jobCategory_網站行銷企劃',\n",
       " 'jobCategory_美容工作者',\n",
       " 'jobCategory_行政人員',\n",
       " 'jobCategory_行政助理',\n",
       " 'jobCategory_行銷企劃人員',\n",
       " 'jobCategory_補習班導師／管理人員',\n",
       " 'jobCategory_西餐廚師',\n",
       " 'jobCategory_記帳／出納／一般會計',\n",
       " 'jobCategory_調酒師／吧台人員',\n",
       " 'jobCategory_護理師及護士',\n",
       " 'jobCategory_財務會計助理',\n",
       " 'jobCategory_軟體設計工程師',\n",
       " 'jobCategory_通路開發人員',\n",
       " 'jobCategory_連鎖店管理人員',\n",
       " 'jobCategory_門市／店員／專櫃人員',\n",
       " 'jobCategory_電機工程技術員',\n",
       " 'jobCategory_電話客服類人員',\n",
       " 'jobCategory_電話行銷人員',\n",
       " 'jobCategory_飯店工作人員',\n",
       " 'jobCategory_飯店或餐廳主管',\n",
       " 'jobCategory_餐廚助手',\n",
       " 'jobCategory_餐飲服務生',\n",
       " 'adressArea_南投縣',\n",
       " 'adressArea_台中市',\n",
       " 'adressArea_台北市',\n",
       " 'adressArea_台南市',\n",
       " 'adressArea_嘉義市',\n",
       " 'adressArea_宜蘭縣',\n",
       " 'adressArea_屏東縣',\n",
       " 'adressArea_彰化縣',\n",
       " 'adressArea_新北市',\n",
       " 'adressArea_新竹市',\n",
       " 'adressArea_新竹縣',\n",
       " 'adressArea_桃園市',\n",
       " 'adressArea_苗栗縣',\n",
       " 'adressArea_雲林縣',\n",
       " 'adressArea_高雄市',\n",
       " 'vacationPolicy_依公司規定',\n",
       " 'vacationPolicy_週休二日',\n",
       " 'startWorkingDay_一個月內',\n",
       " 'startWorkingDay_一週內',\n",
       " 'startWorkingDay_不限',\n",
       " 'startWorkingDay_兩週內',\n",
       " 'startWorkingDay_可年後上班',\n",
       " 'industry_不動產經營業',\n",
       " 'industry_人力仲介代徵',\n",
       " 'industry_保全樓管相關業',\n",
       " 'industry_儲配／運輸物流業',\n",
       " 'industry_其他醫療保健服務業',\n",
       " 'industry_其他金屬相關製造業',\n",
       " 'industry_其他電子零組件相關業',\n",
       " 'industry_其他餐飲業',\n",
       " 'industry_半導體製造業',\n",
       " 'industry_工商顧問服務業',\n",
       " 'industry_建築工程業',\n",
       " 'industry_旅館業',\n",
       " 'industry_汽車及其零件製造業',\n",
       " 'industry_環境衛生及污染防治服務業',\n",
       " 'industry_百貨相關業',\n",
       " 'industry_綜合商品批發代理業',\n",
       " 'industry_網際網路相關業',\n",
       " 'industry_美容／美體業',\n",
       " 'industry_補習班',\n",
       " 'industry_診所',\n",
       " 'industry_運動服務業',\n",
       " 'industry_醫院',\n",
       " 'industry_量販流通相關業',\n",
       " 'industry_電力機械器材製造修配業',\n",
       " 'industry_電腦及其週邊設備製造業',\n",
       " 'industry_電腦系統整合服務業',\n",
       " 'industry_電腦軟體服務業',\n",
       " 'industry_飲料店業',\n",
       " 'industry_餐館業',\n",
       " 'apply_male_ratio',\n",
       " 'apply_major_一般商業學類',\n",
       " 'apply_major_不拘',\n",
       " 'apply_major_企業管理相關',\n",
       " 'apply_major_其他商業及管理相關',\n",
       " 'apply_major_其他外國語文相關',\n",
       " 'apply_major_其他工業技藝相關',\n",
       " 'apply_major_其他工程相關',\n",
       " 'apply_major_其他數學及電算機科學相關',\n",
       " 'apply_major_其他相關科系',\n",
       " 'apply_major_其他藝術相關',\n",
       " 'apply_major_其他觀光服務相關',\n",
       " 'apply_major_其他醫藥衛生相關',\n",
       " 'apply_major_化學工程相關',\n",
       " 'apply_major_化學相關',\n",
       " 'apply_major_國際貿易相關',\n",
       " 'apply_major_土木工程相關',\n",
       " 'apply_major_大眾傳播學相關',\n",
       " 'apply_major_學前教育相關',\n",
       " 'apply_major_專業科目教育相關',\n",
       " 'apply_major_工業工程相關',\n",
       " 'apply_major_工業管理相關',\n",
       " 'apply_major_市場行銷相關',\n",
       " 'apply_major_建築相關',\n",
       " 'apply_major_文書管理相關',\n",
       " 'apply_major_日文相關科系',\n",
       " 'apply_major_普通科',\n",
       " 'apply_major_會計學相關',\n",
       " 'apply_major_本國語文相關',\n",
       " 'apply_major_機械工程相關',\n",
       " 'apply_major_機械維護相關',\n",
       " 'apply_major_汽車汽修相關',\n",
       " 'apply_major_法律相關科系',\n",
       " 'apply_major_環境工程相關',\n",
       " 'apply_major_生物學相關',\n",
       " 'apply_major_社會學相關',\n",
       " 'apply_major_經濟學相關',\n",
       " 'apply_major_綜合教育相關',\n",
       " 'apply_major_美容美髮相關',\n",
       " 'apply_major_美術學相關',\n",
       " 'apply_major_美術工藝相關',\n",
       " 'apply_major_英美語文相關',\n",
       " 'apply_major_藝術商業設計',\n",
       " 'apply_major_觀光事務相關',\n",
       " 'apply_major_護理助產相關',\n",
       " 'apply_major_財稅金融相關',\n",
       " 'apply_major_資訊工程相關',\n",
       " 'apply_major_資訊管理相關',\n",
       " 'apply_major_醫務管理相關',\n",
       " 'apply_major_銀行保險相關',\n",
       " 'apply_major_電機電子工程相關',\n",
       " 'apply_major_電機電子維護相關',\n",
       " 'apply_major_食品營養相關',\n",
       " 'apply_major_食品科學相關',\n",
       " 'apply_major_餐旅服務相關',\n",
       " 'apply_major_體育相關',\n",
       " 'apply_education_不拘',\n",
       " 'apply_education_博碩士',\n",
       " 'apply_education_國中(含)以下',\n",
       " 'apply_education_大學',\n",
       " 'apply_education_專科',\n",
       " 'apply_education_無法判斷',\n",
       " 'apply_education_高中職',\n",
       " 'apply_age_20歲以下',\n",
       " 'apply_age_21~25歲',\n",
       " 'apply_age_26~30歲',\n",
       " 'apply_age_31~35歲',\n",
       " 'apply_age_36~40歲',\n",
       " 'apply_age_41~45歲',\n",
       " 'apply_age_46~50歲',\n",
       " 'apply_age_51~55歲',\n",
       " 'apply_age_56~60歲',\n",
       " 'apply_age_60歲以上',\n",
       " 'apply_exp_10~15年',\n",
       " 'apply_exp_15~20年',\n",
       " 'apply_exp_1~3年 ',\n",
       " 'apply_exp_1年以下',\n",
       " 'apply_exp_20~25年',\n",
       " 'apply_exp_25年以上',\n",
       " 'apply_exp_3~5年',\n",
       " 'apply_exp_5~10年',\n",
       " 'apply_exp_無工作經驗',\n",
       " 'apply_lang_其他_不會',\n",
       " 'apply_lang_其他_中等',\n",
       " 'apply_lang_其他_略懂',\n",
       " 'apply_lang_其他_精通',\n",
       " 'apply_lang_日文_不會',\n",
       " 'apply_lang_日文_中等',\n",
       " 'apply_lang_日文_略懂',\n",
       " 'apply_lang_日文_精通',\n",
       " 'apply_lang_英文_不會',\n",
       " 'apply_lang_英文_中等',\n",
       " 'apply_lang_英文_略懂',\n",
       " 'apply_lang_英文_精通',\n",
       " 'apply_lang_西班牙文_略懂',\n",
       " 'apply_lang_韓文_略懂',\n",
       " 'apply_skill_Adobe Photoshop',\n",
       " 'apply_skill_Android',\n",
       " 'apply_skill_AutoCAD',\n",
       " 'apply_skill_Excel',\n",
       " 'apply_skill_Illustrator',\n",
       " 'apply_skill_Internet Explorer',\n",
       " 'apply_skill_Outlook',\n",
       " 'apply_skill_PowerPoint',\n",
       " 'apply_skill_Windows 2000',\n",
       " 'apply_skill_Windows 7',\n",
       " 'apply_skill_Windows 98',\n",
       " 'apply_skill_Windows XP',\n",
       " 'apply_skill_Word',\n",
       " 'apply_skill_中文打字20~50',\n",
       " 'apply_skill_中文打字50~75',\n",
       " 'apply_skill_中文打字75~100',\n",
       " 'apply_skill_英文打字20~50',\n",
       " 'apply_skill_英文打字50~75',\n",
       " 'apply_cert_TOEIC (多益測驗)',\n",
       " 'apply_cert_TQC-OA-中文輸入',\n",
       " 'apply_cert_丙級中餐烹調技術士',\n",
       " 'apply_cert_丙級會計事務技術士',\n",
       " 'apply_cert_丙級烘焙食品技術士',\n",
       " 'apply_cert_丙級電腦軟體應用技術士',\n",
       " 'apply_cert_人身保險業務員',\n",
       " 'apply_cert_堆高機操作技術士',\n",
       " 'apply_cert_普通小型車駕照',\n",
       " 'apply_cert_普通重型機車駕照']"
      ]
     },
     "execution_count": 183,
     "metadata": {},
     "output_type": "execute_result"
    }
   ],
   "source": [
    "selected_column"
   ]
  },
  {
   "cell_type": "code",
   "execution_count": 184,
   "id": "6d568fb6",
   "metadata": {},
   "outputs": [
    {
     "data": {
      "text/plain": [
       "294"
      ]
     },
     "execution_count": 184,
     "metadata": {},
     "output_type": "execute_result"
    }
   ],
   "source": [
    "len(selected_column)"
   ]
  },
  {
   "cell_type": "markdown",
   "id": "02cb7d63-1fbf-4db8-8576-0a7bc5666886",
   "metadata": {},
   "source": [
    "## Split Train, Valid and Test"
   ]
  },
  {
   "cell_type": "code",
   "execution_count": 448,
   "id": "13fb69cb-dc45-471b-9117-1185295246bf",
   "metadata": {},
   "outputs": [],
   "source": [
    "from sklearn.model_selection import train_test_split\n",
    "X_train, X_test, y_train, y_test = train_test_split(X, data_y_numpy, test_size=0.2, random_state=42)\n",
    "X_subtrain, X_valid, y_subtrain, y_valid = train_test_split(X_train, y_train, test_size=0.2, random_state=1)"
   ]
  },
  {
   "cell_type": "code",
   "execution_count": 449,
   "id": "5ed619fb-b44e-4aef-b050-00c34d64fd00",
   "metadata": {},
   "outputs": [
    {
     "name": "stdout",
     "output_type": "stream",
     "text": [
      "X_train shape: (105299, 294)\n",
      "y_train shape: (105299, 2)\n",
      "X_valid shape: (21060, 294)\n",
      "X_subtrain shape: (84239, 294)\n",
      "y_subtrain shape: (84239, 2)\n",
      "y_valid shape: (21060, 2)\n",
      "X_test shape: (26325, 294)\n",
      "y_test shape: (26325, 2)\n"
     ]
    }
   ],
   "source": [
    "print('X_train shape:', X_train.shape)\n",
    "print('y_train shape:', y_train.shape)\n",
    "print('X_valid shape:', X_valid.shape)\n",
    "print('X_subtrain shape:', X_subtrain.shape)\n",
    "print('y_subtrain shape:', y_subtrain.shape)\n",
    "print('y_valid shape:', y_valid.shape)\n",
    "print('X_test shape:', X_test.shape)\n",
    "print('y_test shape:', y_test.shape)"
   ]
  },
  {
   "cell_type": "markdown",
   "id": "66a2bc27",
   "metadata": {},
   "source": [
    "## SGD"
   ]
  },
  {
   "cell_type": "code",
   "execution_count": null,
   "id": "154c6c83-f665-40ee-ac5b-b718fa4cf9a2",
   "metadata": {},
   "outputs": [],
   "source": [
    "from sklearn.linear_model import SGDRegressor\n",
    "from sklearn.multioutput import MultiOutputRegressor\n",
    "\n",
    "rmse_sgd = []\n",
    "sgd_lr = [0.00001, 0.0001, 0.0005, 0.001, 0.005, 0.01, 0.02, 0.05, 0.1, 1]\n",
    "\n",
    "for i in sgd_lr:\n",
    "    sgd =  MultiOutputRegressor(SGDRegressor(alpha=i, max_iter=10000))\n",
    "    sgd.fit(X_subtrain, y_subtrain)\n",
    "    ypred = sgd.predict(X_valid)\n",
    "    rmse = 0\n",
    "    for j in range(2):\n",
    "        rmse += np.mean(np.square(y_valid[:, j] - ypred[:, j])) ** 0.5\n",
    "    rmse_sgd.append(rmse/2)\n"
   ]
  },
  {
   "cell_type": "code",
   "execution_count": null,
   "id": "3dac11f4",
   "metadata": {},
   "outputs": [
    {
     "data": {
      "text/plain": [
       "array([[30764.1098104 , 42536.70547343],\n",
       "       [29490.68344829, 39042.05902386],\n",
       "       [30390.53745925, 44659.06020852],\n",
       "       ...,\n",
       "       [30319.45830716, 39933.48137025],\n",
       "       [30364.20558884, 42095.09266827],\n",
       "       [30987.4958655 , 46044.82173908]])"
      ]
     },
     "execution_count": 124,
     "metadata": {},
     "output_type": "execute_result"
    }
   ],
   "source": [
    "ypred"
   ]
  },
  {
   "cell_type": "code",
   "execution_count": null,
   "id": "b3e6cab2",
   "metadata": {},
   "outputs": [
    {
     "data": {
      "text/plain": [
       "[12091.294694761506,\n",
       " 12042.12948344804,\n",
       " 12215.146396576392,\n",
       " 12169.90763911824,\n",
       " 12038.392434046287,\n",
       " 12094.10339201061,\n",
       " 12482.324706141848,\n",
       " 12718.455622400093,\n",
       " 12697.421115341698,\n",
       " 13443.673531665438]"
      ]
     },
     "execution_count": 125,
     "metadata": {},
     "output_type": "execute_result"
    }
   ],
   "source": [
    "rmse_sgd"
   ]
  },
  {
   "cell_type": "code",
   "execution_count": 126,
   "id": "75842271",
   "metadata": {},
   "outputs": [],
   "source": [
    "sgd_index = np.argmin(rmse_sgd)\n",
    "best_alpha = sgd_lr[sgd_index]"
   ]
  },
  {
   "cell_type": "code",
   "execution_count": 127,
   "id": "385c3e45",
   "metadata": {},
   "outputs": [],
   "source": [
    "best_sgd = MultiOutputRegressor(SGDRegressor(alpha=best_alpha, max_iter=100000))\n",
    "best_sgd.fit(X_train, y_train)\n",
    "ypred = best_sgd.predict(X_test)\n",
    "rmse_1 = 0\n",
    "rmse_2 = 0\n",
    "\n",
    "mae_1 = np.mean(np.abs(y_test[:, 0] - ypred[:, 0]))\n",
    "mae_2 = np.mean(np.abs(y_test[:, 1] - ypred[:, 1]))\n",
    "\n",
    "rmse_1 += np.mean(np.square(y_test[:, 0] - ypred[:, 0])) ** 0.5\n",
    "rmse_2 += np.mean(np.square(y_test[:, 1] - ypred[:, 1])) ** 0.5\n"
   ]
  },
  {
   "cell_type": "code",
   "execution_count": 128,
   "id": "fefb4332",
   "metadata": {},
   "outputs": [
    {
     "data": {
      "text/plain": [
       "(5419.29122846416, 18625.240363631197, 3304.4601506113318, 9652.589776071136)"
      ]
     },
     "execution_count": 128,
     "metadata": {},
     "output_type": "execute_result"
    }
   ],
   "source": [
    "rmse_1, rmse_2, mae_1, mae_2"
   ]
  },
  {
   "cell_type": "markdown",
   "id": "955c4ad5",
   "metadata": {},
   "source": [
    "## KNN"
   ]
  },
  {
   "cell_type": "code",
   "execution_count": 129,
   "id": "6c381790",
   "metadata": {},
   "outputs": [],
   "source": [
    "from sklearn.neighbors import KNeighborsRegressor\n",
    "\n",
    "rmse_knn = []\n",
    "knn_nei = [2, 3, 4 ,5, 6, 7, 8, 10, 20, 40, 80, 160]\n",
    "\n",
    "for i in knn_nei:\n",
    "    knn =  MultiOutputRegressor(KNeighborsRegressor(n_neighbors=i))\n",
    "    knn.fit(X_subtrain, y_subtrain)\n",
    "    ypred = knn.predict(X_valid)\n",
    "    rmse = 0\n",
    "    for j in range(2):\n",
    "        rmse += np.mean(np.square(y_valid[:, j] - ypred[:, j])) ** 0.5\n",
    "    rmse_knn.append(rmse/2)"
   ]
  },
  {
   "cell_type": "code",
   "execution_count": 130,
   "id": "e03c2bbc",
   "metadata": {},
   "outputs": [
    {
     "data": {
      "text/plain": [
       "[11577.772320034488,\n",
       " 11315.537914070548,\n",
       " 11233.47011789926,\n",
       " 11229.103328651789,\n",
       " 11213.254854377787,\n",
       " 11239.546127139409,\n",
       " 11260.244233799482,\n",
       " 11365.349758931909,\n",
       " 11594.456103616512,\n",
       " 11978.761793420652,\n",
       " 12334.41375771492,\n",
       " 12670.299786767293]"
      ]
     },
     "execution_count": 130,
     "metadata": {},
     "output_type": "execute_result"
    }
   ],
   "source": [
    "rmse_knn"
   ]
  },
  {
   "cell_type": "code",
   "execution_count": 131,
   "id": "ba78f794",
   "metadata": {},
   "outputs": [],
   "source": [
    "knn_index = np.argmin(rmse_knn)\n",
    "best_alpha = knn_nei[knn_index]"
   ]
  },
  {
   "cell_type": "code",
   "execution_count": 132,
   "id": "adccf469",
   "metadata": {},
   "outputs": [],
   "source": [
    "best_knn = MultiOutputRegressor(KNeighborsRegressor(n_neighbors=best_alpha))\n",
    "best_knn.fit(X_train, y_train)\n",
    "ypred = best_knn.predict(X_test)\n",
    "rmse_1 = 0\n",
    "rmse_2 = 0\n",
    "\n",
    "mae_1 = np.mean(np.abs(y_test[:, 0] - ypred[:, 0]))\n",
    "mae_2 = np.mean(np.abs(y_test[:, 1] - ypred[:, 1]))\n",
    "\n",
    "rmse_1 += np.mean(np.square(y_test[:, 0] - ypred[:, 0])) ** 0.5\n",
    "rmse_2 += np.mean(np.square(y_test[:, 1] - ypred[:, 1])) ** 0.5\n",
    "\n"
   ]
  },
  {
   "cell_type": "code",
   "execution_count": 133,
   "id": "5c43803f",
   "metadata": {},
   "outputs": [
    {
     "data": {
      "text/plain": [
       "(5399.1248580577885, 16183.979516345938, 3115.948698955366, 8246.23182652738)"
      ]
     },
     "execution_count": 133,
     "metadata": {},
     "output_type": "execute_result"
    }
   ],
   "source": [
    "rmse_1, rmse_2, mae_1, mae_2"
   ]
  },
  {
   "cell_type": "markdown",
   "id": "9a0d3b5c",
   "metadata": {},
   "source": [
    "## Gradient Tree Boosting"
   ]
  },
  {
   "cell_type": "markdown",
   "id": "80bf5e28",
   "metadata": {},
   "source": [
    "Threshold = 0.99"
   ]
  },
  {
   "cell_type": "markdown",
   "id": "b96313cc",
   "metadata": {},
   "source": [
    "max_depth = 5"
   ]
  },
  {
   "cell_type": "code",
   "execution_count": null,
   "id": "01a13a96",
   "metadata": {},
   "outputs": [],
   "source": [
    "from sklearn.ensemble import GradientBoostingRegressor\n",
    "from sklearn.multioutput import MultiOutputRegressor\n",
    "rmse_gb = []\n",
    "n_estimators = [200, 400, 600, 800, 1000, 1200, 1500, 2000, 2500]\n",
    "\n",
    "\n",
    "for i in n_estimators:\n",
    "    gb =  MultiOutputRegressor(GradientBoostingRegressor(n_estimators=i, max_depth=5))\n",
    "    gb.fit(X_subtrain, y_subtrain)\n",
    "    ypred = gb.predict(X_valid)\n",
    "    rmse = 0\n",
    "    for j in range(2):\n",
    "        rmse += np.mean(np.square(y_valid[:, j] - ypred[:, j])) ** 0.5\n",
    "    rmse_gb.append(rmse/2)\n"
   ]
  },
  {
   "cell_type": "code",
   "execution_count": 14,
   "id": "fc869e07",
   "metadata": {},
   "outputs": [
    {
     "data": {
      "text/plain": [
       "[9471.567561328211, 9410.701879392233]"
      ]
     },
     "execution_count": 14,
     "metadata": {},
     "output_type": "execute_result"
    }
   ],
   "source": [
    "rmse_gb"
   ]
  },
  {
   "cell_type": "code",
   "execution_count": 15,
   "id": "8f40d2be",
   "metadata": {},
   "outputs": [],
   "source": [
    "gb_index = np.argmin(rmse_gb)\n",
    "best_alpha = n_estimators[gb_index]"
   ]
  },
  {
   "cell_type": "code",
   "execution_count": 16,
   "id": "ea6ef23c",
   "metadata": {},
   "outputs": [],
   "source": [
    "best_gb =  MultiOutputRegressor(GradientBoostingRegressor(n_estimators=best_alpha, max_depth=5))\n",
    "best_gb.fit(X_train, y_train)\n",
    "ypred = best_gb.predict(X_test)\n",
    "\n",
    "rmse_1 = 0\n",
    "rmse_2 = 0\n",
    "\n",
    "mae_1 = np.mean(np.abs(y_test[:, 0] - ypred[:, 0]))\n",
    "mae_2 = np.mean(np.abs(y_test[:, 1] - ypred[:, 1]))\n",
    "\n",
    "rmse_1 += np.mean(np.square(y_test[:, 0] - ypred[:, 0])) ** 0.5\n",
    "rmse_2 += np.mean(np.square(y_test[:, 1] - ypred[:, 1])) ** 0.5"
   ]
  },
  {
   "cell_type": "code",
   "execution_count": 17,
   "id": "a6a54d47",
   "metadata": {},
   "outputs": [
    {
     "data": {
      "text/plain": [
       "(4636.891432497217, 13696.120302662277, 2753.464853632676, 7259.781706352788)"
      ]
     },
     "execution_count": 17,
     "metadata": {},
     "output_type": "execute_result"
    }
   ],
   "source": [
    "rmse_1, rmse_2, mae_1, mae_2"
   ]
  },
  {
   "cell_type": "markdown",
   "id": "700e9be8",
   "metadata": {},
   "source": [
    "max_depth = 7"
   ]
  },
  {
   "cell_type": "code",
   "execution_count": null,
   "id": "a2470ea8",
   "metadata": {},
   "outputs": [],
   "source": [
    "from sklearn.ensemble import GradientBoostingRegressor\n",
    "\n",
    "rmse_gb = []\n",
    "n_estimators = [200, 400, 600, 800, 1000, 1200, 1500, 2000, 2500]\n",
    "\n",
    "\n",
    "for i in n_estimators:\n",
    "    print(i)\n",
    "    gb =  MultiOutputRegressor(GradientBoostingRegressor(n_estimators=i, max_depth=7))\n",
    "    gb.fit(X_subtrain, y_subtrain)\n",
    "    ypred = gb.predict(X_valid)\n",
    "    rmse = 0\n",
    "    for j in range(2):\n",
    "        rmse += np.mean(np.square(y_valid[:, j] - ypred[:, j])) ** 0.5\n",
    "    rmse_gb.append(rmse/2)\n"
   ]
  },
  {
   "cell_type": "code",
   "execution_count": 19,
   "id": "fbd87999",
   "metadata": {},
   "outputs": [
    {
     "data": {
      "text/plain": [
       "[9316.836771563181, 9309.137532942896]"
      ]
     },
     "execution_count": 19,
     "metadata": {},
     "output_type": "execute_result"
    }
   ],
   "source": [
    "rmse_gb"
   ]
  },
  {
   "cell_type": "code",
   "execution_count": 20,
   "id": "e10d93ea",
   "metadata": {},
   "outputs": [],
   "source": [
    "gb_index = np.argmin(rmse_gb)\n",
    "best_alpha = n_estimators[gb_index]"
   ]
  },
  {
   "cell_type": "code",
   "execution_count": 21,
   "id": "c6e9891c",
   "metadata": {},
   "outputs": [],
   "source": [
    "best_gb =  MultiOutputRegressor(GradientBoostingRegressor(n_estimators=best_alpha, max_depth=7))\n",
    "best_gb.fit(X_train, y_train)\n",
    "ypred = best_gb.predict(X_test)\n",
    "\n",
    "rmse_1 = 0\n",
    "rmse_2 = 0\n",
    "\n",
    "mae_1 = np.mean(np.abs(y_test[:, 0] - ypred[:, 0]))\n",
    "mae_2 = np.mean(np.abs(y_test[:, 1] - ypred[:, 1]))\n",
    "\n",
    "rmse_1 += np.mean(np.square(y_test[:, 0] - ypred[:, 0])) ** 0.5\n",
    "rmse_2 += np.mean(np.square(y_test[:, 1] - ypred[:, 1])) ** 0.5"
   ]
  },
  {
   "cell_type": "code",
   "execution_count": 48,
   "id": "76141076",
   "metadata": {},
   "outputs": [
    {
     "name": "stdout",
     "output_type": "stream",
     "text": [
      "Salarymin RMSE 4508.970825328306\n",
      "Salarymax RMSE 13269.581930344117\n",
      "Salarymin MAE 2628.2377452636642\n",
      "Salarymax MAE 6801.0722691006995\n"
     ]
    }
   ],
   "source": [
    "\n",
    "print(\"Salarymin RMSE\", rmse_1)\n",
    "print(\"Salarymax RMSE\", rmse_2)\n",
    "print(\"Salarymin MAE\", mae_1)\n",
    "print(\"Salarymax MAE\", mae_2)"
   ]
  },
  {
   "cell_type": "code",
   "execution_count": 36,
   "id": "bbf1fbdd",
   "metadata": {},
   "outputs": [],
   "source": [
    "feature_importance = []\n",
    "for models in best_gb.estimators_:\n",
    "    feature_importance.append(models.feature_importances_)\n",
    "\n",
    "\n"
   ]
  },
  {
   "cell_type": "markdown",
   "id": "0356e160",
   "metadata": {},
   "source": [
    "前二十大重要特徵-min"
   ]
  },
  {
   "cell_type": "code",
   "execution_count": 44,
   "id": "5cff1e0e",
   "metadata": {},
   "outputs": [],
   "source": [
    "import heapq\n",
    "feature_importance = list(feature_importance)\n",
    "\n",
    "most_important_index_list = map(list(feature_importance[0]).index, heapq.nlargest(20, feature_importance[0]))\n",
    "most_important_index_list = list(most_important_index_list)\n",
    "\n",
    "feature_list_twenty = []\n",
    "coefficient_list = []\n",
    "for i in range(20):\n",
    "    feature_list_twenty.append(selected_column[most_important_index_list[i]])\n",
    "    coefficient_list.append(feature_importance[0][most_important_index_list[i]])\n",
    "top20_min = pd.DataFrame({'feature':feature_list_twenty, 'importance':coefficient_list})"
   ]
  },
  {
   "cell_type": "code",
   "execution_count": 45,
   "id": "c8573869",
   "metadata": {},
   "outputs": [
    {
     "data": {
      "text/html": [
       "<div>\n",
       "<style scoped>\n",
       "    .dataframe tbody tr th:only-of-type {\n",
       "        vertical-align: middle;\n",
       "    }\n",
       "\n",
       "    .dataframe tbody tr th {\n",
       "        vertical-align: top;\n",
       "    }\n",
       "\n",
       "    .dataframe thead th {\n",
       "        text-align: right;\n",
       "    }\n",
       "</style>\n",
       "<table border=\"1\" class=\"dataframe\">\n",
       "  <thead>\n",
       "    <tr style=\"text-align: right;\">\n",
       "      <th></th>\n",
       "      <th>feature</th>\n",
       "      <th>importance</th>\n",
       "    </tr>\n",
       "  </thead>\n",
       "  <tbody>\n",
       "    <tr>\n",
       "      <th>0</th>\n",
       "      <td>welfare</td>\n",
       "      <td>0.140481</td>\n",
       "    </tr>\n",
       "    <tr>\n",
       "      <th>1</th>\n",
       "      <td>jobDescription</td>\n",
       "      <td>0.115157</td>\n",
       "    </tr>\n",
       "    <tr>\n",
       "      <th>2</th>\n",
       "      <td>other</td>\n",
       "      <td>0.047798</td>\n",
       "    </tr>\n",
       "    <tr>\n",
       "      <th>3</th>\n",
       "      <td>apply_male_ratio</td>\n",
       "      <td>0.036382</td>\n",
       "    </tr>\n",
       "    <tr>\n",
       "      <th>4</th>\n",
       "      <td>appearDate</td>\n",
       "      <td>0.029660</td>\n",
       "    </tr>\n",
       "    <tr>\n",
       "      <th>5</th>\n",
       "      <td>enviornmentPic</td>\n",
       "      <td>0.022279</td>\n",
       "    </tr>\n",
       "    <tr>\n",
       "      <th>6</th>\n",
       "      <td>jobCategory_軟體設計工程師</td>\n",
       "      <td>0.017764</td>\n",
       "    </tr>\n",
       "    <tr>\n",
       "      <th>7</th>\n",
       "      <td>edu_大學以上</td>\n",
       "      <td>0.016219</td>\n",
       "    </tr>\n",
       "    <tr>\n",
       "      <th>8</th>\n",
       "      <td>jobCategory_門市／店員／專櫃人員</td>\n",
       "      <td>0.014835</td>\n",
       "    </tr>\n",
       "    <tr>\n",
       "      <th>9</th>\n",
       "      <td>apply_lang_英文_精通</td>\n",
       "      <td>0.013741</td>\n",
       "    </tr>\n",
       "    <tr>\n",
       "      <th>10</th>\n",
       "      <td>edu_專科以上</td>\n",
       "      <td>0.012507</td>\n",
       "    </tr>\n",
       "    <tr>\n",
       "      <th>11</th>\n",
       "      <td>jobCategory_保全人員／警衛</td>\n",
       "      <td>0.011544</td>\n",
       "    </tr>\n",
       "    <tr>\n",
       "      <th>12</th>\n",
       "      <td>industry_診所</td>\n",
       "      <td>0.010742</td>\n",
       "    </tr>\n",
       "    <tr>\n",
       "      <th>13</th>\n",
       "      <td>adressArea_台北市</td>\n",
       "      <td>0.009787</td>\n",
       "    </tr>\n",
       "    <tr>\n",
       "      <th>14</th>\n",
       "      <td>jobCategory_小客車／計程車及小貨車司機</td>\n",
       "      <td>0.009386</td>\n",
       "    </tr>\n",
       "    <tr>\n",
       "      <th>15</th>\n",
       "      <td>workPeriod</td>\n",
       "      <td>0.009335</td>\n",
       "    </tr>\n",
       "    <tr>\n",
       "      <th>16</th>\n",
       "      <td>adressArea_高雄市</td>\n",
       "      <td>0.009300</td>\n",
       "    </tr>\n",
       "    <tr>\n",
       "      <th>17</th>\n",
       "      <td>industry_醫院</td>\n",
       "      <td>0.008938</td>\n",
       "    </tr>\n",
       "    <tr>\n",
       "      <th>18</th>\n",
       "      <td>adressArea_彰化縣</td>\n",
       "      <td>0.008615</td>\n",
       "    </tr>\n",
       "    <tr>\n",
       "      <th>19</th>\n",
       "      <td>businessTrip</td>\n",
       "      <td>0.008379</td>\n",
       "    </tr>\n",
       "  </tbody>\n",
       "</table>\n",
       "</div>"
      ],
      "text/plain": [
       "                      feature  importance\n",
       "0                     welfare    0.140481\n",
       "1              jobDescription    0.115157\n",
       "2                       other    0.047798\n",
       "3            apply_male_ratio    0.036382\n",
       "4                  appearDate    0.029660\n",
       "5              enviornmentPic    0.022279\n",
       "6         jobCategory_軟體設計工程師    0.017764\n",
       "7                    edu_大學以上    0.016219\n",
       "8      jobCategory_門市／店員／專櫃人員    0.014835\n",
       "9            apply_lang_英文_精通    0.013741\n",
       "10                   edu_專科以上    0.012507\n",
       "11        jobCategory_保全人員／警衛    0.011544\n",
       "12                industry_診所    0.010742\n",
       "13             adressArea_台北市    0.009787\n",
       "14  jobCategory_小客車／計程車及小貨車司機    0.009386\n",
       "15                 workPeriod    0.009335\n",
       "16             adressArea_高雄市    0.009300\n",
       "17                industry_醫院    0.008938\n",
       "18             adressArea_彰化縣    0.008615\n",
       "19               businessTrip    0.008379"
      ]
     },
     "execution_count": 45,
     "metadata": {},
     "output_type": "execute_result"
    }
   ],
   "source": [
    "top20_min"
   ]
  },
  {
   "cell_type": "code",
   "execution_count": 363,
   "id": "5b5926e5",
   "metadata": {},
   "outputs": [
    {
     "data": {
      "image/png": "[encoded data removed]",
      "text/plain": [
       "<Figure size 1000x800 with 1 Axes>"
      ]
     },
     "metadata": {},
     "output_type": "display_data"
    }
   ],
   "source": [
    "import matplotlib.pyplot as plt\n",
    "from matplotlib.font_manager import FontProperties\n",
    "\n",
    "rank = list(range(1, 21))\n",
    "rank.reverse()\n",
    "\n",
    "font = FontProperties(fname=\"SimHei.ttf\", size=14)\n",
    "\n",
    "plt.figure(figsize=(10, 8))\n",
    "plt.barh(rank, top20_min['importance'])\n",
    "plt.yticks(rank, top20_min['feature'], fontproperties=font)\n",
    "plt.title('Feature Importance of Salary Min')\n",
    "plt.show()"
   ]
  },
  {
   "cell_type": "markdown",
   "id": "09d8f033",
   "metadata": {},
   "source": [
    "前二十大重要特徵-max"
   ]
  },
  {
   "cell_type": "code",
   "execution_count": 46,
   "id": "52ee5bca",
   "metadata": {},
   "outputs": [],
   "source": [
    "import heapq\n",
    "feature_importance = list(feature_importance)\n",
    "\n",
    "most_important_index_list = map(list(feature_importance[1]).index, heapq.nlargest(20, feature_importance[1]))\n",
    "most_important_index_list = list(most_important_index_list)\n",
    "\n",
    "feature_list_twenty = []\n",
    "coefficient_list = []\n",
    "for i in range(20):\n",
    "    feature_list_twenty.append(selected_column[most_important_index_list[i]])\n",
    "    coefficient_list.append(feature_importance[1][most_important_index_list[i]])\n",
    "top20_max = pd.DataFrame({'feature':feature_list_twenty, 'importance':coefficient_list})"
   ]
  },
  {
   "cell_type": "code",
   "execution_count": 47,
   "id": "240a198b",
   "metadata": {},
   "outputs": [
    {
     "data": {
      "text/html": [
       "<div>\n",
       "<style scoped>\n",
       "    .dataframe tbody tr th:only-of-type {\n",
       "        vertical-align: middle;\n",
       "    }\n",
       "\n",
       "    .dataframe tbody tr th {\n",
       "        vertical-align: top;\n",
       "    }\n",
       "\n",
       "    .dataframe thead th {\n",
       "        text-align: right;\n",
       "    }\n",
       "</style>\n",
       "<table border=\"1\" class=\"dataframe\">\n",
       "  <thead>\n",
       "    <tr style=\"text-align: right;\">\n",
       "      <th></th>\n",
       "      <th>feature</th>\n",
       "      <th>importance</th>\n",
       "    </tr>\n",
       "  </thead>\n",
       "  <tbody>\n",
       "    <tr>\n",
       "      <th>0</th>\n",
       "      <td>jobDescription</td>\n",
       "      <td>0.116016</td>\n",
       "    </tr>\n",
       "    <tr>\n",
       "      <th>1</th>\n",
       "      <td>jobCategory_國內業務人員</td>\n",
       "      <td>0.096391</td>\n",
       "    </tr>\n",
       "    <tr>\n",
       "      <th>2</th>\n",
       "      <td>welfare</td>\n",
       "      <td>0.078987</td>\n",
       "    </tr>\n",
       "    <tr>\n",
       "      <th>3</th>\n",
       "      <td>industry_運動服務業</td>\n",
       "      <td>0.064882</td>\n",
       "    </tr>\n",
       "    <tr>\n",
       "      <th>4</th>\n",
       "      <td>other</td>\n",
       "      <td>0.058984</td>\n",
       "    </tr>\n",
       "    <tr>\n",
       "      <th>5</th>\n",
       "      <td>edu_不拘</td>\n",
       "      <td>0.031295</td>\n",
       "    </tr>\n",
       "    <tr>\n",
       "      <th>6</th>\n",
       "      <td>appearDate</td>\n",
       "      <td>0.027950</td>\n",
       "    </tr>\n",
       "    <tr>\n",
       "      <th>7</th>\n",
       "      <td>edu_高中以上</td>\n",
       "      <td>0.027452</td>\n",
       "    </tr>\n",
       "    <tr>\n",
       "      <th>8</th>\n",
       "      <td>enviornmentPic</td>\n",
       "      <td>0.026824</td>\n",
       "    </tr>\n",
       "    <tr>\n",
       "      <th>9</th>\n",
       "      <td>industry_不動產經營業</td>\n",
       "      <td>0.021856</td>\n",
       "    </tr>\n",
       "    <tr>\n",
       "      <th>10</th>\n",
       "      <td>jobCategory_美容工作者</td>\n",
       "      <td>0.018604</td>\n",
       "    </tr>\n",
       "    <tr>\n",
       "      <th>11</th>\n",
       "      <td>apply_male_ratio</td>\n",
       "      <td>0.015835</td>\n",
       "    </tr>\n",
       "    <tr>\n",
       "      <th>12</th>\n",
       "      <td>jobCategory_軟體設計工程師</td>\n",
       "      <td>0.014254</td>\n",
       "    </tr>\n",
       "    <tr>\n",
       "      <th>13</th>\n",
       "      <td>businessTrip</td>\n",
       "      <td>0.013534</td>\n",
       "    </tr>\n",
       "    <tr>\n",
       "      <th>14</th>\n",
       "      <td>jobCategory_電話行銷人員</td>\n",
       "      <td>0.013502</td>\n",
       "    </tr>\n",
       "    <tr>\n",
       "      <th>15</th>\n",
       "      <td>adressArea_桃園市</td>\n",
       "      <td>0.013417</td>\n",
       "    </tr>\n",
       "    <tr>\n",
       "      <th>16</th>\n",
       "      <td>jobCategory_門市／店員／專櫃人員</td>\n",
       "      <td>0.010746</td>\n",
       "    </tr>\n",
       "    <tr>\n",
       "      <th>17</th>\n",
       "      <td>jobCategory_產品行銷人員</td>\n",
       "      <td>0.010198</td>\n",
       "    </tr>\n",
       "    <tr>\n",
       "      <th>18</th>\n",
       "      <td>workPeriod</td>\n",
       "      <td>0.008234</td>\n",
       "    </tr>\n",
       "    <tr>\n",
       "      <th>19</th>\n",
       "      <td>edu_大學以上</td>\n",
       "      <td>0.006471</td>\n",
       "    </tr>\n",
       "  </tbody>\n",
       "</table>\n",
       "</div>"
      ],
      "text/plain": [
       "                   feature  importance\n",
       "0           jobDescription    0.116016\n",
       "1       jobCategory_國內業務人員    0.096391\n",
       "2                  welfare    0.078987\n",
       "3           industry_運動服務業    0.064882\n",
       "4                    other    0.058984\n",
       "5                   edu_不拘    0.031295\n",
       "6               appearDate    0.027950\n",
       "7                 edu_高中以上    0.027452\n",
       "8           enviornmentPic    0.026824\n",
       "9          industry_不動產經營業    0.021856\n",
       "10       jobCategory_美容工作者    0.018604\n",
       "11        apply_male_ratio    0.015835\n",
       "12     jobCategory_軟體設計工程師    0.014254\n",
       "13            businessTrip    0.013534\n",
       "14      jobCategory_電話行銷人員    0.013502\n",
       "15          adressArea_桃園市    0.013417\n",
       "16  jobCategory_門市／店員／專櫃人員    0.010746\n",
       "17      jobCategory_產品行銷人員    0.010198\n",
       "18              workPeriod    0.008234\n",
       "19                edu_大學以上    0.006471"
      ]
     },
     "execution_count": 47,
     "metadata": {},
     "output_type": "execute_result"
    }
   ],
   "source": [
    "top20_max"
   ]
  },
  {
   "cell_type": "code",
   "execution_count": 374,
   "id": "a6241274",
   "metadata": {},
   "outputs": [
    {
     "data": {
      "image/png": "[encoded data removed]",
      "text/plain": [
       "<Figure size 1000x800 with 1 Axes>"
      ]
     },
     "metadata": {},
     "output_type": "display_data"
    }
   ],
   "source": [
    "import matplotlib.pyplot as plt\n",
    "from matplotlib.font_manager import FontProperties\n",
    "\n",
    "rank = list(range(1, 21))\n",
    "rank.reverse()\n",
    "\n",
    "font = FontProperties(fname=\"SimHei.ttf\", size=14)\n",
    "\n",
    "plt.figure(figsize=(10, 8))\n",
    "plt.barh(rank, top20_max['importance'])\n",
    "plt.yticks(rank, top20_max['feature'], fontproperties=font)\n",
    "plt.title('Feature Importance of Salary Max')\n",
    "plt.show()"
   ]
  },
  {
   "cell_type": "markdown",
   "id": "975a3e1b",
   "metadata": {},
   "source": [
    "Threshold = 0.9"
   ]
  },
  {
   "cell_type": "code",
   "execution_count": null,
   "id": "2a4c7d33",
   "metadata": {},
   "outputs": [],
   "source": [
    "gb =  MultiOutputRegressor(GradientBoostingRegressor(n_estimators=2500, max_depth=7))\n",
    "gb.fit(X_train, y_train)\n"
   ]
  },
  {
   "cell_type": "code",
   "execution_count": 157,
   "id": "73eca919",
   "metadata": {},
   "outputs": [],
   "source": [
    "ypred = gb.predict(X_test)\n",
    "\n",
    "rmse_1 = 0\n",
    "rmse_2 = 0\n",
    "\n",
    "mae_1 = np.mean(np.abs(y_test[:, 0] - ypred[:, 0]))\n",
    "mae_2 = np.mean(np.abs(y_test[:, 1] - ypred[:, 1]))\n",
    "\n",
    "rmse_1 += np.mean(np.square(y_test[:, 0] - ypred[:, 0])) ** 0.5\n",
    "rmse_2 += np.mean(np.square(y_test[:, 1] - ypred[:, 1])) ** 0.5"
   ]
  },
  {
   "cell_type": "code",
   "execution_count": 158,
   "id": "54e5b51f",
   "metadata": {},
   "outputs": [
    {
     "name": "stdout",
     "output_type": "stream",
     "text": [
      "Salarymin RMSE 4935.447440130786\n",
      "Salarymax RMSE 14809.656997530328\n",
      "Salarymin MAE 2920.92458740076\n",
      "Salarymax MAE 7866.999540725796\n"
     ]
    }
   ],
   "source": [
    "print(\"Salarymin RMSE\", rmse_1)\n",
    "print(\"Salarymax RMSE\", rmse_2)\n",
    "print(\"Salarymin MAE\", mae_1)\n",
    "print(\"Salarymax MAE\", mae_2)"
   ]
  },
  {
   "cell_type": "markdown",
   "id": "fd6871d5",
   "metadata": {},
   "source": [
    "Threshold = 0.95"
   ]
  },
  {
   "cell_type": "code",
   "execution_count": 167,
   "id": "340bfb59",
   "metadata": {},
   "outputs": [],
   "source": [
    "gb =  MultiOutputRegressor(GradientBoostingRegressor(n_estimators=2500, max_depth=7))\n",
    "gb.fit(X_train, y_train)\n",
    "ypred = gb.predict(X_test)\n",
    "\n",
    "rmse_1 = 0\n",
    "rmse_2 = 0\n",
    "\n",
    "mae_1 = np.mean(np.abs(y_test[:, 0] - ypred[:, 0]))\n",
    "mae_2 = np.mean(np.abs(y_test[:, 1] - ypred[:, 1]))\n",
    "\n",
    "rmse_1 += np.mean(np.square(y_test[:, 0] - ypred[:, 0])) ** 0.5\n",
    "rmse_2 += np.mean(np.square(y_test[:, 1] - ypred[:, 1])) ** 0.5"
   ]
  },
  {
   "cell_type": "code",
   "execution_count": 168,
   "id": "694744c4",
   "metadata": {},
   "outputs": [
    {
     "name": "stdout",
     "output_type": "stream",
     "text": [
      "Salarymin RMSE 4806.874942897255\n",
      "Salarymax RMSE 14003.8679603651\n",
      "Salarymin MAE 2859.022060908901\n",
      "Salarymax MAE 7441.962645274396\n"
     ]
    }
   ],
   "source": [
    "print(\"Salarymin RMSE\", rmse_1)\n",
    "print(\"Salarymax RMSE\", rmse_2)\n",
    "print(\"Salarymin MAE\", mae_1)\n",
    "print(\"Salarymax MAE\", mae_2)"
   ]
  },
  {
   "cell_type": "markdown",
   "id": "dccf76cb",
   "metadata": {},
   "source": [
    "Threshold = 0.975"
   ]
  },
  {
   "cell_type": "code",
   "execution_count": 177,
   "id": "a6730f70",
   "metadata": {},
   "outputs": [],
   "source": [
    "gb =  MultiOutputRegressor(GradientBoostingRegressor(n_estimators=2500, max_depth=7))\n",
    "gb.fit(X_train, y_train)\n",
    "ypred = gb.predict(X_test)\n",
    "\n",
    "rmse_1 = 0\n",
    "rmse_2 = 0\n",
    "\n",
    "mae_1 = np.mean(np.abs(y_test[:, 0] - ypred[:, 0]))\n",
    "mae_2 = np.mean(np.abs(y_test[:, 1] - ypred[:, 1]))\n",
    "\n",
    "rmse_1 += np.mean(np.square(y_test[:, 0] - ypred[:, 0])) ** 0.5\n",
    "rmse_2 += np.mean(np.square(y_test[:, 1] - ypred[:, 1])) ** 0.5"
   ]
  },
  {
   "cell_type": "code",
   "execution_count": 178,
   "id": "dd635622",
   "metadata": {},
   "outputs": [
    {
     "name": "stdout",
     "output_type": "stream",
     "text": [
      "Salarymin RMSE 4808.581973713453\n",
      "Salarymax RMSE 13997.610498936361\n",
      "Salarymin MAE 2782.469824527996\n",
      "Salarymax MAE 7322.020772848027\n"
     ]
    }
   ],
   "source": [
    "print(\"Salarymin RMSE\", rmse_1)\n",
    "print(\"Salarymax RMSE\", rmse_2)\n",
    "print(\"Salarymin MAE\", mae_1)\n",
    "print(\"Salarymax MAE\", mae_2)"
   ]
  },
  {
   "cell_type": "markdown",
   "id": "9406ae6a",
   "metadata": {},
   "source": [
    "模型結果視覺化"
   ]
  },
  {
   "cell_type": "code",
   "execution_count": 187,
   "id": "0801ed61",
   "metadata": {},
   "outputs": [],
   "source": [
    "ypred = best_gb.predict(X_test)\n",
    "\n",
    "rmse_1 = 0\n",
    "rmse_2 = 0\n",
    "\n",
    "mae_1 = np.mean(np.abs(y_test[:, 0] - ypred[:, 0]))\n",
    "mae_2 = np.mean(np.abs(y_test[:, 1] - ypred[:, 1]))\n",
    "\n",
    "rmse_1 += np.mean(np.square(y_test[:, 0] - ypred[:, 0])) ** 0.5\n",
    "rmse_2 += np.mean(np.square(y_test[:, 1] - ypred[:, 1])) ** 0.5"
   ]
  },
  {
   "cell_type": "code",
   "execution_count": 188,
   "id": "4bfc60b9",
   "metadata": {},
   "outputs": [
    {
     "name": "stdout",
     "output_type": "stream",
     "text": [
      "Salarymin RMSE 4508.970825328306\n",
      "Salarymax RMSE 13269.581930344117\n",
      "Salarymin MAE 2628.2377452636642\n",
      "Salarymax MAE 6801.0722691006995\n"
     ]
    }
   ],
   "source": [
    "print(\"Salarymin RMSE\", rmse_1)\n",
    "print(\"Salarymax RMSE\", rmse_2)\n",
    "print(\"Salarymin MAE\", mae_1)\n",
    "print(\"Salarymax MAE\", mae_2)"
   ]
  },
  {
   "cell_type": "markdown",
   "id": "79ed5ed4",
   "metadata": {},
   "source": [
    "結果散點圖"
   ]
  },
  {
   "cell_type": "code",
   "execution_count": 269,
   "id": "0aa99379",
   "metadata": {},
   "outputs": [
    {
     "data": {
      "text/plain": [
       "<function matplotlib.pyplot.show(close=None, block=None)>"
      ]
     },
     "execution_count": 269,
     "metadata": {},
     "output_type": "execute_result"
    },
    {
     "data": {
      "image/png": "[encoded data removed]",
      "text/plain": [
       "<Figure size 700x700 with 1 Axes>"
      ]
     },
     "metadata": {},
     "output_type": "display_data"
    }
   ],
   "source": [
    "import matplotlib.pyplot as plt\n",
    "\n",
    "\n",
    "plt.figure(figsize=(7,7))\n",
    "plt.axline([0, 0], slope=1)\n",
    "plt.scatter(y_test[:,:1], ypred[:,:1], c=\"y\", alpha=0.15)\n",
    "plt.title('Salary Min Predict Value vs Test Value')\n",
    "plt.xlabel('Y Test')\n",
    "plt.ylabel('Y Predict')\n",
    "plt.axis('square')\n",
    "plt.xlim(15000, 150000)\n",
    "plt.ylim(15000, 150000)\n",
    "plt.show\n"
   ]
  },
  {
   "cell_type": "code",
   "execution_count": 268,
   "id": "f9171450",
   "metadata": {},
   "outputs": [
    {
     "data": {
      "text/plain": [
       "<function matplotlib.pyplot.show(close=None, block=None)>"
      ]
     },
     "execution_count": 268,
     "metadata": {},
     "output_type": "execute_result"
    },
    {
     "data": {
      "image/png": "[encoded data removed]",
      "text/plain": [
       "<Figure size 700x700 with 1 Axes>"
      ]
     },
     "metadata": {},
     "output_type": "display_data"
    }
   ],
   "source": [
    "import matplotlib.pyplot as plt\n",
    "\n",
    "\n",
    "plt.figure(figsize=(7,7))\n",
    "plt.axline([0, 0], slope=1)\n",
    "plt.scatter(y_test[:,1:], ypred[:,1:], c=\"y\", alpha=0.15)\n",
    "plt.title('Salary Max Predict Value vs Test Value')\n",
    "plt.xlabel('Y Test')\n",
    "plt.ylabel('Y Predict')\n",
    "plt.axis('square')\n",
    "plt.xlim(15000, 350000)\n",
    "plt.ylim(15000, 350000)\n",
    "plt.show\n"
   ]
  },
  {
   "cell_type": "code",
   "execution_count": 322,
   "id": "205a67d4",
   "metadata": {},
   "outputs": [],
   "source": [
    "test_data_list_min= []\n",
    "\n",
    "for i in range(len(list(y_test[:,:1]))):\n",
    "    test_data_list_min.append(y_test[:,:1][i][0])"
   ]
  },
  {
   "cell_type": "code",
   "execution_count": 336,
   "id": "dcbc86bf",
   "metadata": {},
   "outputs": [],
   "source": [
    "predict_data_list_min= []\n",
    "\n",
    "for i in range(len(list(ypred[:,:1]))):\n",
    "    predict_data_list_min.append(ypred[:,:1][i][0])"
   ]
  },
  {
   "cell_type": "code",
   "execution_count": 346,
   "id": "9567784d",
   "metadata": {},
   "outputs": [],
   "source": [
    "test_data_list_max= []\n",
    "\n",
    "for i in range(len(list(y_test[:,1:]))):\n",
    "    test_data_list_max.append(y_test[:,1:][i][0])"
   ]
  },
  {
   "cell_type": "code",
   "execution_count": 347,
   "id": "2eb1b3db",
   "metadata": {},
   "outputs": [],
   "source": [
    "predict_data_list_max= []\n",
    "\n",
    "for i in range(len(list(ypred[:,1:]))):\n",
    "    predict_data_list_max.append(ypred[:,1:][i][0])"
   ]
  },
  {
   "cell_type": "markdown",
   "id": "0ceb2dbe",
   "metadata": {},
   "source": [
    "結果箱型圖"
   ]
  },
  {
   "cell_type": "code",
   "execution_count": 359,
   "id": "1985d091",
   "metadata": {},
   "outputs": [
    {
     "name": "stderr",
     "output_type": "stream",
     "text": [
      "C:\\Users\\林盃\\AppData\\Local\\Temp\\ipykernel_3316\\2249224014.py:4: VisibleDeprecationWarning: Creating an ndarray from ragged nested sequences (which is a list-or-tuple of lists-or-tuples-or ndarrays with different lengths or shapes) is deprecated. If you meant to do this, you must specify 'dtype=object' when creating the ndarray.\n",
      "  plt.boxplot(np.array(boxdata).transpose(), 0, '', labels=('Y Test','Y_predict'))\n"
     ]
    },
    {
     "data": {
      "text/plain": [
       "<function matplotlib.pyplot.show(close=None, block=None)>"
      ]
     },
     "execution_count": 359,
     "metadata": {},
     "output_type": "execute_result"
    },
    {
     "data": {
      "image/png": "[encoded data removed]",
      "text/plain": [
       "<Figure size 640x480 with 1 Axes>"
      ]
     },
     "metadata": {},
     "output_type": "display_data"
    }
   ],
   "source": [
    "boxdata = [test_data_list_min, predict_data_list_min]\n",
    "\n",
    "\n",
    "plt.boxplot(np.array(boxdata).transpose(), 0, '', labels=('Y Test','Y_predict'))\n",
    "plt.ylim(15000, 50000)\n",
    "plt.title('Salary Min Boxplot')\n",
    "plt.show"
   ]
  },
  {
   "cell_type": "code",
   "execution_count": 358,
   "id": "5aa83416",
   "metadata": {},
   "outputs": [
    {
     "data": {
      "text/plain": [
       "<function matplotlib.pyplot.show(close=None, block=None)>"
      ]
     },
     "execution_count": 358,
     "metadata": {},
     "output_type": "execute_result"
    },
    {
     "data": {
      "image/png": "[encoded data removed]",
      "text/plain": [
       "<Figure size 640x480 with 1 Axes>"
      ]
     },
     "metadata": {},
     "output_type": "display_data"
    }
   ],
   "source": [
    "boxdata = [test_data_list_max, predict_data_list_max]\n",
    "\n",
    "\n",
    "plt.boxplot(np.array(boxdata).transpose(), 0, '', labels=('Y Test','Y_predict'))\n",
    "plt.ylim(10000, 80000)\n",
    "plt.title('Salary Max Boxplot')\n",
    "plt.show"
   ]
  },
  {
   "cell_type": "markdown",
   "id": "5812d0c7",
   "metadata": {},
   "source": [
    "Get Coefficients"
   ]
  },
  {
   "cell_type": "code",
   "execution_count": 450,
   "id": "a766b170",
   "metadata": {},
   "outputs": [],
   "source": [
    "from sklearn.multioutput import MultiOutputRegressor\n",
    "from sklearn import linear_model\n",
    "\n",
    "best_ridge = MultiOutputRegressor(linear_model.Ridge(alpha=10)).fit(X_train, y_train)\n",
    "ypred = best_ridge.predict(X_test)\n",
    "best_ridge_rmse = []\n",
    "best_ridge_rmse.append(np.mean(np.square(y_test[:, 0] - ypred[:, 0])) ** 0.5)\n",
    "best_ridge_rmse.append(np.mean(np.square(y_test[:, 1] - ypred[:, 1])) ** 0.5)"
   ]
  },
  {
   "cell_type": "code",
   "execution_count": 455,
   "id": "46091714",
   "metadata": {},
   "outputs": [
    {
     "data": {
      "text/plain": [
       "[5376.0704282828965, 18330.898605495415]"
      ]
     },
     "execution_count": 455,
     "metadata": {},
     "output_type": "execute_result"
    }
   ],
   "source": [
    "best_ridge_rmse"
   ]
  },
  {
   "cell_type": "code",
   "execution_count": 451,
   "id": "b1842613",
   "metadata": {},
   "outputs": [],
   "source": [
    "best_ridge_model_min = best_ridge.estimators_[0]\n",
    "coef_min = best_ridge_model_min.coef_"
   ]
  },
  {
   "cell_type": "code",
   "execution_count": 452,
   "id": "9b5cfb9e",
   "metadata": {},
   "outputs": [
    {
     "data": {
      "text/html": [
       "<div>\n",
       "<style scoped>\n",
       "    .dataframe tbody tr th:only-of-type {\n",
       "        vertical-align: middle;\n",
       "    }\n",
       "\n",
       "    .dataframe tbody tr th {\n",
       "        vertical-align: top;\n",
       "    }\n",
       "\n",
       "    .dataframe thead th {\n",
       "        text-align: right;\n",
       "    }\n",
       "</style>\n",
       "<table border=\"1\" class=\"dataframe\">\n",
       "  <thead>\n",
       "    <tr style=\"text-align: right;\">\n",
       "      <th></th>\n",
       "      <th>feature</th>\n",
       "      <th>coefficient</th>\n",
       "    </tr>\n",
       "  </thead>\n",
       "  <tbody>\n",
       "    <tr>\n",
       "      <th>0</th>\n",
       "      <td>welfare</td>\n",
       "      <td>91.423321</td>\n",
       "    </tr>\n",
       "    <tr>\n",
       "      <th>1</th>\n",
       "      <td>jobDescription</td>\n",
       "      <td>782.976473</td>\n",
       "    </tr>\n",
       "    <tr>\n",
       "      <th>2</th>\n",
       "      <td>other</td>\n",
       "      <td>270.098173</td>\n",
       "    </tr>\n",
       "    <tr>\n",
       "      <th>3</th>\n",
       "      <td>apply_male_ratio</td>\n",
       "      <td>995.184316</td>\n",
       "    </tr>\n",
       "    <tr>\n",
       "      <th>4</th>\n",
       "      <td>appearDate</td>\n",
       "      <td>-12.225107</td>\n",
       "    </tr>\n",
       "    <tr>\n",
       "      <th>5</th>\n",
       "      <td>enviornmentPic</td>\n",
       "      <td>-33.524796</td>\n",
       "    </tr>\n",
       "    <tr>\n",
       "      <th>6</th>\n",
       "      <td>jobCategory_軟體設計工程師</td>\n",
       "      <td>3681.537426</td>\n",
       "    </tr>\n",
       "    <tr>\n",
       "      <th>7</th>\n",
       "      <td>edu_大學以上</td>\n",
       "      <td>684.559105</td>\n",
       "    </tr>\n",
       "    <tr>\n",
       "      <th>8</th>\n",
       "      <td>jobCategory_門市／店員／專櫃人員</td>\n",
       "      <td>-1225.407359</td>\n",
       "    </tr>\n",
       "    <tr>\n",
       "      <th>9</th>\n",
       "      <td>apply_lang_英文_精通</td>\n",
       "      <td>1017.082266</td>\n",
       "    </tr>\n",
       "    <tr>\n",
       "      <th>10</th>\n",
       "      <td>edu_專科以上</td>\n",
       "      <td>-642.745758</td>\n",
       "    </tr>\n",
       "    <tr>\n",
       "      <th>11</th>\n",
       "      <td>jobCategory_保全人員／警衛</td>\n",
       "      <td>2112.736530</td>\n",
       "    </tr>\n",
       "    <tr>\n",
       "      <th>12</th>\n",
       "      <td>industry_診所</td>\n",
       "      <td>1193.136428</td>\n",
       "    </tr>\n",
       "    <tr>\n",
       "      <th>13</th>\n",
       "      <td>adressArea_台北市</td>\n",
       "      <td>968.001344</td>\n",
       "    </tr>\n",
       "    <tr>\n",
       "      <th>14</th>\n",
       "      <td>jobCategory_小客車／計程車及小貨車司機</td>\n",
       "      <td>2565.092020</td>\n",
       "    </tr>\n",
       "    <tr>\n",
       "      <th>15</th>\n",
       "      <td>workPeriod</td>\n",
       "      <td>-282.923931</td>\n",
       "    </tr>\n",
       "    <tr>\n",
       "      <th>16</th>\n",
       "      <td>adressArea_高雄市</td>\n",
       "      <td>-813.626202</td>\n",
       "    </tr>\n",
       "    <tr>\n",
       "      <th>17</th>\n",
       "      <td>industry_醫院</td>\n",
       "      <td>1184.626461</td>\n",
       "    </tr>\n",
       "    <tr>\n",
       "      <th>18</th>\n",
       "      <td>adressArea_彰化縣</td>\n",
       "      <td>-572.404921</td>\n",
       "    </tr>\n",
       "    <tr>\n",
       "      <th>19</th>\n",
       "      <td>businessTrip</td>\n",
       "      <td>790.821044</td>\n",
       "    </tr>\n",
       "  </tbody>\n",
       "</table>\n",
       "</div>"
      ],
      "text/plain": [
       "                      feature  coefficient\n",
       "0                     welfare    91.423321\n",
       "1              jobDescription   782.976473\n",
       "2                       other   270.098173\n",
       "3            apply_male_ratio   995.184316\n",
       "4                  appearDate   -12.225107\n",
       "5              enviornmentPic   -33.524796\n",
       "6         jobCategory_軟體設計工程師  3681.537426\n",
       "7                    edu_大學以上   684.559105\n",
       "8      jobCategory_門市／店員／專櫃人員 -1225.407359\n",
       "9            apply_lang_英文_精通  1017.082266\n",
       "10                   edu_專科以上  -642.745758\n",
       "11        jobCategory_保全人員／警衛  2112.736530\n",
       "12                industry_診所  1193.136428\n",
       "13             adressArea_台北市   968.001344\n",
       "14  jobCategory_小客車／計程車及小貨車司機  2565.092020\n",
       "15                 workPeriod  -282.923931\n",
       "16             adressArea_高雄市  -813.626202\n",
       "17                industry_醫院  1184.626461\n",
       "18             adressArea_彰化縣  -572.404921\n",
       "19               businessTrip   790.821044"
      ]
     },
     "execution_count": 452,
     "metadata": {},
     "output_type": "execute_result"
    }
   ],
   "source": [
    "import pandas as pd\n",
    "coefficient = []\n",
    "for i in top20_min['feature']:\n",
    "    index = selected_column.index(i)\n",
    "    coefficient.append(coef_min[index])\n",
    "d = {'feature':top20_min['feature'], 'coefficient':coefficient}\n",
    "pd.DataFrame(data=d)"
   ]
  },
  {
   "cell_type": "code",
   "execution_count": 453,
   "id": "b2719c30",
   "metadata": {},
   "outputs": [],
   "source": [
    "best_ridge_model_max = best_ridge.estimators_[1]\n",
    "coef_max = best_ridge_model_max.coef_"
   ]
  },
  {
   "cell_type": "code",
   "execution_count": 454,
   "id": "a6bf87b2",
   "metadata": {},
   "outputs": [
    {
     "data": {
      "text/html": [
       "<div>\n",
       "<style scoped>\n",
       "    .dataframe tbody tr th:only-of-type {\n",
       "        vertical-align: middle;\n",
       "    }\n",
       "\n",
       "    .dataframe tbody tr th {\n",
       "        vertical-align: top;\n",
       "    }\n",
       "\n",
       "    .dataframe thead th {\n",
       "        text-align: right;\n",
       "    }\n",
       "</style>\n",
       "<table border=\"1\" class=\"dataframe\">\n",
       "  <thead>\n",
       "    <tr style=\"text-align: right;\">\n",
       "      <th></th>\n",
       "      <th>feature</th>\n",
       "      <th>coefficient</th>\n",
       "    </tr>\n",
       "  </thead>\n",
       "  <tbody>\n",
       "    <tr>\n",
       "      <th>0</th>\n",
       "      <td>jobDescription</td>\n",
       "      <td>2264.222280</td>\n",
       "    </tr>\n",
       "    <tr>\n",
       "      <th>1</th>\n",
       "      <td>jobCategory_國內業務人員</td>\n",
       "      <td>14030.143701</td>\n",
       "    </tr>\n",
       "    <tr>\n",
       "      <th>2</th>\n",
       "      <td>welfare</td>\n",
       "      <td>81.829961</td>\n",
       "    </tr>\n",
       "    <tr>\n",
       "      <th>3</th>\n",
       "      <td>industry_運動服務業</td>\n",
       "      <td>37917.993848</td>\n",
       "    </tr>\n",
       "    <tr>\n",
       "      <th>4</th>\n",
       "      <td>other</td>\n",
       "      <td>447.050330</td>\n",
       "    </tr>\n",
       "    <tr>\n",
       "      <th>5</th>\n",
       "      <td>edu_不拘</td>\n",
       "      <td>1897.128140</td>\n",
       "    </tr>\n",
       "    <tr>\n",
       "      <th>6</th>\n",
       "      <td>appearDate</td>\n",
       "      <td>-53.898999</td>\n",
       "    </tr>\n",
       "    <tr>\n",
       "      <th>7</th>\n",
       "      <td>edu_高中以上</td>\n",
       "      <td>699.035523</td>\n",
       "    </tr>\n",
       "    <tr>\n",
       "      <th>8</th>\n",
       "      <td>enviornmentPic</td>\n",
       "      <td>172.401572</td>\n",
       "    </tr>\n",
       "    <tr>\n",
       "      <th>9</th>\n",
       "      <td>industry_不動產經營業</td>\n",
       "      <td>15034.220424</td>\n",
       "    </tr>\n",
       "    <tr>\n",
       "      <th>10</th>\n",
       "      <td>jobCategory_美容工作者</td>\n",
       "      <td>18569.923553</td>\n",
       "    </tr>\n",
       "    <tr>\n",
       "      <th>11</th>\n",
       "      <td>apply_male_ratio</td>\n",
       "      <td>2087.349538</td>\n",
       "    </tr>\n",
       "    <tr>\n",
       "      <th>12</th>\n",
       "      <td>jobCategory_軟體設計工程師</td>\n",
       "      <td>11949.396538</td>\n",
       "    </tr>\n",
       "    <tr>\n",
       "      <th>13</th>\n",
       "      <td>businessTrip</td>\n",
       "      <td>1701.502800</td>\n",
       "    </tr>\n",
       "    <tr>\n",
       "      <th>14</th>\n",
       "      <td>jobCategory_電話行銷人員</td>\n",
       "      <td>26576.700998</td>\n",
       "    </tr>\n",
       "    <tr>\n",
       "      <th>15</th>\n",
       "      <td>adressArea_桃園市</td>\n",
       "      <td>3492.348173</td>\n",
       "    </tr>\n",
       "    <tr>\n",
       "      <th>16</th>\n",
       "      <td>jobCategory_門市／店員／專櫃人員</td>\n",
       "      <td>-3370.361078</td>\n",
       "    </tr>\n",
       "    <tr>\n",
       "      <th>17</th>\n",
       "      <td>jobCategory_產品行銷人員</td>\n",
       "      <td>6176.005757</td>\n",
       "    </tr>\n",
       "    <tr>\n",
       "      <th>18</th>\n",
       "      <td>workPeriod</td>\n",
       "      <td>381.659680</td>\n",
       "    </tr>\n",
       "    <tr>\n",
       "      <th>19</th>\n",
       "      <td>edu_大學以上</td>\n",
       "      <td>998.586902</td>\n",
       "    </tr>\n",
       "  </tbody>\n",
       "</table>\n",
       "</div>"
      ],
      "text/plain": [
       "                   feature   coefficient\n",
       "0           jobDescription   2264.222280\n",
       "1       jobCategory_國內業務人員  14030.143701\n",
       "2                  welfare     81.829961\n",
       "3           industry_運動服務業  37917.993848\n",
       "4                    other    447.050330\n",
       "5                   edu_不拘   1897.128140\n",
       "6               appearDate    -53.898999\n",
       "7                 edu_高中以上    699.035523\n",
       "8           enviornmentPic    172.401572\n",
       "9          industry_不動產經營業  15034.220424\n",
       "10       jobCategory_美容工作者  18569.923553\n",
       "11        apply_male_ratio   2087.349538\n",
       "12     jobCategory_軟體設計工程師  11949.396538\n",
       "13            businessTrip   1701.502800\n",
       "14      jobCategory_電話行銷人員  26576.700998\n",
       "15          adressArea_桃園市   3492.348173\n",
       "16  jobCategory_門市／店員／專櫃人員  -3370.361078\n",
       "17      jobCategory_產品行銷人員   6176.005757\n",
       "18              workPeriod    381.659680\n",
       "19                edu_大學以上    998.586902"
      ]
     },
     "execution_count": 454,
     "metadata": {},
     "output_type": "execute_result"
    }
   ],
   "source": [
    "import pandas as pd\n",
    "coefficient = []\n",
    "for i in top20_max['feature']:\n",
    "    index = selected_column.index(i)\n",
    "    coefficient.append(coef_max[index])\n",
    "d = {'feature':top20_max['feature'], 'coefficient':coefficient}\n",
    "pd.DataFrame(data=d)"
   ]
  },
  {
   "cell_type": "markdown",
   "id": "80847b90",
   "metadata": {},
   "source": [
    "變數整理 Salary min"
   ]
  },
  {
   "cell_type": "code",
   "execution_count": 400,
   "id": "4840f17c",
   "metadata": {},
   "outputs": [],
   "source": [
    "def feature_dataframe_min(column):\n",
    "    c_lst = []\n",
    "    c_coef = []\n",
    "    c_importance = []\n",
    "    for i in selected_column:\n",
    "        if column in i:\n",
    "            index = selected_column.index(i)\n",
    "            c_lst.append(i)\n",
    "            c_coef.append(coef_min[index])\n",
    "            c_importance.append(feature_importance[0][index])\n",
    "    c_d = {column:c_lst, 'coefficient':c_coef, 'feature_importance':c_importance}\n",
    "    c_df = pd.DataFrame(data=c_d)\n",
    "    return c_df.sort_values(by=['feature_importance'], ascending=False)"
   ]
  },
  {
   "cell_type": "code",
   "execution_count": 425,
   "id": "bb0d0ce8",
   "metadata": {},
   "outputs": [],
   "source": [
    "major_lst = []\n",
    "major_coef = []\n",
    "major_importance = []\n",
    "for i in selected_column:\n",
    "    if 'apply_major' not in i and 'major' in i:\n",
    "        index = selected_column.index(i)\n",
    "        major_lst.append(i)\n",
    "        major_coef.append(coef_min[index])\n",
    "        major_importance.append(feature_importance[0][index])\n",
    "major_d = {'major':major_lst, 'coefficient':major_coef, 'feature_importance':major_importance}\n",
    "major_df = pd.DataFrame(data=major_d)\n",
    "major_df = major_df.sort_values(by=['feature_importance'], ascending=False)\n"
   ]
  },
  {
   "cell_type": "code",
   "execution_count": 426,
   "metadata": {},
   "outputs": [
    {
     "data": {
      "text/html": [
       "<div>\n",
       "<style scoped>\n",
       "    .dataframe tbody tr th:only-of-type {\n",
       "        vertical-align: middle;\n",
       "    }\n",
       "\n",
       "    .dataframe tbody tr th {\n",
       "        vertical-align: top;\n",
       "    }\n",
       "\n",
       "    .dataframe thead th {\n",
       "        text-align: right;\n",
       "    }\n",
       "</style>\n",
       "<table border=\"1\" class=\"dataframe\">\n",
       "  <thead>\n",
       "    <tr style=\"text-align: right;\">\n",
       "      <th></th>\n",
       "      <th>major</th>\n",
       "      <th>coefficient</th>\n",
       "      <th>feature_importance</th>\n",
       "    </tr>\n",
       "  </thead>\n",
       "  <tbody>\n",
       "    <tr>\n",
       "      <th>2</th>\n",
       "      <td>major_土木工程相關</td>\n",
       "      <td>2086.779278</td>\n",
       "      <td>0.003965</td>\n",
       "    </tr>\n",
       "    <tr>\n",
       "      <th>3</th>\n",
       "      <td>major_工程學科類</td>\n",
       "      <td>582.669386</td>\n",
       "      <td>0.002106</td>\n",
       "    </tr>\n",
       "    <tr>\n",
       "      <th>10</th>\n",
       "      <td>major_電機電子工程相關</td>\n",
       "      <td>362.564951</td>\n",
       "      <td>0.001944</td>\n",
       "    </tr>\n",
       "    <tr>\n",
       "      <th>8</th>\n",
       "      <td>major_資訊工程相關</td>\n",
       "      <td>708.782280</td>\n",
       "      <td>0.001479</td>\n",
       "    </tr>\n",
       "    <tr>\n",
       "      <th>9</th>\n",
       "      <td>major_資訊管理相關</td>\n",
       "      <td>-1630.178672</td>\n",
       "      <td>0.001105</td>\n",
       "    </tr>\n",
       "    <tr>\n",
       "      <th>11</th>\n",
       "      <td>major_電機電子維護相關</td>\n",
       "      <td>468.097305</td>\n",
       "      <td>0.001024</td>\n",
       "    </tr>\n",
       "    <tr>\n",
       "      <th>5</th>\n",
       "      <td>major_機械工程相關</td>\n",
       "      <td>238.013728</td>\n",
       "      <td>0.000968</td>\n",
       "    </tr>\n",
       "    <tr>\n",
       "      <th>7</th>\n",
       "      <td>major_護理助產相關</td>\n",
       "      <td>303.320396</td>\n",
       "      <td>0.000505</td>\n",
       "    </tr>\n",
       "    <tr>\n",
       "      <th>1</th>\n",
       "      <td>major_商業及管理學科類</td>\n",
       "      <td>-524.623061</td>\n",
       "      <td>0.000357</td>\n",
       "    </tr>\n",
       "    <tr>\n",
       "      <th>6</th>\n",
       "      <td>major_機械維護相關</td>\n",
       "      <td>-132.779984</td>\n",
       "      <td>0.000329</td>\n",
       "    </tr>\n",
       "  </tbody>\n",
       "</table>\n",
       "</div>"
      ],
      "text/plain": [
       "             major  coefficient  feature_importance\n",
       "2     major_土木工程相關  2086.779278            0.003965\n",
       "3      major_工程學科類   582.669386            0.002106\n",
       "10  major_電機電子工程相關   362.564951            0.001944\n",
       "8     major_資訊工程相關   708.782280            0.001479\n",
       "9     major_資訊管理相關 -1630.178672            0.001105\n",
       "11  major_電機電子維護相關   468.097305            0.001024\n",
       "5     major_機械工程相關   238.013728            0.000968\n",
       "7     major_護理助產相關   303.320396            0.000505\n",
       "1   major_商業及管理學科類  -524.623061            0.000357\n",
       "6     major_機械維護相關  -132.779984            0.000329"
      ]
     },
     "execution_count": 426,
     "metadata": {},
     "output_type": "execute_result"
    }
   ],
   "source": [
    "major_min = major_df.iloc[:10,:]"
   ]
  },
  {
   "cell_type": "code",
   "execution_count": 474,
   "id": "be7f062a",
   "metadata": {},
   "outputs": [
    {
     "data": {
      "image/png": "[encoded data removed]",
      "text/plain": [
       "<Figure size 640x480 with 1 Axes>"
      ]
     },
     "metadata": {},
     "output_type": "display_data"
    }
   ],
   "source": [
    "import matplotlib.pyplot as plt\n",
    "from matplotlib.font_manager import FontProperties\n",
    "\n",
    "rank = list(range(1, 21))\n",
    "rank.reverse()\n",
    "data_x = major_min['coefficient']\n",
    "data_y = major_min['feature_importance']\n",
    "plt.rcParams['font.sans-serif'] = ['Microsoft JhengHei'] \n",
    "plt.rcParams['axes.unicode_minus'] = False\n",
    "\n",
    "for i in range(10):\n",
    "    plt.scatter(data_x[i],data_y[i],label=major_min['major'][i])\n",
    "plt.xlabel('coefficient')\n",
    "plt.ylabel('importance')\n",
    "\n",
    "plt.title('Feature Importance of Salary Max')\n",
    "plt.legend()\n",
    "plt.show()"
   ]
  },
  {
   "cell_type": "code",
   "execution_count": 427,
   "id": "c0cc2930",
   "metadata": {},
   "outputs": [],
   "source": [
    "industry_min = feature_dataframe_min('industry')"
   ]
  },
  {
   "cell_type": "code",
   "execution_count": 428,
   "id": "dde0df07",
   "metadata": {},
   "outputs": [
    {
     "data": {
      "text/html": [
       "<div>\n",
       "<style scoped>\n",
       "    .dataframe tbody tr th:only-of-type {\n",
       "        vertical-align: middle;\n",
       "    }\n",
       "\n",
       "    .dataframe tbody tr th {\n",
       "        vertical-align: top;\n",
       "    }\n",
       "\n",
       "    .dataframe thead th {\n",
       "        text-align: right;\n",
       "    }\n",
       "</style>\n",
       "<table border=\"1\" class=\"dataframe\">\n",
       "  <thead>\n",
       "    <tr style=\"text-align: right;\">\n",
       "      <th></th>\n",
       "      <th>industry</th>\n",
       "      <th>coefficient</th>\n",
       "      <th>feature_importance</th>\n",
       "    </tr>\n",
       "  </thead>\n",
       "  <tbody>\n",
       "    <tr>\n",
       "      <th>19</th>\n",
       "      <td>industry_診所</td>\n",
       "      <td>1315.072968</td>\n",
       "      <td>0.010742</td>\n",
       "    </tr>\n",
       "    <tr>\n",
       "      <th>21</th>\n",
       "      <td>industry_醫院</td>\n",
       "      <td>1259.442649</td>\n",
       "      <td>0.008938</td>\n",
       "    </tr>\n",
       "    <tr>\n",
       "      <th>0</th>\n",
       "      <td>industry_不動產經營業</td>\n",
       "      <td>1789.924371</td>\n",
       "      <td>0.008151</td>\n",
       "    </tr>\n",
       "    <tr>\n",
       "      <th>2</th>\n",
       "      <td>industry_保全樓管相關業</td>\n",
       "      <td>1761.762377</td>\n",
       "      <td>0.007761</td>\n",
       "    </tr>\n",
       "    <tr>\n",
       "      <th>28</th>\n",
       "      <td>industry_餐館業</td>\n",
       "      <td>1329.758852</td>\n",
       "      <td>0.005694</td>\n",
       "    </tr>\n",
       "    <tr>\n",
       "      <th>10</th>\n",
       "      <td>industry_建築工程業</td>\n",
       "      <td>2461.082838</td>\n",
       "      <td>0.005019</td>\n",
       "    </tr>\n",
       "    <tr>\n",
       "      <th>1</th>\n",
       "      <td>industry_人力仲介代徵</td>\n",
       "      <td>3335.680168</td>\n",
       "      <td>0.004192</td>\n",
       "    </tr>\n",
       "    <tr>\n",
       "      <th>17</th>\n",
       "      <td>industry_美容／美體業</td>\n",
       "      <td>691.220721</td>\n",
       "      <td>0.004156</td>\n",
       "    </tr>\n",
       "    <tr>\n",
       "      <th>4</th>\n",
       "      <td>industry_其他醫療保健服務業</td>\n",
       "      <td>849.940919</td>\n",
       "      <td>0.003446</td>\n",
       "    </tr>\n",
       "    <tr>\n",
       "      <th>12</th>\n",
       "      <td>industry_汽車及其零件製造業</td>\n",
       "      <td>-880.946926</td>\n",
       "      <td>0.003187</td>\n",
       "    </tr>\n",
       "  </tbody>\n",
       "</table>\n",
       "</div>"
      ],
      "text/plain": [
       "              industry  coefficient  feature_importance\n",
       "19         industry_診所  1315.072968            0.010742\n",
       "21         industry_醫院  1259.442649            0.008938\n",
       "0      industry_不動產經營業  1789.924371            0.008151\n",
       "2     industry_保全樓管相關業  1761.762377            0.007761\n",
       "28        industry_餐館業  1329.758852            0.005694\n",
       "10      industry_建築工程業  2461.082838            0.005019\n",
       "1      industry_人力仲介代徵  3335.680168            0.004192\n",
       "17     industry_美容／美體業   691.220721            0.004156\n",
       "4   industry_其他醫療保健服務業   849.940919            0.003446\n",
       "12  industry_汽車及其零件製造業  -880.946926            0.003187"
      ]
     },
     "execution_count": 428,
     "metadata": {},
     "output_type": "execute_result"
    }
   ],
   "source": [
    "industry_min.iloc[:10,:]"
   ]
  },
  {
   "cell_type": "code",
   "execution_count": 429,
   "id": "7ab790ad",
   "metadata": {},
   "outputs": [],
   "source": [
    "adressArea_min = feature_dataframe_min('adressArea')"
   ]
  },
  {
   "cell_type": "code",
   "execution_count": 430,
   "id": "6077fb48",
   "metadata": {},
   "outputs": [
    {
     "data": {
      "text/html": [
       "<div>\n",
       "<style scoped>\n",
       "    .dataframe tbody tr th:only-of-type {\n",
       "        vertical-align: middle;\n",
       "    }\n",
       "\n",
       "    .dataframe tbody tr th {\n",
       "        vertical-align: top;\n",
       "    }\n",
       "\n",
       "    .dataframe thead th {\n",
       "        text-align: right;\n",
       "    }\n",
       "</style>\n",
       "<table border=\"1\" class=\"dataframe\">\n",
       "  <thead>\n",
       "    <tr style=\"text-align: right;\">\n",
       "      <th></th>\n",
       "      <th>adressArea</th>\n",
       "      <th>coefficient</th>\n",
       "      <th>feature_importance</th>\n",
       "    </tr>\n",
       "  </thead>\n",
       "  <tbody>\n",
       "    <tr>\n",
       "      <th>2</th>\n",
       "      <td>adressArea_台北市</td>\n",
       "      <td>890.281345</td>\n",
       "      <td>0.009787</td>\n",
       "    </tr>\n",
       "    <tr>\n",
       "      <th>14</th>\n",
       "      <td>adressArea_高雄市</td>\n",
       "      <td>-877.290655</td>\n",
       "      <td>0.009300</td>\n",
       "    </tr>\n",
       "    <tr>\n",
       "      <th>7</th>\n",
       "      <td>adressArea_彰化縣</td>\n",
       "      <td>-709.058320</td>\n",
       "      <td>0.008615</td>\n",
       "    </tr>\n",
       "    <tr>\n",
       "      <th>11</th>\n",
       "      <td>adressArea_桃園市</td>\n",
       "      <td>803.425700</td>\n",
       "      <td>0.008221</td>\n",
       "    </tr>\n",
       "    <tr>\n",
       "      <th>8</th>\n",
       "      <td>adressArea_新北市</td>\n",
       "      <td>341.224619</td>\n",
       "      <td>0.005371</td>\n",
       "    </tr>\n",
       "    <tr>\n",
       "      <th>1</th>\n",
       "      <td>adressArea_台中市</td>\n",
       "      <td>-394.124298</td>\n",
       "      <td>0.004268</td>\n",
       "    </tr>\n",
       "    <tr>\n",
       "      <th>3</th>\n",
       "      <td>adressArea_台南市</td>\n",
       "      <td>-708.310916</td>\n",
       "      <td>0.003417</td>\n",
       "    </tr>\n",
       "    <tr>\n",
       "      <th>10</th>\n",
       "      <td>adressArea_新竹縣</td>\n",
       "      <td>568.997298</td>\n",
       "      <td>0.003035</td>\n",
       "    </tr>\n",
       "    <tr>\n",
       "      <th>9</th>\n",
       "      <td>adressArea_新竹市</td>\n",
       "      <td>801.711054</td>\n",
       "      <td>0.002643</td>\n",
       "    </tr>\n",
       "    <tr>\n",
       "      <th>13</th>\n",
       "      <td>adressArea_雲林縣</td>\n",
       "      <td>-607.812869</td>\n",
       "      <td>0.001413</td>\n",
       "    </tr>\n",
       "  </tbody>\n",
       "</table>\n",
       "</div>"
      ],
      "text/plain": [
       "        adressArea  coefficient  feature_importance\n",
       "2   adressArea_台北市   890.281345            0.009787\n",
       "14  adressArea_高雄市  -877.290655            0.009300\n",
       "7   adressArea_彰化縣  -709.058320            0.008615\n",
       "11  adressArea_桃園市   803.425700            0.008221\n",
       "8   adressArea_新北市   341.224619            0.005371\n",
       "1   adressArea_台中市  -394.124298            0.004268\n",
       "3   adressArea_台南市  -708.310916            0.003417\n",
       "10  adressArea_新竹縣   568.997298            0.003035\n",
       "9   adressArea_新竹市   801.711054            0.002643\n",
       "13  adressArea_雲林縣  -607.812869            0.001413"
      ]
     },
     "execution_count": 430,
     "metadata": {},
     "output_type": "execute_result"
    }
   ],
   "source": [
    "adressArea_min.iloc[:10,:]"
   ]
  },
  {
   "cell_type": "code",
   "execution_count": 456,
   "id": "6c0b26f6",
   "metadata": {},
   "outputs": [],
   "source": [
    "jobCategory_min = feature_dataframe_min('jobCategory')"
   ]
  },
  {
   "cell_type": "code",
   "execution_count": 457,
   "id": "58759234",
   "metadata": {},
   "outputs": [
    {
     "data": {
      "text/html": [
       "<div>\n",
       "<style scoped>\n",
       "    .dataframe tbody tr th:only-of-type {\n",
       "        vertical-align: middle;\n",
       "    }\n",
       "\n",
       "    .dataframe tbody tr th {\n",
       "        vertical-align: top;\n",
       "    }\n",
       "\n",
       "    .dataframe thead th {\n",
       "        text-align: right;\n",
       "    }\n",
       "</style>\n",
       "<table border=\"1\" class=\"dataframe\">\n",
       "  <thead>\n",
       "    <tr style=\"text-align: right;\">\n",
       "      <th></th>\n",
       "      <th>jobCategory</th>\n",
       "      <th>coefficient</th>\n",
       "      <th>feature_importance</th>\n",
       "    </tr>\n",
       "  </thead>\n",
       "  <tbody>\n",
       "    <tr>\n",
       "      <th>42</th>\n",
       "      <td>jobCategory_軟體設計工程師</td>\n",
       "      <td>3681.537426</td>\n",
       "      <td>0.017764</td>\n",
       "    </tr>\n",
       "    <tr>\n",
       "      <th>45</th>\n",
       "      <td>jobCategory_門市／店員／專櫃人員</td>\n",
       "      <td>-1225.407359</td>\n",
       "      <td>0.014835</td>\n",
       "    </tr>\n",
       "    <tr>\n",
       "      <th>2</th>\n",
       "      <td>jobCategory_保全人員／警衛</td>\n",
       "      <td>2112.736530</td>\n",
       "      <td>0.011544</td>\n",
       "    </tr>\n",
       "    <tr>\n",
       "      <th>17</th>\n",
       "      <td>jobCategory_小客車／計程車及小貨車司機</td>\n",
       "      <td>2565.092020</td>\n",
       "      <td>0.009386</td>\n",
       "    </tr>\n",
       "    <tr>\n",
       "      <th>1</th>\n",
       "      <td>jobCategory_作業員／包裝員</td>\n",
       "      <td>-1630.877622</td>\n",
       "      <td>0.006981</td>\n",
       "    </tr>\n",
       "    <tr>\n",
       "      <th>13</th>\n",
       "      <td>jobCategory_國內業務人員</td>\n",
       "      <td>-810.536247</td>\n",
       "      <td>0.006882</td>\n",
       "    </tr>\n",
       "    <tr>\n",
       "      <th>40</th>\n",
       "      <td>jobCategory_護理師及護士</td>\n",
       "      <td>839.404868</td>\n",
       "      <td>0.006062</td>\n",
       "    </tr>\n",
       "    <tr>\n",
       "      <th>14</th>\n",
       "      <td>jobCategory_外務／快遞／送貨</td>\n",
       "      <td>1517.918479</td>\n",
       "      <td>0.006002</td>\n",
       "    </tr>\n",
       "    <tr>\n",
       "      <th>34</th>\n",
       "      <td>jobCategory_行政助理</td>\n",
       "      <td>-1463.819330</td>\n",
       "      <td>0.005624</td>\n",
       "    </tr>\n",
       "    <tr>\n",
       "      <th>32</th>\n",
       "      <td>jobCategory_美容工作者</td>\n",
       "      <td>-188.896798</td>\n",
       "      <td>0.004975</td>\n",
       "    </tr>\n",
       "  </tbody>\n",
       "</table>\n",
       "</div>"
      ],
      "text/plain": [
       "                  jobCategory  coefficient  feature_importance\n",
       "42        jobCategory_軟體設計工程師  3681.537426            0.017764\n",
       "45     jobCategory_門市／店員／專櫃人員 -1225.407359            0.014835\n",
       "2         jobCategory_保全人員／警衛  2112.736530            0.011544\n",
       "17  jobCategory_小客車／計程車及小貨車司機  2565.092020            0.009386\n",
       "1         jobCategory_作業員／包裝員 -1630.877622            0.006981\n",
       "13         jobCategory_國內業務人員  -810.536247            0.006882\n",
       "40         jobCategory_護理師及護士   839.404868            0.006062\n",
       "14       jobCategory_外務／快遞／送貨  1517.918479            0.006002\n",
       "34           jobCategory_行政助理 -1463.819330            0.005624\n",
       "32          jobCategory_美容工作者  -188.896798            0.004975"
      ]
     },
     "execution_count": 457,
     "metadata": {},
     "output_type": "execute_result"
    }
   ],
   "source": [
    "jobCategory_min.iloc[:10,:]"
   ]
  },
  {
   "cell_type": "markdown",
   "id": "cbf5bb1b",
   "metadata": {},
   "source": [
    "變數整理 Salary max"
   ]
  },
  {
   "cell_type": "code",
   "execution_count": 409,
   "id": "db5572c6",
   "metadata": {},
   "outputs": [],
   "source": [
    "def feature_dataframe_max(column):\n",
    "    c_lst = []\n",
    "    c_coef = []\n",
    "    c_importance = []\n",
    "    for i in selected_column:\n",
    "        if column in i:\n",
    "            index = selected_column.index(i)\n",
    "            c_lst.append(i)\n",
    "            c_coef.append(coef_max[index])\n",
    "            c_importance.append(feature_importance[1][index])\n",
    "    c_d = {column:c_lst, 'coefficient':c_coef, 'feature_importance':c_importance}\n",
    "    c_df = pd.DataFrame(data=c_d)\n",
    "    return c_df.sort_values(by=['feature_importance'], ascending=False)"
   ]
  },
  {
   "cell_type": "code",
   "execution_count": 431,
   "id": "8dba1123",
   "metadata": {},
   "outputs": [],
   "source": [
    "major_lst = []\n",
    "major_coef = []\n",
    "major_importance = []\n",
    "for i in selected_column:\n",
    "    if 'apply_major' not in i and 'major' in i:\n",
    "        index = selected_column.index(i)\n",
    "        major_lst.append(i)\n",
    "        major_coef.append(coef_max[index])\n",
    "        major_importance.append(feature_importance[1][index])\n",
    "major_d = {'major':major_lst, 'coefficient':major_coef, 'feature_importance':major_importance}\n",
    "major_df = pd.DataFrame(data=major_d)\n",
    "major_df = major_df.sort_values(by=['feature_importance'], ascending=False)\n"
   ]
  },
  {
   "cell_type": "code",
   "execution_count": 432,
   "id": "5b8b4f28",
   "metadata": {},
   "outputs": [
    {
     "data": {
      "text/html": [
       "<div>\n",
       "<style scoped>\n",
       "    .dataframe tbody tr th:only-of-type {\n",
       "        vertical-align: middle;\n",
       "    }\n",
       "\n",
       "    .dataframe tbody tr th {\n",
       "        vertical-align: top;\n",
       "    }\n",
       "\n",
       "    .dataframe thead th {\n",
       "        text-align: right;\n",
       "    }\n",
       "</style>\n",
       "<table border=\"1\" class=\"dataframe\">\n",
       "  <thead>\n",
       "    <tr style=\"text-align: right;\">\n",
       "      <th></th>\n",
       "      <th>major</th>\n",
       "      <th>coefficient</th>\n",
       "      <th>feature_importance</th>\n",
       "    </tr>\n",
       "  </thead>\n",
       "  <tbody>\n",
       "    <tr>\n",
       "      <th>2</th>\n",
       "      <td>major_土木工程相關</td>\n",
       "      <td>6107.268153</td>\n",
       "      <td>0.001725</td>\n",
       "    </tr>\n",
       "    <tr>\n",
       "      <th>10</th>\n",
       "      <td>major_電機電子工程相關</td>\n",
       "      <td>1969.851907</td>\n",
       "      <td>0.001577</td>\n",
       "    </tr>\n",
       "    <tr>\n",
       "      <th>8</th>\n",
       "      <td>major_資訊工程相關</td>\n",
       "      <td>1834.029704</td>\n",
       "      <td>0.000937</td>\n",
       "    </tr>\n",
       "    <tr>\n",
       "      <th>3</th>\n",
       "      <td>major_工程學科類</td>\n",
       "      <td>1168.094538</td>\n",
       "      <td>0.000497</td>\n",
       "    </tr>\n",
       "    <tr>\n",
       "      <th>9</th>\n",
       "      <td>major_資訊管理相關</td>\n",
       "      <td>-3971.161289</td>\n",
       "      <td>0.000415</td>\n",
       "    </tr>\n",
       "    <tr>\n",
       "      <th>11</th>\n",
       "      <td>major_電機電子維護相關</td>\n",
       "      <td>-190.495869</td>\n",
       "      <td>0.000344</td>\n",
       "    </tr>\n",
       "    <tr>\n",
       "      <th>5</th>\n",
       "      <td>major_機械工程相關</td>\n",
       "      <td>63.702639</td>\n",
       "      <td>0.000336</td>\n",
       "    </tr>\n",
       "    <tr>\n",
       "      <th>1</th>\n",
       "      <td>major_商業及管理學科類</td>\n",
       "      <td>-1465.041240</td>\n",
       "      <td>0.000314</td>\n",
       "    </tr>\n",
       "    <tr>\n",
       "      <th>7</th>\n",
       "      <td>major_護理助產相關</td>\n",
       "      <td>151.811740</td>\n",
       "      <td>0.000171</td>\n",
       "    </tr>\n",
       "    <tr>\n",
       "      <th>6</th>\n",
       "      <td>major_機械維護相關</td>\n",
       "      <td>-642.315827</td>\n",
       "      <td>0.000158</td>\n",
       "    </tr>\n",
       "  </tbody>\n",
       "</table>\n",
       "</div>"
      ],
      "text/plain": [
       "             major  coefficient  feature_importance\n",
       "2     major_土木工程相關  6107.268153            0.001725\n",
       "10  major_電機電子工程相關  1969.851907            0.001577\n",
       "8     major_資訊工程相關  1834.029704            0.000937\n",
       "3      major_工程學科類  1168.094538            0.000497\n",
       "9     major_資訊管理相關 -3971.161289            0.000415\n",
       "11  major_電機電子維護相關  -190.495869            0.000344\n",
       "5     major_機械工程相關    63.702639            0.000336\n",
       "1   major_商業及管理學科類 -1465.041240            0.000314\n",
       "7     major_護理助產相關   151.811740            0.000171\n",
       "6     major_機械維護相關  -642.315827            0.000158"
      ]
     },
     "execution_count": 432,
     "metadata": {},
     "output_type": "execute_result"
    }
   ],
   "source": [
    "major_df.iloc[:10,:]"
   ]
  },
  {
   "cell_type": "code",
   "execution_count": 433,
   "id": "14aa04bf",
   "metadata": {},
   "outputs": [],
   "source": [
    "adressArea_max = feature_dataframe_max('adressArea')"
   ]
  },
  {
   "cell_type": "code",
   "execution_count": 434,
   "id": "e0cef517",
   "metadata": {},
   "outputs": [
    {
     "data": {
      "text/html": [
       "<div>\n",
       "<style scoped>\n",
       "    .dataframe tbody tr th:only-of-type {\n",
       "        vertical-align: middle;\n",
       "    }\n",
       "\n",
       "    .dataframe tbody tr th {\n",
       "        vertical-align: top;\n",
       "    }\n",
       "\n",
       "    .dataframe thead th {\n",
       "        text-align: right;\n",
       "    }\n",
       "</style>\n",
       "<table border=\"1\" class=\"dataframe\">\n",
       "  <thead>\n",
       "    <tr style=\"text-align: right;\">\n",
       "      <th></th>\n",
       "      <th>adressArea</th>\n",
       "      <th>coefficient</th>\n",
       "      <th>feature_importance</th>\n",
       "    </tr>\n",
       "  </thead>\n",
       "  <tbody>\n",
       "    <tr>\n",
       "      <th>11</th>\n",
       "      <td>adressArea_桃園市</td>\n",
       "      <td>3317.834746</td>\n",
       "      <td>0.013417</td>\n",
       "    </tr>\n",
       "    <tr>\n",
       "      <th>3</th>\n",
       "      <td>adressArea_台南市</td>\n",
       "      <td>-212.682057</td>\n",
       "      <td>0.003672</td>\n",
       "    </tr>\n",
       "    <tr>\n",
       "      <th>14</th>\n",
       "      <td>adressArea_高雄市</td>\n",
       "      <td>-667.870676</td>\n",
       "      <td>0.003542</td>\n",
       "    </tr>\n",
       "    <tr>\n",
       "      <th>1</th>\n",
       "      <td>adressArea_台中市</td>\n",
       "      <td>615.298026</td>\n",
       "      <td>0.003271</td>\n",
       "    </tr>\n",
       "    <tr>\n",
       "      <th>2</th>\n",
       "      <td>adressArea_台北市</td>\n",
       "      <td>2051.657155</td>\n",
       "      <td>0.002759</td>\n",
       "    </tr>\n",
       "    <tr>\n",
       "      <th>8</th>\n",
       "      <td>adressArea_新北市</td>\n",
       "      <td>1420.865632</td>\n",
       "      <td>0.002247</td>\n",
       "    </tr>\n",
       "    <tr>\n",
       "      <th>7</th>\n",
       "      <td>adressArea_彰化縣</td>\n",
       "      <td>-548.368577</td>\n",
       "      <td>0.001198</td>\n",
       "    </tr>\n",
       "    <tr>\n",
       "      <th>9</th>\n",
       "      <td>adressArea_新竹市</td>\n",
       "      <td>2361.884800</td>\n",
       "      <td>0.001154</td>\n",
       "    </tr>\n",
       "    <tr>\n",
       "      <th>10</th>\n",
       "      <td>adressArea_新竹縣</td>\n",
       "      <td>1873.363758</td>\n",
       "      <td>0.000900</td>\n",
       "    </tr>\n",
       "    <tr>\n",
       "      <th>13</th>\n",
       "      <td>adressArea_雲林縣</td>\n",
       "      <td>-329.612156</td>\n",
       "      <td>0.000642</td>\n",
       "    </tr>\n",
       "  </tbody>\n",
       "</table>\n",
       "</div>"
      ],
      "text/plain": [
       "        adressArea  coefficient  feature_importance\n",
       "11  adressArea_桃園市  3317.834746            0.013417\n",
       "3   adressArea_台南市  -212.682057            0.003672\n",
       "14  adressArea_高雄市  -667.870676            0.003542\n",
       "1   adressArea_台中市   615.298026            0.003271\n",
       "2   adressArea_台北市  2051.657155            0.002759\n",
       "8   adressArea_新北市  1420.865632            0.002247\n",
       "7   adressArea_彰化縣  -548.368577            0.001198\n",
       "9   adressArea_新竹市  2361.884800            0.001154\n",
       "10  adressArea_新竹縣  1873.363758            0.000900\n",
       "13  adressArea_雲林縣  -329.612156            0.000642"
      ]
     },
     "execution_count": 434,
     "metadata": {},
     "output_type": "execute_result"
    }
   ],
   "source": [
    "adressArea_max.iloc[:10,:]"
   ]
  },
  {
   "cell_type": "code",
   "execution_count": 435,
   "id": "f095a91e",
   "metadata": {},
   "outputs": [],
   "source": [
    "industry_max = feature_dataframe_max('industry')"
   ]
  },
  {
   "cell_type": "code",
   "execution_count": 436,
   "id": "06a208ca",
   "metadata": {},
   "outputs": [
    {
     "data": {
      "text/html": [
       "<div>\n",
       "<style scoped>\n",
       "    .dataframe tbody tr th:only-of-type {\n",
       "        vertical-align: middle;\n",
       "    }\n",
       "\n",
       "    .dataframe tbody tr th {\n",
       "        vertical-align: top;\n",
       "    }\n",
       "\n",
       "    .dataframe thead th {\n",
       "        text-align: right;\n",
       "    }\n",
       "</style>\n",
       "<table border=\"1\" class=\"dataframe\">\n",
       "  <thead>\n",
       "    <tr style=\"text-align: right;\">\n",
       "      <th></th>\n",
       "      <th>industry</th>\n",
       "      <th>coefficient</th>\n",
       "      <th>feature_importance</th>\n",
       "    </tr>\n",
       "  </thead>\n",
       "  <tbody>\n",
       "    <tr>\n",
       "      <th>20</th>\n",
       "      <td>industry_運動服務業</td>\n",
       "      <td>38525.962571</td>\n",
       "      <td>0.064882</td>\n",
       "    </tr>\n",
       "    <tr>\n",
       "      <th>0</th>\n",
       "      <td>industry_不動產經營業</td>\n",
       "      <td>15133.409296</td>\n",
       "      <td>0.021856</td>\n",
       "    </tr>\n",
       "    <tr>\n",
       "      <th>12</th>\n",
       "      <td>industry_汽車及其零件製造業</td>\n",
       "      <td>4788.783330</td>\n",
       "      <td>0.004880</td>\n",
       "    </tr>\n",
       "    <tr>\n",
       "      <th>14</th>\n",
       "      <td>industry_百貨相關業</td>\n",
       "      <td>-6724.428917</td>\n",
       "      <td>0.004642</td>\n",
       "    </tr>\n",
       "    <tr>\n",
       "      <th>9</th>\n",
       "      <td>industry_工商顧問服務業</td>\n",
       "      <td>1055.284225</td>\n",
       "      <td>0.004254</td>\n",
       "    </tr>\n",
       "    <tr>\n",
       "      <th>16</th>\n",
       "      <td>industry_網際網路相關業</td>\n",
       "      <td>3719.772044</td>\n",
       "      <td>0.003810</td>\n",
       "    </tr>\n",
       "    <tr>\n",
       "      <th>19</th>\n",
       "      <td>industry_診所</td>\n",
       "      <td>254.876239</td>\n",
       "      <td>0.003153</td>\n",
       "    </tr>\n",
       "    <tr>\n",
       "      <th>17</th>\n",
       "      <td>industry_美容／美體業</td>\n",
       "      <td>-1547.640019</td>\n",
       "      <td>0.002585</td>\n",
       "    </tr>\n",
       "    <tr>\n",
       "      <th>22</th>\n",
       "      <td>industry_量販流通相關業</td>\n",
       "      <td>-7917.509345</td>\n",
       "      <td>0.002336</td>\n",
       "    </tr>\n",
       "    <tr>\n",
       "      <th>11</th>\n",
       "      <td>industry_旅館業</td>\n",
       "      <td>-4181.600338</td>\n",
       "      <td>0.002235</td>\n",
       "    </tr>\n",
       "  </tbody>\n",
       "</table>\n",
       "</div>"
      ],
      "text/plain": [
       "              industry   coefficient  feature_importance\n",
       "20      industry_運動服務業  38525.962571            0.064882\n",
       "0      industry_不動產經營業  15133.409296            0.021856\n",
       "12  industry_汽車及其零件製造業   4788.783330            0.004880\n",
       "14      industry_百貨相關業  -6724.428917            0.004642\n",
       "9     industry_工商顧問服務業   1055.284225            0.004254\n",
       "16    industry_網際網路相關業   3719.772044            0.003810\n",
       "19         industry_診所    254.876239            0.003153\n",
       "17     industry_美容／美體業  -1547.640019            0.002585\n",
       "22    industry_量販流通相關業  -7917.509345            0.002336\n",
       "11        industry_旅館業  -4181.600338            0.002235"
      ]
     },
     "execution_count": 436,
     "metadata": {},
     "output_type": "execute_result"
    }
   ],
   "source": [
    "industry_max.iloc[:10,:]"
   ]
  },
  {
   "cell_type": "code",
   "execution_count": 459,
   "id": "a77cfdc4",
   "metadata": {},
   "outputs": [],
   "source": [
    "jobCategory_max = feature_dataframe_max('jobCategory')"
   ]
  },
  {
   "cell_type": "code",
   "execution_count": 475,
   "id": "73f4f699",
   "metadata": {},
   "outputs": [
    {
     "data": {
      "text/html": [
       "<div>\n",
       "<style scoped>\n",
       "    .dataframe tbody tr th:only-of-type {\n",
       "        vertical-align: middle;\n",
       "    }\n",
       "\n",
       "    .dataframe tbody tr th {\n",
       "        vertical-align: top;\n",
       "    }\n",
       "\n",
       "    .dataframe thead th {\n",
       "        text-align: right;\n",
       "    }\n",
       "</style>\n",
       "<table border=\"1\" class=\"dataframe\">\n",
       "  <thead>\n",
       "    <tr style=\"text-align: right;\">\n",
       "      <th></th>\n",
       "      <th>jobCategory</th>\n",
       "      <th>coefficient</th>\n",
       "      <th>feature_importance</th>\n",
       "    </tr>\n",
       "  </thead>\n",
       "  <tbody>\n",
       "    <tr>\n",
       "      <th>13</th>\n",
       "      <td>jobCategory_國內業務人員</td>\n",
       "      <td>14030.143701</td>\n",
       "      <td>0.096391</td>\n",
       "    </tr>\n",
       "    <tr>\n",
       "      <th>32</th>\n",
       "      <td>jobCategory_美容工作者</td>\n",
       "      <td>18569.923553</td>\n",
       "      <td>0.018604</td>\n",
       "    </tr>\n",
       "    <tr>\n",
       "      <th>42</th>\n",
       "      <td>jobCategory_軟體設計工程師</td>\n",
       "      <td>11949.396538</td>\n",
       "      <td>0.014254</td>\n",
       "    </tr>\n",
       "    <tr>\n",
       "      <th>48</th>\n",
       "      <td>jobCategory_電話行銷人員</td>\n",
       "      <td>26576.700998</td>\n",
       "      <td>0.013502</td>\n",
       "    </tr>\n",
       "    <tr>\n",
       "      <th>45</th>\n",
       "      <td>jobCategory_門市／店員／專櫃人員</td>\n",
       "      <td>-3370.361078</td>\n",
       "      <td>0.010746</td>\n",
       "    </tr>\n",
       "    <tr>\n",
       "      <th>30</th>\n",
       "      <td>jobCategory_產品行銷人員</td>\n",
       "      <td>6176.005757</td>\n",
       "      <td>0.010198</td>\n",
       "    </tr>\n",
       "    <tr>\n",
       "      <th>14</th>\n",
       "      <td>jobCategory_外務／快遞／送貨</td>\n",
       "      <td>2824.317731</td>\n",
       "      <td>0.004643</td>\n",
       "    </tr>\n",
       "    <tr>\n",
       "      <th>52</th>\n",
       "      <td>jobCategory_餐飲服務生</td>\n",
       "      <td>-3676.237510</td>\n",
       "      <td>0.004173</td>\n",
       "    </tr>\n",
       "    <tr>\n",
       "      <th>44</th>\n",
       "      <td>jobCategory_連鎖店管理人員</td>\n",
       "      <td>-1129.655322</td>\n",
       "      <td>0.004151</td>\n",
       "    </tr>\n",
       "    <tr>\n",
       "      <th>20</th>\n",
       "      <td>jobCategory_店長／賣場管理人員</td>\n",
       "      <td>-373.723062</td>\n",
       "      <td>0.003661</td>\n",
       "    </tr>\n",
       "  </tbody>\n",
       "</table>\n",
       "</div>"
      ],
      "text/plain": [
       "               jobCategory   coefficient  feature_importance\n",
       "13      jobCategory_國內業務人員  14030.143701            0.096391\n",
       "32       jobCategory_美容工作者  18569.923553            0.018604\n",
       "42     jobCategory_軟體設計工程師  11949.396538            0.014254\n",
       "48      jobCategory_電話行銷人員  26576.700998            0.013502\n",
       "45  jobCategory_門市／店員／專櫃人員  -3370.361078            0.010746\n",
       "30      jobCategory_產品行銷人員   6176.005757            0.010198\n",
       "14    jobCategory_外務／快遞／送貨   2824.317731            0.004643\n",
       "52       jobCategory_餐飲服務生  -3676.237510            0.004173\n",
       "44     jobCategory_連鎖店管理人員  -1129.655322            0.004151\n",
       "20   jobCategory_店長／賣場管理人員   -373.723062            0.003661"
      ]
     },
     "execution_count": 475,
     "metadata": {},
     "output_type": "execute_result"
    }
   ],
   "source": [
    "jobCategory_max.iloc[:10,:]"
   ]
  }
 ],
 "metadata": {
  "kernelspec": {
   "display_name": "zipline_env",
   "language": "python",
   "name": "zipline_env"
  },
  "language_info": {
   "codemirror_mode": {
    "name": "ipython",
    "version": 3
   },
   "file_extension": ".py",
   "mimetype": "text/x-python",
   "name": "python",
   "nbconvert_exporter": "python",
   "pygments_lexer": "ipython3",
   "version": "3.10.0"
  },
  "vscode": {
   "interpreter": {
    "hash": "ff4f85d6e04298634172ac5d8264e7e9b556b95639fe52ebb9425c4d4cba0c9c"
   }
  }
 },
 "nbformat": 4,
 "nbformat_minor": 5
}
