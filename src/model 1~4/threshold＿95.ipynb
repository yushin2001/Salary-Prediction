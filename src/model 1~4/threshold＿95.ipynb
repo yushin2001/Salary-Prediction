{
 "cells": [
  {
   "cell_type": "code",
   "execution_count": 1,
   "id": "4a118d4e-31a4-4adc-af1f-042d96da9d24",
   "metadata": {},
   "outputs": [],
   "source": [
    "import pandas as pd\n",
    "data_x = pd.read_csv('final_x.csv')  \n",
    "data_y = pd.read_csv('before_standard_y.csv')  \n",
    "# data_info = pd.read_csv('x_names_final.csv')"
   ]
  },
  {
   "cell_type": "code",
   "execution_count": 2,
   "id": "dcd991b7-2d43-4e2f-b1fc-a04cb816d4ae",
   "metadata": {},
   "outputs": [],
   "source": [
    "import numpy as np\n",
    "columns = list(data_x.columns)\n",
    "data_x_numpy = data_x.to_numpy()\n",
    "data_y_numpy = data_y.to_numpy()"
   ]
  },
  {
   "cell_type": "code",
   "execution_count": 3,
   "id": "1c470d59-9626-4acc-a2fb-bee4d0f19413",
   "metadata": {},
   "outputs": [],
   "source": [
    "delete_index_x = []\n",
    "delete_index_y = []\n",
    "\n",
    "for i in range(len(columns)):\n",
    "    if 'Unnamed' in data_x.columns[i]:\n",
    "        delete_index_x.append(i)\n",
    "    elif data_x.columns[i] == 'id':\n",
    "        delete_index_x.append(i)\n",
    "\n",
    "delete_index_x.reverse()    \n",
    "for j in delete_index_x:\n",
    "    data_x_numpy = np.delete(data_x_numpy, j, 1)\n",
    "    del columns[j]\n",
    "    \n",
    "for m in range(len(list(data_y.columns))):\n",
    "    if 'Unnamed' in data_y.columns[m]:\n",
    "        delete_index_y.append(m)\n",
    "\n",
    "delete_index_y.reverse()    \n",
    "for n in delete_index_y:\n",
    "    data_y_numpy = np.delete(data_y_numpy, n, 1)"
   ]
  },
  {
   "cell_type": "code",
   "execution_count": 4,
   "id": "e749ada8-b787-4a16-8038-7ff5b4b6e9ef",
   "metadata": {},
   "outputs": [
    {
     "data": {
      "text/plain": [
       "((131624, 3967), (131624, 2), 3967)"
      ]
     },
     "execution_count": 4,
     "metadata": {},
     "output_type": "execute_result"
    }
   ],
   "source": [
    "data_x_numpy.shape, data_y_numpy.shape, len(columns)"
   ]
  },
  {
   "cell_type": "markdown",
   "id": "44fce1dd-3db3-4699-82e4-bc6233e7744c",
   "metadata": {},
   "source": [
    "## Feature Selection\n",
    "使用Validation Threshold，threshold選0.9"
   ]
  },
  {
   "cell_type": "code",
   "execution_count": 5,
   "id": "14778e85-b643-4914-94be-6dccda479d2d",
   "metadata": {},
   "outputs": [],
   "source": [
    "from sklearn.feature_selection import VarianceThreshold\n",
    "sel = VarianceThreshold(threshold=(.95 * (1 - .95)))\n",
    "X = sel.fit_transform(data_x_numpy)"
   ]
  },
  {
   "cell_type": "code",
   "execution_count": 6,
   "id": "5335a8c5-f0b3-4a71-80c1-4278655a8338",
   "metadata": {},
   "outputs": [
    {
     "data": {
      "text/plain": [
       "(131624, 85)"
      ]
     },
     "execution_count": 6,
     "metadata": {},
     "output_type": "execute_result"
    }
   ],
   "source": [
    "X.shape"
   ]
  },
  {
   "cell_type": "code",
   "execution_count": 7,
   "id": "ecbce9da-f955-484c-94cc-4d6a6b659b31",
   "metadata": {},
   "outputs": [],
   "source": [
    "selected_column = []\n",
    "for i in range(len(sel.get_support())):\n",
    "    if sel.get_support()[i] == True:\n",
    "        selected_column.append(columns[i])"
   ]
  },
  {
   "cell_type": "code",
   "execution_count": 8,
   "id": "4a97163f-5bfd-4f4d-9501-82c491a18090",
   "metadata": {},
   "outputs": [
    {
     "data": {
      "text/plain": [
       "['appearDate',\n",
       " 'enviornmentPic',\n",
       " 'driverLicense',\n",
       " 'other',\n",
       " 'welfare',\n",
       " 'jobDescription',\n",
       " 'businessTrip',\n",
       " 'workPeriod',\n",
       " 'edu_不拘',\n",
       " 'edu_大學以上',\n",
       " 'edu_專科、大學',\n",
       " 'edu_專科以上',\n",
       " 'edu_高中、專科、大學',\n",
       " 'edu_高中以上',\n",
       " 'language_英文',\n",
       " 'specialty_Excel',\n",
       " 'specialty_Outlook',\n",
       " 'specialty_PowerPoint',\n",
       " 'specialty_Word',\n",
       " 'jobCategory_作業員／包裝員',\n",
       " 'jobCategory_國內業務人員',\n",
       " 'jobCategory_店長／賣場管理人員',\n",
       " 'jobCategory_門市／店員／專櫃人員',\n",
       " 'jobCategory_餐廚助手',\n",
       " 'jobCategory_餐飲服務生',\n",
       " 'adressArea_台中市',\n",
       " 'adressArea_台北市',\n",
       " 'adressArea_台南市',\n",
       " 'adressArea_新北市',\n",
       " 'adressArea_桃園市',\n",
       " 'adressArea_高雄市',\n",
       " 'vacationPolicy_依公司規定',\n",
       " 'vacationPolicy_週休二日',\n",
       " 'startWorkingDay_一個月內',\n",
       " 'startWorkingDay_一週內',\n",
       " 'startWorkingDay_不限',\n",
       " 'startWorkingDay_兩週內',\n",
       " 'industry_餐館業',\n",
       " 'apply_male_ratio',\n",
       " 'apply_major_一般商業學類',\n",
       " 'apply_major_不拘',\n",
       " 'apply_major_企業管理相關',\n",
       " 'apply_major_其他相關科系',\n",
       " 'apply_major_國際貿易相關',\n",
       " 'apply_major_普通科',\n",
       " 'apply_major_英美語文相關',\n",
       " 'apply_major_觀光事務相關',\n",
       " 'apply_major_資訊管理相關',\n",
       " 'apply_major_電機電子工程相關',\n",
       " 'apply_major_餐旅服務相關',\n",
       " 'apply_education_不拘',\n",
       " 'apply_education_博碩士',\n",
       " 'apply_education_國中(含)以下',\n",
       " 'apply_education_專科',\n",
       " 'apply_education_無法判斷',\n",
       " 'apply_education_高中職',\n",
       " 'apply_age_20歲以下',\n",
       " 'apply_age_21~25歲',\n",
       " 'apply_age_26~30歲',\n",
       " 'apply_age_31~35歲',\n",
       " 'apply_age_36~40歲',\n",
       " 'apply_age_41~45歲',\n",
       " 'apply_age_46~50歲',\n",
       " 'apply_age_51~55歲',\n",
       " 'apply_age_56~60歲',\n",
       " 'apply_age_60歲以上',\n",
       " 'apply_exp_10~15年',\n",
       " 'apply_exp_15~20年',\n",
       " 'apply_exp_1~3年 ',\n",
       " 'apply_exp_1年以下',\n",
       " 'apply_exp_20~25年',\n",
       " 'apply_exp_25年以上',\n",
       " 'apply_exp_3~5年',\n",
       " 'apply_exp_5~10年',\n",
       " 'apply_exp_無工作經驗',\n",
       " 'apply_lang_其他_中等',\n",
       " 'apply_lang_其他_精通',\n",
       " 'apply_lang_日文_略懂',\n",
       " 'apply_lang_英文_不會',\n",
       " 'apply_lang_英文_中等',\n",
       " 'apply_lang_英文_略懂',\n",
       " 'apply_lang_英文_精通',\n",
       " 'apply_skill_Excel',\n",
       " 'apply_skill_PowerPoint',\n",
       " 'apply_skill_Word']"
      ]
     },
     "execution_count": 8,
     "metadata": {},
     "output_type": "execute_result"
    }
   ],
   "source": [
    "selected_column"
   ]
  },
  {
   "cell_type": "markdown",
   "id": "02cb7d63-1fbf-4db8-8576-0a7bc5666886",
   "metadata": {},
   "source": [
    "## Split Train, Valid, Stack and Test"
   ]
  },
  {
   "cell_type": "code",
   "execution_count": 9,
   "id": "13fb69cb-dc45-471b-9117-1185295246bf",
   "metadata": {},
   "outputs": [],
   "source": [
    "from sklearn.model_selection import train_test_split\n",
    "X_train, X_test, y_train, y_test = train_test_split(X, data_y_numpy, test_size=0.2)\n",
    "X_train, X_valid, y_train, y_valid = train_test_split(X_train, y_train, test_size=0.2)"
   ]
  },
  {
   "cell_type": "code",
   "execution_count": 10,
   "id": "5ed619fb-b44e-4aef-b050-00c34d64fd00",
   "metadata": {},
   "outputs": [
    {
     "name": "stdout",
     "output_type": "stream",
     "text": [
      "X_train shape: (84239, 85)\n",
      "y_train shape: (84239, 2)\n",
      "X_valid shape: (21060, 85)\n",
      "y_valid shape: (21060, 2)\n",
      "X_test shape: (26325, 85)\n",
      "y_test shape: (26325, 2)\n"
     ]
    }
   ],
   "source": [
    "print('X_train shape:', X_train.shape)\n",
    "print('y_train shape:', y_train.shape)\n",
    "print('X_valid shape:', X_valid.shape)\n",
    "print('y_valid shape:', y_valid.shape)\n",
    "print('X_test shape:', X_test.shape)\n",
    "print('y_test shape:', y_test.shape)"
   ]
  },
  {
   "cell_type": "markdown",
   "id": "c5790d87-a589-4bc1-819b-c997578dd2c5",
   "metadata": {},
   "source": [
    "## Linear Regression"
   ]
  },
  {
   "cell_type": "code",
   "execution_count": 11,
   "id": "bc88bed5-168d-44bb-804f-2de059685d9b",
   "metadata": {},
   "outputs": [],
   "source": [
    "from sklearn.multioutput import MultiOutputRegressor\n",
    "from sklearn.linear_model import LinearRegression\n",
    "reg = MultiOutputRegressor(LinearRegression()).fit(X_train, y_train)"
   ]
  },
  {
   "cell_type": "code",
   "execution_count": 12,
   "id": "70cd05fa-4f0e-4186-ba54-e0222825c09b",
   "metadata": {},
   "outputs": [
    {
     "name": "stdout",
     "output_type": "stream",
     "text": [
      "test rmse: [5613.547082338637, 19538.92398005586]\n",
      "test mae:  [3548.8520263087657, 10733.732848780046]\n"
     ]
    }
   ],
   "source": [
    "ypred = reg.predict(X_test)\n",
    "\n",
    "reg_rmse = []\n",
    "reg_rmse.append(np.mean(np.square(y_test[:, 0] - ypred[:, 0])) ** 0.5)\n",
    "reg_rmse.append(np.mean(np.square(y_test[:, 1] - ypred[:, 1])) ** 0.5)\n",
    "\n",
    "reg_mae = []\n",
    "reg_mae.append(np.mean(np.abs(y_test[:, 0] - ypred[:, 0])))\n",
    "reg_mae.append(np.mean(np.abs(y_test[:, 1] - ypred[:, 1])))\n",
    "\n",
    "print('test rmse:', reg_rmse)\n",
    "print('test mae: ', reg_mae)"
   ]
  },
  {
   "cell_type": "markdown",
   "id": "b94e3370-289e-48cb-83fe-145a42222210",
   "metadata": {},
   "source": [
    "## Lasso\n",
    "tune alpha(regularization strength)\n",
    "有Convergence Warning，將max iter設為1000，並關閉warning"
   ]
  },
  {
   "cell_type": "code",
   "execution_count": 13,
   "id": "35d07213-1165-449b-a013-d2fb50cf750d",
   "metadata": {},
   "outputs": [],
   "source": [
    "from sklearn.multioutput import MultiOutputRegressor\n",
    "from sklearn import linear_model\n",
    "import warnings\n",
    "warnings.filterwarnings('ignore')\n",
    "\n",
    "lasso_alpha = [0.0001, 0.001, 0.01, 0.1, 1, 10, 100]\n",
    "lasso_rmse = np.zeros((len(lasso_alpha), 2))\n",
    "lasso_mae = np.zeros((len(lasso_alpha), 2))\n",
    "\n",
    "for i in range(len(lasso_alpha)):\n",
    "    lasso = MultiOutputRegressor(linear_model.Lasso(alpha=lasso_alpha[i], max_iter=1000)).fit(X_train, y_train)\n",
    "    ypred = lasso.predict(X_valid)\n",
    "    lasso_rmse[i, 0] = np.mean(np.square(y_valid[:, 0] - ypred[:, 0])) ** 0.5\n",
    "    lasso_rmse[i, 1] = np.mean(np.square(y_valid[:, 1] - ypred[:, 1])) ** 0.5\n",
    "    lasso_mae[i, 0] = np.mean(np.abs(y_valid[:, 0] - ypred[:, 0]))\n",
    "    lasso_mae[i, 1] = np.mean(np.abs(y_valid[:, 1] - ypred[:, 1]))"
   ]
  },
  {
   "cell_type": "code",
   "execution_count": 14,
   "id": "d2353077-1e82-4de7-8d6f-8eb3bc6bab6a",
   "metadata": {},
   "outputs": [
    {
     "data": {
      "text/plain": [
       "(array([[ 6089.33188843, 21106.83349379],\n",
       "        [ 6089.33145855, 21106.83176349],\n",
       "        [ 6089.32782307, 21106.81440217],\n",
       "        [ 6089.34264048, 21106.62529834],\n",
       "        [ 6088.41239581, 21105.72143785],\n",
       "        [ 6094.20903842, 21113.67553911],\n",
       "        [ 6238.05579529, 21219.86881462]]),\n",
       " array([[ 3604.06618653, 11090.79403766],\n",
       "        [ 3604.06446654, 11090.78965246],\n",
       "        [ 3604.0480512 , 11090.74520599],\n",
       "        [ 3603.93661802, 11090.25325932],\n",
       "        [ 3602.50563652, 11085.78637886],\n",
       "        [ 3603.95405312, 11066.18618119],\n",
       "        [ 3748.5413322 , 11013.31323067]]))"
      ]
     },
     "execution_count": 14,
     "metadata": {},
     "output_type": "execute_result"
    }
   ],
   "source": [
    "lasso_rmse, lasso_mae"
   ]
  },
  {
   "cell_type": "code",
   "execution_count": 15,
   "id": "3fa7524a-2985-42da-86e3-531ba1b294ff",
   "metadata": {},
   "outputs": [],
   "source": [
    "lasso_index = np.argmin(np.sum(lasso_rmse, axis=1))\n",
    "best_lasso_alpha = lasso_alpha[lasso_index]"
   ]
  },
  {
   "cell_type": "code",
   "execution_count": 16,
   "id": "7db257ec-5cd8-469c-bad3-68e289792536",
   "metadata": {},
   "outputs": [
    {
     "data": {
      "text/plain": [
       "1"
      ]
     },
     "execution_count": 16,
     "metadata": {},
     "output_type": "execute_result"
    }
   ],
   "source": [
    "best_lasso_alpha"
   ]
  },
  {
   "cell_type": "markdown",
   "id": "37ef4c7f-23d4-482d-a497-dae7a441b888",
   "metadata": {},
   "source": [
    "選rmse加總最小者"
   ]
  },
  {
   "cell_type": "code",
   "execution_count": 17,
   "id": "8cd819db-ac6d-4e16-9ac2-983b10483d37",
   "metadata": {},
   "outputs": [],
   "source": [
    "best_lasso = MultiOutputRegressor(linear_model.Lasso(alpha=best_lasso_alpha)).fit(X_train, y_train)\n",
    "ypred = best_lasso.predict(X_test)\n",
    "\n",
    "best_lasso_rmse = []\n",
    "best_lasso_rmse.append(np.mean(np.square(y_test[:, 0] - ypred[:, 0])) ** 0.5)\n",
    "best_lasso_rmse.append(np.mean(np.square(y_test[:, 1] - ypred[:, 1])) ** 0.5)\n",
    "\n",
    "best_lasso_mae = []\n",
    "best_lasso_mae.append(np.mean(np.abs(y_test[:, 0] - ypred[:, 0])))\n",
    "best_lasso_mae.append(np.mean(np.abs(y_test[:, 1] - ypred[:, 1])))"
   ]
  },
  {
   "cell_type": "code",
   "execution_count": 18,
   "id": "61ec5ca1-f5ec-4acd-bde0-984fd6a03f16",
   "metadata": {},
   "outputs": [
    {
     "data": {
      "text/plain": [
       "([5614.205021779923, 19537.00259773125],\n",
       " [3547.2685713795727, 10728.808247156756])"
      ]
     },
     "execution_count": 18,
     "metadata": {},
     "output_type": "execute_result"
    }
   ],
   "source": [
    "best_lasso_rmse, best_lasso_mae"
   ]
  },
  {
   "cell_type": "markdown",
   "id": "aabdf421-615a-4d0b-9c9e-2227bd467c52",
   "metadata": {},
   "source": [
    "## Ridge\n",
    "tune alpha(regularization strength)"
   ]
  },
  {
   "cell_type": "code",
   "execution_count": 19,
   "id": "1b10dcbc-64dd-44b6-9411-3be0c7d51424",
   "metadata": {},
   "outputs": [],
   "source": [
    "from sklearn.multioutput import MultiOutputRegressor\n",
    "from sklearn import linear_model\n",
    "\n",
    "ridge_rmse = np.zeros((len(lasso_alpha), 2))\n",
    "ridge_mae = np.zeros((len(lasso_alpha), 2))\n",
    "ridge_alpha = [0.0001, 0.001, 0.01, 0.1, 1, 10, 100]\n",
    "\n",
    "for i in range(len(ridge_alpha)):\n",
    "    ridge = linear_model.Ridge(alpha=i).fit(X_train, y_train)\n",
    "    ypred = ridge.predict(X_valid)\n",
    "    ridge_rmse[i, 0] = np.mean(np.square(y_valid[:, 0] - ypred[:, 0])) ** 0.5\n",
    "    ridge_rmse[i, 1] = np.mean(np.square(y_valid[:, 1] - ypred[:, 1])) ** 0.5\n",
    "    ridge_mae[i, 0] = np.mean(np.abs(y_valid[:, 0] - ypred[:, 0]))\n",
    "    ridge_mae[i, 1] = np.mean(np.abs(y_valid[:, 1] - ypred[:, 1]))"
   ]
  },
  {
   "cell_type": "code",
   "execution_count": 20,
   "id": "4e6abf5c-7ed8-4759-aacf-0132bb084af5",
   "metadata": {},
   "outputs": [
    {
     "data": {
      "text/plain": [
       "(array([[ 6088.79507863, 21105.3131988 ],\n",
       "        [ 6088.9795625 , 21105.16857616],\n",
       "        [ 6089.10590965, 21105.18777591],\n",
       "        [ 6089.180739  , 21105.23551035],\n",
       "        [ 6089.22499328, 21105.28654571],\n",
       "        [ 6089.25058217, 21105.33480609],\n",
       "        [ 6089.2642079 , 21105.37900322]]),\n",
       " array([[ 3604.04196042, 11088.92917427],\n",
       "        [ 3603.95179893, 11087.69378382],\n",
       "        [ 3603.92585523, 11087.12139163],\n",
       "        [ 3603.95497968, 11086.81240051],\n",
       "        [ 3603.96081395, 11086.56619453],\n",
       "        [ 3603.95541969, 11086.34571775],\n",
       "        [ 3603.94435221, 11086.20988625]]))"
      ]
     },
     "execution_count": 20,
     "metadata": {},
     "output_type": "execute_result"
    }
   ],
   "source": [
    "ridge_rmse, ridge_mae"
   ]
  },
  {
   "cell_type": "code",
   "execution_count": 21,
   "id": "88a293c4-9928-41f2-beba-8429ecc9679d",
   "metadata": {},
   "outputs": [],
   "source": [
    "ridge_index = np.argmin(np.sum(ridge_rmse, axis=1))\n",
    "best_ridge_alpha = ridge_alpha[ridge_index]"
   ]
  },
  {
   "cell_type": "code",
   "execution_count": 22,
   "id": "c87080f3-7511-4b4e-acd2-7a119c375b82",
   "metadata": {},
   "outputs": [
    {
     "data": {
      "text/plain": [
       "0.0001"
      ]
     },
     "execution_count": 22,
     "metadata": {},
     "output_type": "execute_result"
    }
   ],
   "source": [
    "best_ridge_alpha"
   ]
  },
  {
   "cell_type": "code",
   "execution_count": 23,
   "id": "16e317dc-3c6d-4539-bdd0-b151285bade3",
   "metadata": {},
   "outputs": [],
   "source": [
    "best_ridge = MultiOutputRegressor(linear_model.Ridge(alpha=best_ridge_alpha)).fit(X_train, y_train)\n",
    "ypred = best_ridge.predict(X_test)\n",
    "\n",
    "best_ridge_rmse = []\n",
    "best_ridge_rmse.append(np.mean(np.square(y_test[:, 0] - ypred[:, 0])) ** 0.5)\n",
    "best_ridge_rmse.append(np.mean(np.square(y_test[:, 1] - ypred[:, 1])) ** 0.5)\n",
    "\n",
    "best_ridge_mae = []\n",
    "best_ridge_mae.append(np.mean(np.abs(y_test[:, 0] - ypred[:, 0])))\n",
    "best_ridge_mae.append(np.mean(np.abs(y_test[:, 1] - ypred[:, 1])))"
   ]
  },
  {
   "cell_type": "code",
   "execution_count": 24,
   "id": "5adbac27-b2aa-4fdf-8355-57d13ab75fe5",
   "metadata": {},
   "outputs": [
    {
     "data": {
      "text/plain": [
       "([5613.547106719652, 19538.923872374613], [3548.852009104005, 10733.732616861])"
      ]
     },
     "execution_count": 24,
     "metadata": {},
     "output_type": "execute_result"
    }
   ],
   "source": [
    "best_ridge_rmse, best_ridge_mae"
   ]
  },
  {
   "cell_type": "markdown",
   "id": "40645247-6d92-471e-aeeb-52d7ce4f6d26",
   "metadata": {},
   "source": [
    "## Random Forest\n",
    "tune max depth, n_estimators"
   ]
  },
  {
   "cell_type": "code",
   "execution_count": 25,
   "id": "b4523a9d-e47e-4a11-bb47-e1432df79ea5",
   "metadata": {},
   "outputs": [],
   "source": [
    "from sklearn.multioutput import MultiOutputRegressor\n",
    "from sklearn.model_selection import RandomizedSearchCV as RSCV\n",
    "from sklearn.ensemble import RandomForestRegressor\n",
    "\n",
    "param_grid = {'estimator__n_estimators':np.arange(5,1000,10),\n",
    "              'estimator__max_depth': [5, 10, 20]}\n",
    "\n",
    "model = RSCV(MultiOutputRegressor(RandomForestRegressor()), param_grid, n_iter = 15).fit(X_train, y_train)\n",
    "best_random_forest = model.best_estimator_"
   ]
  },
  {
   "cell_type": "code",
   "execution_count": 26,
   "id": "83009836-568a-4a8c-a1ce-9937f5e27b54",
   "metadata": {},
   "outputs": [],
   "source": [
    "ypred = best_random_forest.predict(X_test)\n",
    "best_forest_rmse = []\n",
    "best_forest_rmse.append(np.mean(np.square(y_test[:, 0] - ypred[:, 0])) ** 0.5)\n",
    "best_forest_rmse.append(np.mean(np.square(y_test[:, 1] - ypred[:, 1])) ** 0.5)\n",
    "best_forest_mae = []\n",
    "best_forest_mae.append(np.mean(np.abs(y_test[:, 0] - ypred[:, 0])))\n",
    "best_forest_mae.append(np.mean(np.abs(y_test[:, 1] - ypred[:, 1])))"
   ]
  },
  {
   "cell_type": "code",
   "execution_count": 27,
   "id": "c59a5d9a-f407-4967-a7c6-b28403e5bba9",
   "metadata": {},
   "outputs": [
    {
     "data": {
      "text/plain": [
       "([5041.300810321682, 15018.332595331487],\n",
       " [3144.2036233210297, 8090.188764325724])"
      ]
     },
     "execution_count": 27,
     "metadata": {},
     "output_type": "execute_result"
    }
   ],
   "source": [
    "best_forest_rmse, best_forest_mae"
   ]
  },
  {
   "cell_type": "code",
   "execution_count": 28,
   "id": "fa9d8d67-d46b-4850-ad55-cab9d08b1570",
   "metadata": {},
   "outputs": [
    {
     "data": {
      "text/html": [
       "<style>#sk-container-id-1 {color: black;background-color: white;}#sk-container-id-1 pre{padding: 0;}#sk-container-id-1 div.sk-toggleable {background-color: white;}#sk-container-id-1 label.sk-toggleable__label {cursor: pointer;display: block;width: 100%;margin-bottom: 0;padding: 0.3em;box-sizing: border-box;text-align: center;}#sk-container-id-1 label.sk-toggleable__label-arrow:before {content: \"▸\";float: left;margin-right: 0.25em;color: #696969;}#sk-container-id-1 label.sk-toggleable__label-arrow:hover:before {color: black;}#sk-container-id-1 div.sk-estimator:hover label.sk-toggleable__label-arrow:before {color: black;}#sk-container-id-1 div.sk-toggleable__content {max-height: 0;max-width: 0;overflow: hidden;text-align: left;background-color: #f0f8ff;}#sk-container-id-1 div.sk-toggleable__content pre {margin: 0.2em;color: black;border-radius: 0.25em;background-color: #f0f8ff;}#sk-container-id-1 input.sk-toggleable__control:checked~div.sk-toggleable__content {max-height: 200px;max-width: 100%;overflow: auto;}#sk-container-id-1 input.sk-toggleable__control:checked~label.sk-toggleable__label-arrow:before {content: \"▾\";}#sk-container-id-1 div.sk-estimator input.sk-toggleable__control:checked~label.sk-toggleable__label {background-color: #d4ebff;}#sk-container-id-1 div.sk-label input.sk-toggleable__control:checked~label.sk-toggleable__label {background-color: #d4ebff;}#sk-container-id-1 input.sk-hidden--visually {border: 0;clip: rect(1px 1px 1px 1px);clip: rect(1px, 1px, 1px, 1px);height: 1px;margin: -1px;overflow: hidden;padding: 0;position: absolute;width: 1px;}#sk-container-id-1 div.sk-estimator {font-family: monospace;background-color: #f0f8ff;border: 1px dotted black;border-radius: 0.25em;box-sizing: border-box;margin-bottom: 0.5em;}#sk-container-id-1 div.sk-estimator:hover {background-color: #d4ebff;}#sk-container-id-1 div.sk-parallel-item::after {content: \"\";width: 100%;border-bottom: 1px solid gray;flex-grow: 1;}#sk-container-id-1 div.sk-label:hover label.sk-toggleable__label {background-color: #d4ebff;}#sk-container-id-1 div.sk-serial::before {content: \"\";position: absolute;border-left: 1px solid gray;box-sizing: border-box;top: 0;bottom: 0;left: 50%;z-index: 0;}#sk-container-id-1 div.sk-serial {display: flex;flex-direction: column;align-items: center;background-color: white;padding-right: 0.2em;padding-left: 0.2em;position: relative;}#sk-container-id-1 div.sk-item {position: relative;z-index: 1;}#sk-container-id-1 div.sk-parallel {display: flex;align-items: stretch;justify-content: center;background-color: white;position: relative;}#sk-container-id-1 div.sk-item::before, #sk-container-id-1 div.sk-parallel-item::before {content: \"\";position: absolute;border-left: 1px solid gray;box-sizing: border-box;top: 0;bottom: 0;left: 50%;z-index: -1;}#sk-container-id-1 div.sk-parallel-item {display: flex;flex-direction: column;z-index: 1;position: relative;background-color: white;}#sk-container-id-1 div.sk-parallel-item:first-child::after {align-self: flex-end;width: 50%;}#sk-container-id-1 div.sk-parallel-item:last-child::after {align-self: flex-start;width: 50%;}#sk-container-id-1 div.sk-parallel-item:only-child::after {width: 0;}#sk-container-id-1 div.sk-dashed-wrapped {border: 1px dashed gray;margin: 0 0.4em 0.5em 0.4em;box-sizing: border-box;padding-bottom: 0.4em;background-color: white;}#sk-container-id-1 div.sk-label label {font-family: monospace;font-weight: bold;display: inline-block;line-height: 1.2em;}#sk-container-id-1 div.sk-label-container {text-align: center;}#sk-container-id-1 div.sk-container {/* jupyter's `normalize.less` sets `[hidden] { display: none; }` but bootstrap.min.css set `[hidden] { display: none !important; }` so we also need the `!important` here to be able to override the default hidden behavior on the sphinx rendered scikit-learn.org. See: https://github.com/scikit-learn/scikit-learn/issues/21755 */display: inline-block !important;position: relative;}#sk-container-id-1 div.sk-text-repr-fallback {display: none;}</style><div id=\"sk-container-id-1\" class=\"sk-top-container\"><div class=\"sk-text-repr-fallback\"><pre>MultiOutputRegressor(estimator=RandomForestRegressor(max_depth=20,\n",
       "                                                     n_estimators=465))</pre><b>In a Jupyter environment, please rerun this cell to show the HTML representation or trust the notebook. <br />On GitHub, the HTML representation is unable to render, please try loading this page with nbviewer.org.</b></div><div class=\"sk-container\" hidden><div class=\"sk-item sk-dashed-wrapped\"><div class=\"sk-label-container\"><div class=\"sk-label sk-toggleable\"><input class=\"sk-toggleable__control sk-hidden--visually\" id=\"sk-estimator-id-1\" type=\"checkbox\" ><label for=\"sk-estimator-id-1\" class=\"sk-toggleable__label sk-toggleable__label-arrow\">MultiOutputRegressor</label><div class=\"sk-toggleable__content\"><pre>MultiOutputRegressor(estimator=RandomForestRegressor(max_depth=20,\n",
       "                                                     n_estimators=465))</pre></div></div></div><div class=\"sk-parallel\"><div class=\"sk-parallel-item\"><div class=\"sk-item\"><div class=\"sk-label-container\"><div class=\"sk-label sk-toggleable\"><input class=\"sk-toggleable__control sk-hidden--visually\" id=\"sk-estimator-id-2\" type=\"checkbox\" ><label for=\"sk-estimator-id-2\" class=\"sk-toggleable__label sk-toggleable__label-arrow\">estimator: RandomForestRegressor</label><div class=\"sk-toggleable__content\"><pre>RandomForestRegressor(max_depth=20, n_estimators=465)</pre></div></div></div><div class=\"sk-serial\"><div class=\"sk-item\"><div class=\"sk-estimator sk-toggleable\"><input class=\"sk-toggleable__control sk-hidden--visually\" id=\"sk-estimator-id-3\" type=\"checkbox\" ><label for=\"sk-estimator-id-3\" class=\"sk-toggleable__label sk-toggleable__label-arrow\">RandomForestRegressor</label><div class=\"sk-toggleable__content\"><pre>RandomForestRegressor(max_depth=20, n_estimators=465)</pre></div></div></div></div></div></div></div></div></div></div>"
      ],
      "text/plain": [
       "MultiOutputRegressor(estimator=RandomForestRegressor(max_depth=20,\n",
       "                                                     n_estimators=465))"
      ]
     },
     "execution_count": 28,
     "metadata": {},
     "output_type": "execute_result"
    }
   ],
   "source": [
    "model.best_estimator_"
   ]
  },
  {
   "cell_type": "code",
   "execution_count": null,
   "id": "4fcdc6b6-1af8-4aff-b526-f3c54e1f6804",
   "metadata": {},
   "outputs": [],
   "source": []
  }
 ],
 "metadata": {
  "kernelspec": {
   "display_name": "Python 3 (ipykernel)",
   "language": "python",
   "name": "python3"
  },
  "language_info": {
   "codemirror_mode": {
    "name": "ipython",
    "version": 3
   },
   "file_extension": ".py",
   "mimetype": "text/x-python",
   "name": "python",
   "nbconvert_exporter": "python",
   "pygments_lexer": "ipython3",
   "version": "3.8.8"
  }
 },
 "nbformat": 4,
 "nbformat_minor": 5
}
