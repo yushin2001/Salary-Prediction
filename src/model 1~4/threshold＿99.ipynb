{
 "cells": [
  {
   "cell_type": "code",
   "execution_count": 1,
   "id": "4a118d4e-31a4-4adc-af1f-042d96da9d24",
   "metadata": {},
   "outputs": [],
   "source": [
    "import pandas as pd\n",
    "data_x = pd.read_csv('final_x.csv')  \n",
    "data_y = pd.read_csv('before_standard_y.csv')  \n",
    "# data_info = pd.read_csv('x_names_final.csv')"
   ]
  },
  {
   "cell_type": "code",
   "execution_count": 2,
   "id": "dcd991b7-2d43-4e2f-b1fc-a04cb816d4ae",
   "metadata": {},
   "outputs": [],
   "source": [
    "import numpy as np\n",
    "columns = list(data_x.columns)\n",
    "data_x_numpy = data_x.to_numpy()\n",
    "data_y_numpy = data_y.to_numpy()"
   ]
  },
  {
   "cell_type": "code",
   "execution_count": 3,
   "id": "1c470d59-9626-4acc-a2fb-bee4d0f19413",
   "metadata": {},
   "outputs": [],
   "source": [
    "delete_index_x = []\n",
    "delete_index_y = []\n",
    "\n",
    "for i in range(len(columns)):\n",
    "    if 'Unnamed' in data_x.columns[i]:\n",
    "        delete_index_x.append(i)\n",
    "    elif data_x.columns[i] == 'id':\n",
    "        delete_index_x.append(i)\n",
    "\n",
    "delete_index_x.reverse()    \n",
    "for j in delete_index_x:\n",
    "    data_x_numpy = np.delete(data_x_numpy, j, 1)\n",
    "    del columns[j]\n",
    "    \n",
    "for m in range(len(list(data_y.columns))):\n",
    "    if 'Unnamed' in data_y.columns[m]:\n",
    "        delete_index_y.append(m)\n",
    "\n",
    "delete_index_y.reverse()    \n",
    "for n in delete_index_y:\n",
    "    data_y_numpy = np.delete(data_y_numpy, n, 1)"
   ]
  },
  {
   "cell_type": "code",
   "execution_count": 4,
   "id": "e749ada8-b787-4a16-8038-7ff5b4b6e9ef",
   "metadata": {},
   "outputs": [
    {
     "data": {
      "text/plain": [
       "((131624, 3967), (131624, 2), 3967)"
      ]
     },
     "execution_count": 4,
     "metadata": {},
     "output_type": "execute_result"
    }
   ],
   "source": [
    "data_x_numpy.shape, data_y_numpy.shape, len(columns)"
   ]
  },
  {
   "cell_type": "markdown",
   "id": "44fce1dd-3db3-4699-82e4-bc6233e7744c",
   "metadata": {},
   "source": [
    "## Feature Selection\n",
    "使用Validation Threshold，threshold選0.9"
   ]
  },
  {
   "cell_type": "code",
   "execution_count": 5,
   "id": "14778e85-b643-4914-94be-6dccda479d2d",
   "metadata": {},
   "outputs": [],
   "source": [
    "from sklearn.feature_selection import VarianceThreshold\n",
    "sel = VarianceThreshold(threshold=(.99 * (1 - .99)))\n",
    "X = sel.fit_transform(data_x_numpy)"
   ]
  },
  {
   "cell_type": "code",
   "execution_count": 6,
   "id": "5335a8c5-f0b3-4a71-80c1-4278655a8338",
   "metadata": {},
   "outputs": [
    {
     "data": {
      "text/plain": [
       "(131624, 294)"
      ]
     },
     "execution_count": 6,
     "metadata": {},
     "output_type": "execute_result"
    }
   ],
   "source": [
    "X.shape"
   ]
  },
  {
   "cell_type": "code",
   "execution_count": 7,
   "id": "ecbce9da-f955-484c-94cc-4d6a6b659b31",
   "metadata": {},
   "outputs": [],
   "source": [
    "selected_column = []\n",
    "for i in range(len(sel.get_support())):\n",
    "    if sel.get_support()[i] == True:\n",
    "        selected_column.append(columns[i])"
   ]
  },
  {
   "cell_type": "code",
   "execution_count": 8,
   "id": "4a97163f-5bfd-4f4d-9501-82c491a18090",
   "metadata": {},
   "outputs": [
    {
     "data": {
      "text/plain": [
       "['appearDate',\n",
       " 'enviornmentPic',\n",
       " 'driverLicense',\n",
       " 'other',\n",
       " 'welfare',\n",
       " 'jobDescription',\n",
       " 'businessTrip',\n",
       " 'workPeriod',\n",
       " 'edu_不拘',\n",
       " 'edu_大學',\n",
       " 'edu_大學、碩士',\n",
       " 'edu_大學以上',\n",
       " 'edu_專科、大學',\n",
       " 'edu_專科、大學、碩士',\n",
       " 'edu_專科以上',\n",
       " 'edu_高中',\n",
       " 'edu_高中、專科',\n",
       " 'edu_高中、專科、大學',\n",
       " 'edu_高中、專科、大學、碩士',\n",
       " 'edu_高中以上',\n",
       " 'edu_高中以下、高中、專科、大學',\n",
       " 'major_一般商業學類',\n",
       " 'major_商業及管理學科類',\n",
       " 'major_土木工程相關',\n",
       " 'major_工程學科類',\n",
       " 'major_會計學相關',\n",
       " 'major_機械工程相關',\n",
       " 'major_機械維護相關',\n",
       " 'major_護理助產相關',\n",
       " 'major_資訊工程相關',\n",
       " 'major_資訊管理相關',\n",
       " 'major_電機電子工程相關',\n",
       " 'major_電機電子維護相關',\n",
       " 'language_中文',\n",
       " 'language_日文',\n",
       " 'language_英文',\n",
       " 'specialty_Adobe Photoshop',\n",
       " 'specialty_AutoCAD',\n",
       " 'specialty_Excel',\n",
       " 'specialty_Illustrator',\n",
       " 'specialty_Outlook',\n",
       " 'specialty_PowerPoint',\n",
       " 'specialty_Word',\n",
       " 'specialty_中文打字20~50',\n",
       " 'specialty_中文打字50~75',\n",
       " 'specialty_英文打字20~50',\n",
       " 'skill_報表彙整與管理',\n",
       " 'skill_客戶情報蒐集',\n",
       " 'skill_客戶資料更新維護',\n",
       " 'skill_客訴案件處理',\n",
       " 'skill_文件或資料輸入建檔處理',\n",
       " 'skill_文件收發與檔案管理',\n",
       " 'skill_文件檔案資料處理、轉換及整合工作',\n",
       " 'skill_文書處理╱排版能力',\n",
       " 'skill_業務或通路開發',\n",
       " 'skill_業績目標分配與績效達成',\n",
       " 'skill_業績與管理報表撰寫',\n",
       " 'skill_櫃檯門市接待與需求服務',\n",
       " 'skill_產品介紹及解說銷售',\n",
       " 'skill_行政事務處理',\n",
       " 'skill_電話接聽與人員接待事項',\n",
       " 'skill_食材貯存管理',\n",
       " 'skill_食物製前準備',\n",
       " 'certificate_TOEIC (多益測驗)',\n",
       " 'certificate_普通小型車駕照',\n",
       " 'certificate_高考護理師執照',\n",
       " 'jobCategory_中餐廚師',\n",
       " 'jobCategory_作業員／包裝員',\n",
       " 'jobCategory_保全人員／警衛',\n",
       " 'jobCategory_倉儲物流人員',\n",
       " 'jobCategory_倉管',\n",
       " 'jobCategory_儲備幹部',\n",
       " 'jobCategory_其他保安服務工作',\n",
       " 'jobCategory_其他客戶服務人員',\n",
       " 'jobCategory_其他機械操作員',\n",
       " 'jobCategory_其他類廚師',\n",
       " 'jobCategory_助理工程師',\n",
       " 'jobCategory_品管／檢驗人員',\n",
       " 'jobCategory_售票／收銀人員',\n",
       " 'jobCategory_國內業務人員',\n",
       " 'jobCategory_外務／快遞／送貨',\n",
       " 'jobCategory_大樓管理員',\n",
       " 'jobCategory_家事服務人員',\n",
       " 'jobCategory_小客車／計程車及小貨車司機',\n",
       " 'jobCategory_工務人員／助理',\n",
       " 'jobCategory_平面設計／美編人員',\n",
       " 'jobCategory_店長／賣場管理人員',\n",
       " 'jobCategory_教保員',\n",
       " 'jobCategory_業務助理',\n",
       " 'jobCategory_機械加工技術人員',\n",
       " 'jobCategory_櫃檯接待人員',\n",
       " 'jobCategory_清潔工／資源回收人員',\n",
       " 'jobCategory_物管／資材',\n",
       " 'jobCategory_生產技術／製程工程師',\n",
       " 'jobCategory_產品售後技術服務',\n",
       " 'jobCategory_產品維修人員',\n",
       " 'jobCategory_產品行銷人員',\n",
       " 'jobCategory_網站行銷企劃',\n",
       " 'jobCategory_美容工作者',\n",
       " 'jobCategory_行政人員',\n",
       " 'jobCategory_行政助理',\n",
       " 'jobCategory_行銷企劃人員',\n",
       " 'jobCategory_補習班導師／管理人員',\n",
       " 'jobCategory_西餐廚師',\n",
       " 'jobCategory_記帳／出納／一般會計',\n",
       " 'jobCategory_調酒師／吧台人員',\n",
       " 'jobCategory_護理師及護士',\n",
       " 'jobCategory_財務會計助理',\n",
       " 'jobCategory_軟體設計工程師',\n",
       " 'jobCategory_通路開發人員',\n",
       " 'jobCategory_連鎖店管理人員',\n",
       " 'jobCategory_門市／店員／專櫃人員',\n",
       " 'jobCategory_電機工程技術員',\n",
       " 'jobCategory_電話客服類人員',\n",
       " 'jobCategory_電話行銷人員',\n",
       " 'jobCategory_飯店工作人員',\n",
       " 'jobCategory_飯店或餐廳主管',\n",
       " 'jobCategory_餐廚助手',\n",
       " 'jobCategory_餐飲服務生',\n",
       " 'adressArea_南投縣',\n",
       " 'adressArea_台中市',\n",
       " 'adressArea_台北市',\n",
       " 'adressArea_台南市',\n",
       " 'adressArea_嘉義市',\n",
       " 'adressArea_宜蘭縣',\n",
       " 'adressArea_屏東縣',\n",
       " 'adressArea_彰化縣',\n",
       " 'adressArea_新北市',\n",
       " 'adressArea_新竹市',\n",
       " 'adressArea_新竹縣',\n",
       " 'adressArea_桃園市',\n",
       " 'adressArea_苗栗縣',\n",
       " 'adressArea_雲林縣',\n",
       " 'adressArea_高雄市',\n",
       " 'vacationPolicy_依公司規定',\n",
       " 'vacationPolicy_週休二日',\n",
       " 'startWorkingDay_一個月內',\n",
       " 'startWorkingDay_一週內',\n",
       " 'startWorkingDay_不限',\n",
       " 'startWorkingDay_兩週內',\n",
       " 'startWorkingDay_可年後上班',\n",
       " 'industry_不動產經營業',\n",
       " 'industry_人力仲介代徵',\n",
       " 'industry_保全樓管相關業',\n",
       " 'industry_儲配／運輸物流業',\n",
       " 'industry_其他醫療保健服務業',\n",
       " 'industry_其他金屬相關製造業',\n",
       " 'industry_其他電子零組件相關業',\n",
       " 'industry_其他餐飲業',\n",
       " 'industry_半導體製造業',\n",
       " 'industry_工商顧問服務業',\n",
       " 'industry_建築工程業',\n",
       " 'industry_旅館業',\n",
       " 'industry_汽車及其零件製造業',\n",
       " 'industry_環境衛生及污染防治服務業',\n",
       " 'industry_百貨相關業',\n",
       " 'industry_綜合商品批發代理業',\n",
       " 'industry_網際網路相關業',\n",
       " 'industry_美容／美體業',\n",
       " 'industry_補習班',\n",
       " 'industry_診所',\n",
       " 'industry_運動服務業',\n",
       " 'industry_醫院',\n",
       " 'industry_量販流通相關業',\n",
       " 'industry_電力機械器材製造修配業',\n",
       " 'industry_電腦及其週邊設備製造業',\n",
       " 'industry_電腦系統整合服務業',\n",
       " 'industry_電腦軟體服務業',\n",
       " 'industry_飲料店業',\n",
       " 'industry_餐館業',\n",
       " 'apply_male_ratio',\n",
       " 'apply_major_一般商業學類',\n",
       " 'apply_major_不拘',\n",
       " 'apply_major_企業管理相關',\n",
       " 'apply_major_其他商業及管理相關',\n",
       " 'apply_major_其他外國語文相關',\n",
       " 'apply_major_其他工業技藝相關',\n",
       " 'apply_major_其他工程相關',\n",
       " 'apply_major_其他數學及電算機科學相關',\n",
       " 'apply_major_其他相關科系',\n",
       " 'apply_major_其他藝術相關',\n",
       " 'apply_major_其他觀光服務相關',\n",
       " 'apply_major_其他醫藥衛生相關',\n",
       " 'apply_major_化學工程相關',\n",
       " 'apply_major_化學相關',\n",
       " 'apply_major_國際貿易相關',\n",
       " 'apply_major_土木工程相關',\n",
       " 'apply_major_大眾傳播學相關',\n",
       " 'apply_major_學前教育相關',\n",
       " 'apply_major_專業科目教育相關',\n",
       " 'apply_major_工業工程相關',\n",
       " 'apply_major_工業管理相關',\n",
       " 'apply_major_市場行銷相關',\n",
       " 'apply_major_建築相關',\n",
       " 'apply_major_文書管理相關',\n",
       " 'apply_major_日文相關科系',\n",
       " 'apply_major_普通科',\n",
       " 'apply_major_會計學相關',\n",
       " 'apply_major_本國語文相關',\n",
       " 'apply_major_機械工程相關',\n",
       " 'apply_major_機械維護相關',\n",
       " 'apply_major_汽車汽修相關',\n",
       " 'apply_major_法律相關科系',\n",
       " 'apply_major_環境工程相關',\n",
       " 'apply_major_生物學相關',\n",
       " 'apply_major_社會學相關',\n",
       " 'apply_major_經濟學相關',\n",
       " 'apply_major_綜合教育相關',\n",
       " 'apply_major_美容美髮相關',\n",
       " 'apply_major_美術學相關',\n",
       " 'apply_major_美術工藝相關',\n",
       " 'apply_major_英美語文相關',\n",
       " 'apply_major_藝術商業設計',\n",
       " 'apply_major_觀光事務相關',\n",
       " 'apply_major_護理助產相關',\n",
       " 'apply_major_財稅金融相關',\n",
       " 'apply_major_資訊工程相關',\n",
       " 'apply_major_資訊管理相關',\n",
       " 'apply_major_醫務管理相關',\n",
       " 'apply_major_銀行保險相關',\n",
       " 'apply_major_電機電子工程相關',\n",
       " 'apply_major_電機電子維護相關',\n",
       " 'apply_major_食品營養相關',\n",
       " 'apply_major_食品科學相關',\n",
       " 'apply_major_餐旅服務相關',\n",
       " 'apply_major_體育相關',\n",
       " 'apply_education_不拘',\n",
       " 'apply_education_博碩士',\n",
       " 'apply_education_國中(含)以下',\n",
       " 'apply_education_大學',\n",
       " 'apply_education_專科',\n",
       " 'apply_education_無法判斷',\n",
       " 'apply_education_高中職',\n",
       " 'apply_age_20歲以下',\n",
       " 'apply_age_21~25歲',\n",
       " 'apply_age_26~30歲',\n",
       " 'apply_age_31~35歲',\n",
       " 'apply_age_36~40歲',\n",
       " 'apply_age_41~45歲',\n",
       " 'apply_age_46~50歲',\n",
       " 'apply_age_51~55歲',\n",
       " 'apply_age_56~60歲',\n",
       " 'apply_age_60歲以上',\n",
       " 'apply_exp_10~15年',\n",
       " 'apply_exp_15~20年',\n",
       " 'apply_exp_1~3年 ',\n",
       " 'apply_exp_1年以下',\n",
       " 'apply_exp_20~25年',\n",
       " 'apply_exp_25年以上',\n",
       " 'apply_exp_3~5年',\n",
       " 'apply_exp_5~10年',\n",
       " 'apply_exp_無工作經驗',\n",
       " 'apply_lang_其他_不會',\n",
       " 'apply_lang_其他_中等',\n",
       " 'apply_lang_其他_略懂',\n",
       " 'apply_lang_其他_精通',\n",
       " 'apply_lang_日文_不會',\n",
       " 'apply_lang_日文_中等',\n",
       " 'apply_lang_日文_略懂',\n",
       " 'apply_lang_日文_精通',\n",
       " 'apply_lang_英文_不會',\n",
       " 'apply_lang_英文_中等',\n",
       " 'apply_lang_英文_略懂',\n",
       " 'apply_lang_英文_精通',\n",
       " 'apply_lang_西班牙文_略懂',\n",
       " 'apply_lang_韓文_略懂',\n",
       " 'apply_skill_Adobe Photoshop',\n",
       " 'apply_skill_Android',\n",
       " 'apply_skill_AutoCAD',\n",
       " 'apply_skill_Excel',\n",
       " 'apply_skill_Illustrator',\n",
       " 'apply_skill_Internet Explorer',\n",
       " 'apply_skill_Outlook',\n",
       " 'apply_skill_PowerPoint',\n",
       " 'apply_skill_Windows 2000',\n",
       " 'apply_skill_Windows 7',\n",
       " 'apply_skill_Windows 98',\n",
       " 'apply_skill_Windows XP',\n",
       " 'apply_skill_Word',\n",
       " 'apply_skill_中文打字20~50',\n",
       " 'apply_skill_中文打字50~75',\n",
       " 'apply_skill_中文打字75~100',\n",
       " 'apply_skill_英文打字20~50',\n",
       " 'apply_skill_英文打字50~75',\n",
       " 'apply_cert_TOEIC (多益測驗)',\n",
       " 'apply_cert_TQC-OA-中文輸入',\n",
       " 'apply_cert_丙級中餐烹調技術士',\n",
       " 'apply_cert_丙級會計事務技術士',\n",
       " 'apply_cert_丙級烘焙食品技術士',\n",
       " 'apply_cert_丙級電腦軟體應用技術士',\n",
       " 'apply_cert_人身保險業務員',\n",
       " 'apply_cert_堆高機操作技術士',\n",
       " 'apply_cert_普通小型車駕照',\n",
       " 'apply_cert_普通重型機車駕照']"
      ]
     },
     "execution_count": 8,
     "metadata": {},
     "output_type": "execute_result"
    }
   ],
   "source": [
    "selected_column"
   ]
  },
  {
   "cell_type": "markdown",
   "id": "02cb7d63-1fbf-4db8-8576-0a7bc5666886",
   "metadata": {},
   "source": [
    "## Split Train, Valid, Stack and Test"
   ]
  },
  {
   "cell_type": "code",
   "execution_count": 9,
   "id": "13fb69cb-dc45-471b-9117-1185295246bf",
   "metadata": {},
   "outputs": [],
   "source": [
    "from sklearn.model_selection import train_test_split\n",
    "X_train, X_test, y_train, y_test = train_test_split(X, data_y_numpy, test_size=0.2)\n",
    "X_train, X_valid, y_train, y_valid = train_test_split(X_train, y_train, test_size=0.2)"
   ]
  },
  {
   "cell_type": "code",
   "execution_count": 10,
   "id": "5ed619fb-b44e-4aef-b050-00c34d64fd00",
   "metadata": {},
   "outputs": [
    {
     "name": "stdout",
     "output_type": "stream",
     "text": [
      "X_train shape: (84239, 294)\n",
      "y_train shape: (84239, 2)\n",
      "X_valid shape: (21060, 294)\n",
      "y_valid shape: (21060, 2)\n",
      "X_test shape: (26325, 294)\n",
      "y_test shape: (26325, 2)\n"
     ]
    }
   ],
   "source": [
    "print('X_train shape:', X_train.shape)\n",
    "print('y_train shape:', y_train.shape)\n",
    "print('X_valid shape:', X_valid.shape)\n",
    "print('y_valid shape:', y_valid.shape)\n",
    "print('X_test shape:', X_test.shape)\n",
    "print('y_test shape:', y_test.shape)"
   ]
  },
  {
   "cell_type": "markdown",
   "id": "c5790d87-a589-4bc1-819b-c997578dd2c5",
   "metadata": {},
   "source": [
    "## Linear Regression"
   ]
  },
  {
   "cell_type": "code",
   "execution_count": 11,
   "id": "bc88bed5-168d-44bb-804f-2de059685d9b",
   "metadata": {},
   "outputs": [],
   "source": [
    "from sklearn.multioutput import MultiOutputRegressor\n",
    "from sklearn.linear_model import LinearRegression\n",
    "reg = MultiOutputRegressor(LinearRegression()).fit(X_train, y_train)"
   ]
  },
  {
   "cell_type": "code",
   "execution_count": 12,
   "id": "70cd05fa-4f0e-4186-ba54-e0222825c09b",
   "metadata": {},
   "outputs": [
    {
     "name": "stdout",
     "output_type": "stream",
     "text": [
      "test rmse: [5612.927925179542, 18760.63329381766]\n",
      "test mae:  [3287.9468423551757, 9938.916448243115]\n"
     ]
    }
   ],
   "source": [
    "ypred = reg.predict(X_test)\n",
    "\n",
    "reg_rmse = []\n",
    "reg_rmse.append(np.mean(np.square(y_test[:, 0] - ypred[:, 0])) ** 0.5)\n",
    "reg_rmse.append(np.mean(np.square(y_test[:, 1] - ypred[:, 1])) ** 0.5)\n",
    "\n",
    "reg_mae = []\n",
    "reg_mae.append(np.mean(np.abs(y_test[:, 0] - ypred[:, 0])))\n",
    "reg_mae.append(np.mean(np.abs(y_test[:, 1] - ypred[:, 1])))\n",
    "\n",
    "print('test rmse:', reg_rmse)\n",
    "print('test mae: ', reg_mae)"
   ]
  },
  {
   "cell_type": "markdown",
   "id": "b94e3370-289e-48cb-83fe-145a42222210",
   "metadata": {},
   "source": [
    "## Lasso\n",
    "tune alpha(regularization strength)\n",
    "有Convergence Warning，將max iter設為1000，並關閉warning"
   ]
  },
  {
   "cell_type": "code",
   "execution_count": 13,
   "id": "35d07213-1165-449b-a013-d2fb50cf750d",
   "metadata": {},
   "outputs": [],
   "source": [
    "from sklearn.multioutput import MultiOutputRegressor\n",
    "from sklearn import linear_model\n",
    "import warnings\n",
    "warnings.filterwarnings('ignore')\n",
    "\n",
    "lasso_alpha = [0.0001, 0.001, 0.01, 0.1, 1, 10, 100]\n",
    "lasso_rmse = np.zeros((len(lasso_alpha), 2))\n",
    "lasso_mae = np.zeros((len(lasso_alpha), 2))\n",
    "\n",
    "for i in range(len(lasso_alpha)):\n",
    "    lasso = MultiOutputRegressor(linear_model.Lasso(alpha=lasso_alpha[i], max_iter=1000)).fit(X_train, y_train)\n",
    "    ypred = lasso.predict(X_valid)\n",
    "    lasso_rmse[i, 0] = np.mean(np.square(y_valid[:, 0] - ypred[:, 0])) ** 0.5\n",
    "    lasso_rmse[i, 1] = np.mean(np.square(y_valid[:, 1] - ypred[:, 1])) ** 0.5\n",
    "    lasso_mae[i, 0] = np.mean(np.abs(y_valid[:, 0] - ypred[:, 0]))\n",
    "    lasso_mae[i, 1] = np.mean(np.abs(y_valid[:, 1] - ypred[:, 1]))"
   ]
  },
  {
   "cell_type": "code",
   "execution_count": 14,
   "id": "d2353077-1e82-4de7-8d6f-8eb3bc6bab6a",
   "metadata": {},
   "outputs": [
    {
     "data": {
      "text/plain": [
       "(array([[ 5400.64311951, 18541.94800812],\n",
       "        [ 5400.63912604, 18541.94366784],\n",
       "        [ 5400.60112427, 18541.90040738],\n",
       "        [ 5400.29775448, 18541.48191113],\n",
       "        [ 5401.26801742, 18538.91221273],\n",
       "        [ 5449.65969504, 18557.243134  ],\n",
       "        [ 5822.55311777, 19049.96063197]]),\n",
       " array([[ 3256.18618833,  9962.98742356],\n",
       "        [ 3256.1762966 ,  9962.97375067],\n",
       "        [ 3256.07789763,  9962.83703288],\n",
       "        [ 3255.16625337,  9961.50496957],\n",
       "        [ 3250.44970444,  9949.59011192],\n",
       "        [ 3269.54550098,  9876.8116389 ],\n",
       "        [ 3635.07728328, 10044.14729425]]))"
      ]
     },
     "execution_count": 14,
     "metadata": {},
     "output_type": "execute_result"
    }
   ],
   "source": [
    "lasso_rmse, lasso_mae"
   ]
  },
  {
   "cell_type": "code",
   "execution_count": 15,
   "id": "3fa7524a-2985-42da-86e3-531ba1b294ff",
   "metadata": {},
   "outputs": [],
   "source": [
    "lasso_index = np.argmin(np.sum(lasso_rmse, axis=1))\n",
    "best_lasso_alpha = lasso_alpha[lasso_index]"
   ]
  },
  {
   "cell_type": "code",
   "execution_count": 16,
   "id": "7db257ec-5cd8-469c-bad3-68e289792536",
   "metadata": {},
   "outputs": [
    {
     "data": {
      "text/plain": [
       "1"
      ]
     },
     "execution_count": 16,
     "metadata": {},
     "output_type": "execute_result"
    }
   ],
   "source": [
    "best_lasso_alpha"
   ]
  },
  {
   "cell_type": "markdown",
   "id": "37ef4c7f-23d4-482d-a497-dae7a441b888",
   "metadata": {},
   "source": [
    "選rmse加總最小者"
   ]
  },
  {
   "cell_type": "code",
   "execution_count": 17,
   "id": "8cd819db-ac6d-4e16-9ac2-983b10483d37",
   "metadata": {},
   "outputs": [],
   "source": [
    "best_lasso = MultiOutputRegressor(linear_model.Lasso(alpha=best_lasso_alpha)).fit(X_train, y_train)\n",
    "ypred = best_lasso.predict(X_test)\n",
    "\n",
    "best_lasso_rmse = []\n",
    "best_lasso_rmse.append(np.mean(np.square(y_test[:, 0] - ypred[:, 0])) ** 0.5)\n",
    "best_lasso_rmse.append(np.mean(np.square(y_test[:, 1] - ypred[:, 1])) ** 0.5)\n",
    "\n",
    "best_lasso_mae = []\n",
    "best_lasso_mae.append(np.mean(np.abs(y_test[:, 0] - ypred[:, 0])))\n",
    "best_lasso_mae.append(np.mean(np.abs(y_test[:, 1] - ypred[:, 1])))"
   ]
  },
  {
   "cell_type": "code",
   "execution_count": 18,
   "id": "61ec5ca1-f5ec-4acd-bde0-984fd6a03f16",
   "metadata": {},
   "outputs": [
    {
     "data": {
      "text/plain": [
       "([5613.314146686907, 18756.210906227832],\n",
       " [3282.4939082234373, 9923.116043938091])"
      ]
     },
     "execution_count": 18,
     "metadata": {},
     "output_type": "execute_result"
    }
   ],
   "source": [
    "best_lasso_rmse, best_lasso_mae"
   ]
  },
  {
   "cell_type": "markdown",
   "id": "aabdf421-615a-4d0b-9c9e-2227bd467c52",
   "metadata": {},
   "source": [
    "## Ridge\n",
    "tune alpha(regularization strength)"
   ]
  },
  {
   "cell_type": "code",
   "execution_count": 19,
   "id": "1b10dcbc-64dd-44b6-9411-3be0c7d51424",
   "metadata": {},
   "outputs": [],
   "source": [
    "from sklearn.multioutput import MultiOutputRegressor\n",
    "from sklearn import linear_model\n",
    "\n",
    "ridge_rmse = np.zeros((len(lasso_alpha), 2))\n",
    "ridge_mae = np.zeros((len(lasso_alpha), 2))\n",
    "ridge_alpha = [0.0001, 0.001, 0.01, 0.1, 1, 10, 100]\n",
    "\n",
    "for i in range(len(ridge_alpha)):\n",
    "    ridge = linear_model.Ridge(alpha=i).fit(X_train, y_train)\n",
    "    ypred = ridge.predict(X_valid)\n",
    "    ridge_rmse[i, 0] = np.mean(np.square(y_valid[:, 0] - ypred[:, 0])) ** 0.5\n",
    "    ridge_rmse[i, 1] = np.mean(np.square(y_valid[:, 1] - ypred[:, 1])) ** 0.5\n",
    "    ridge_mae[i, 0] = np.mean(np.abs(y_valid[:, 0] - ypred[:, 0]))\n",
    "    ridge_mae[i, 1] = np.mean(np.abs(y_valid[:, 1] - ypred[:, 1]))"
   ]
  },
  {
   "cell_type": "code",
   "execution_count": 20,
   "id": "4e6abf5c-7ed8-4759-aacf-0132bb084af5",
   "metadata": {},
   "outputs": [
    {
     "data": {
      "text/plain": [
       "(array([[ 5399.93564937, 18542.2096407 ],\n",
       "        [ 5400.0132462 , 18541.4736524 ],\n",
       "        [ 5400.1216273 , 18541.47767159],\n",
       "        [ 5400.19043599, 18541.5050127 ],\n",
       "        [ 5400.23795265, 18541.5438506 ],\n",
       "        [ 5400.27226079, 18541.59051404],\n",
       "        [ 5400.29769427, 18541.64347373]]),\n",
       " array([[3255.7898623 , 9964.6331434 ],\n",
       "        [3255.61617954, 9962.4787278 ],\n",
       "        [3255.56327626, 9961.77929474],\n",
       "        [3255.50074385, 9961.20581676],\n",
       "        [3255.4307479 , 9960.6697647 ],\n",
       "        [3255.35639937, 9960.15925162],\n",
       "        [3255.27982884, 9959.65079322]]))"
      ]
     },
     "execution_count": 20,
     "metadata": {},
     "output_type": "execute_result"
    }
   ],
   "source": [
    "ridge_rmse, ridge_mae"
   ]
  },
  {
   "cell_type": "code",
   "execution_count": 21,
   "id": "88a293c4-9928-41f2-beba-8429ecc9679d",
   "metadata": {},
   "outputs": [],
   "source": [
    "ridge_index = np.argmin(np.sum(ridge_rmse, axis=1))\n",
    "best_ridge_alpha = ridge_alpha[ridge_index]"
   ]
  },
  {
   "cell_type": "code",
   "execution_count": 22,
   "id": "c87080f3-7511-4b4e-acd2-7a119c375b82",
   "metadata": {},
   "outputs": [
    {
     "data": {
      "text/plain": [
       "0.001"
      ]
     },
     "execution_count": 22,
     "metadata": {},
     "output_type": "execute_result"
    }
   ],
   "source": [
    "best_ridge_alpha"
   ]
  },
  {
   "cell_type": "code",
   "execution_count": 23,
   "id": "16e317dc-3c6d-4539-bdd0-b151285bade3",
   "metadata": {},
   "outputs": [],
   "source": [
    "best_ridge = MultiOutputRegressor(linear_model.Ridge(alpha=best_ridge_alpha)).fit(X_train, y_train)\n",
    "ypred = best_ridge.predict(X_test)\n",
    "\n",
    "best_ridge_rmse = []\n",
    "best_ridge_rmse.append(np.mean(np.square(y_test[:, 0] - ypred[:, 0])) ** 0.5)\n",
    "best_ridge_rmse.append(np.mean(np.square(y_test[:, 1] - ypred[:, 1])) ** 0.5)\n",
    "\n",
    "best_ridge_mae = []\n",
    "best_ridge_mae.append(np.mean(np.abs(y_test[:, 0] - ypred[:, 0])))\n",
    "best_ridge_mae.append(np.mean(np.abs(y_test[:, 1] - ypred[:, 1])))"
   ]
  },
  {
   "cell_type": "code",
   "execution_count": 24,
   "id": "5adbac27-b2aa-4fdf-8355-57d13ab75fe5",
   "metadata": {},
   "outputs": [
    {
     "data": {
      "text/plain": [
       "([5612.992453328786, 18760.698725910464],\n",
       " [3287.9259146844865, 9938.866557944688])"
      ]
     },
     "execution_count": 24,
     "metadata": {},
     "output_type": "execute_result"
    }
   ],
   "source": [
    "best_ridge_rmse, best_ridge_mae"
   ]
  },
  {
   "cell_type": "markdown",
   "id": "40645247-6d92-471e-aeeb-52d7ce4f6d26",
   "metadata": {},
   "source": [
    "## Random Forest\n",
    "tune max depth, n_estimators"
   ]
  },
  {
   "cell_type": "code",
   "execution_count": null,
   "id": "b4523a9d-e47e-4a11-bb47-e1432df79ea5",
   "metadata": {},
   "outputs": [],
   "source": [
    "from sklearn.multioutput import MultiOutputRegressor\n",
    "from sklearn.model_selection import RandomizedSearchCV as RSCV\n",
    "from sklearn.ensemble import RandomForestRegressor\n",
    "\n",
    "param_grid = {'estimator__n_estimators':np.arange(5,1000,10),\n",
    "              'estimator__max_depth': [5, 10, 20]}\n",
    "\n",
    "model = RSCV(MultiOutputRegressor(RandomForestRegressor()), param_grid, n_iter = 15).fit(X_train, y_train)\n",
    "best_random_forest = model.best_estimator_"
   ]
  },
  {
   "cell_type": "code",
   "execution_count": null,
   "id": "83009836-568a-4a8c-a1ce-9937f5e27b54",
   "metadata": {},
   "outputs": [],
   "source": [
    "ypred = best_random_forest.predict(X_test)\n",
    "best_forest_rmse = []\n",
    "best_forest_rmse.append(np.mean(np.square(y_test[:, 0] - ypred[:, 0])) ** 0.5)\n",
    "best_forest_rmse.append(np.mean(np.square(y_test[:, 1] - ypred[:, 1])) ** 0.5)\n",
    "best_forest_mae = []\n",
    "best_forest_mae.append(np.mean(np.abs(y_test[:, 0] - ypred[:, 0])))\n",
    "best_forest_mae.append(np.mean(np.abs(y_test[:, 1] - ypred[:, 1])))"
   ]
  },
  {
   "cell_type": "code",
   "execution_count": null,
   "id": "c59a5d9a-f407-4967-a7c6-b28403e5bba9",
   "metadata": {},
   "outputs": [],
   "source": [
    "best_forest_rmse, best_forest_mae"
   ]
  },
  {
   "cell_type": "code",
   "execution_count": null,
   "id": "fa9d8d67-d46b-4850-ad55-cab9d08b1570",
   "metadata": {},
   "outputs": [],
   "source": [
    "model.best_estimator_"
   ]
  },
  {
   "cell_type": "code",
   "execution_count": null,
   "id": "4fcdc6b6-1af8-4aff-b526-f3c54e1f6804",
   "metadata": {},
   "outputs": [],
   "source": []
  }
 ],
 "metadata": {
  "kernelspec": {
   "display_name": "Python 3 (ipykernel)",
   "language": "python",
   "name": "python3"
  },
  "language_info": {
   "codemirror_mode": {
    "name": "ipython",
    "version": 3
   },
   "file_extension": ".py",
   "mimetype": "text/x-python",
   "name": "python",
   "nbconvert_exporter": "python",
   "pygments_lexer": "ipython3",
   "version": "3.8.8"
  }
 },
 "nbformat": 4,
 "nbformat_minor": 5
}
