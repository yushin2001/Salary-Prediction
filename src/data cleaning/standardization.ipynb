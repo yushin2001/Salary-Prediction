{
 "cells": [
  {
   "cell_type": "code",
   "execution_count": 1,
   "id": "c8279c3a-4092-4b52-b073-5d5ceb1e31ea",
   "metadata": {},
   "outputs": [],
   "source": [
    "import pandas as pd\n",
    "y_train = pd.read_csv('before_standard_y.csv')"
   ]
  },
  {
   "cell_type": "code",
   "execution_count": 2,
   "id": "e68250f1-06c1-4f34-a1cc-70ce1fff04bb",
   "metadata": {},
   "outputs": [
    {
     "name": "stdout",
     "output_type": "stream",
     "text": [
      "35035.00408224636\n",
      "55701.006330113145\n",
      "55329.46312593438\n",
      "163668.97477900377\n"
     ]
    }
   ],
   "source": [
    "#薪水標準差與平均\n",
    "salaryMin_mean = y_train['salaryMin'].mean()\n",
    "salaryMax_mean = y_train['salaryMax'].mean()\n",
    "salaryMin_std = y_train['salaryMin'].std()\n",
    "salaryMax_std = y_train['salaryMax'].std()\n",
    "print(salaryMin_mean)\n",
    "print(salaryMax_mean)\n",
    "print(salaryMin_std)\n",
    "print(salaryMax_std)"
   ]
  },
  {
   "cell_type": "code",
   "execution_count": 4,
   "id": "b36da9e2-35d5-419c-a542-ca6b9608afdc",
   "metadata": {},
   "outputs": [],
   "source": [
    "#薪水標準化\n",
    "from sklearn.preprocessing import StandardScaler\n",
    "y_train[['salaryMin','salaryMax']] = StandardScaler().fit_transform(y_train[['salaryMin','salaryMax']])"
   ]
  },
  {
   "cell_type": "code",
   "execution_count": 5,
   "id": "c89d768f-f7bf-4996-bcc3-d8946ce88d0a",
   "metadata": {},
   "outputs": [],
   "source": [
    "y_train.to_csv('after_standard_y.csv')"
   ]
  },
  {
   "cell_type": "code",
   "execution_count": 6,
   "id": "6efa7bcb-8cac-4f1b-9f9c-6765047ae16b",
   "metadata": {},
   "outputs": [],
   "source": [
    "without_apply_x = pd.read_csv('without_apply_x_final.csv')"
   ]
  },
  {
   "cell_type": "code",
   "execution_count": 8,
   "id": "314e03f1-a493-44f3-9fc6-96af5cbcbdab",
   "metadata": {},
   "outputs": [],
   "source": [
    "without_apply_x[['other', 'welfare', 'jobDescription']] = StandardScaler().fit_transform(without_apply_x[['other', 'welfare', 'jobDescription']])"
   ]
  },
  {
   "cell_type": "code",
   "execution_count": 9,
   "id": "c0aaab90-74b0-4112-98e3-72eddde7bc4b",
   "metadata": {},
   "outputs": [],
   "source": [
    "without_apply_x.to_csv('without_apply_x_fina_standard.csv')"
   ]
  },
  {
   "cell_type": "code",
   "execution_count": null,
   "id": "6aaafa9b-3e43-4235-abd1-d1bc93f589c0",
   "metadata": {},
   "outputs": [],
   "source": []
  }
 ],
 "metadata": {
  "kernelspec": {
   "display_name": "Python 3 (ipykernel)",
   "language": "python",
   "name": "python3"
  },
  "language_info": {
   "codemirror_mode": {
    "name": "ipython",
    "version": 3
   },
   "file_extension": ".py",
   "mimetype": "text/x-python",
   "name": "python",
   "nbconvert_exporter": "python",
   "pygments_lexer": "ipython3",
   "version": "3.9.5"
  }
 },
 "nbformat": 4,
 "nbformat_minor": 5
}
