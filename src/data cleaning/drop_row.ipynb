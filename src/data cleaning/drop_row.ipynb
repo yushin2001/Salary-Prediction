{
 "cells": [
  {
   "cell_type": "code",
   "execution_count": 1,
   "id": "9807436d-7478-401b-a1c7-1ffea695f0e0",
   "metadata": {},
   "outputs": [],
   "source": [
    "#名稱檔，刪除薪資資料缺值之row\n",
    "import pandas as pd\n",
    "names_df = pd.read_csv('complete_data/x_names.csv')"
   ]
  },
  {
   "cell_type": "code",
   "execution_count": 3,
   "id": "74f6b2cd-e28e-4376-802f-e6777bd60379",
   "metadata": {},
   "outputs": [],
   "source": [
    "txt_file = open(\"delete_index.txt\", \"r\")\n",
    "file_content = txt_file.read()\n",
    "content_list = file_content.split(\",\")\n",
    "txt_file.close()"
   ]
  },
  {
   "cell_type": "code",
   "execution_count": 4,
   "id": "c2db8450-f6bc-44ff-8d74-659de085197b",
   "metadata": {},
   "outputs": [],
   "source": [
    "for i in range(len(content_list)):\n",
    "    content_list[i] = int(content_list[i])"
   ]
  },
  {
   "cell_type": "code",
   "execution_count": 5,
   "id": "903abebe-a6d7-4139-92ae-d264a9f1cac1",
   "metadata": {},
   "outputs": [],
   "source": [
    "names_df = names_df.drop(labels=content_list , axis=0)"
   ]
  },
  {
   "cell_type": "code",
   "execution_count": 10,
   "id": "83dd19e9-0345-421c-b35a-d886177a5816",
   "metadata": {},
   "outputs": [],
   "source": [
    "names_df = names_df.drop(['id', 'Unnamed: 0'], axis=1)"
   ]
  },
  {
   "cell_type": "code",
   "execution_count": 13,
   "id": "c558e90c-9c25-413c-a889-1f270f8a4fc4",
   "metadata": {},
   "outputs": [],
   "source": [
    "names_df.to_csv('complete_data/x_names_final.csv')"
   ]
  },
  {
   "cell_type": "code",
   "execution_count": 7,
   "id": "c31b0324-9e71-445c-bd89-cc849b7aed93",
   "metadata": {},
   "outputs": [],
   "source": [
    "#without_apply_x檔，刪除薪資資料缺值之row\n",
    "without_apply_x = pd.read_csv('complete_data/without_apply_x.csv')"
   ]
  },
  {
   "cell_type": "code",
   "execution_count": 8,
   "id": "496069da-cb5f-4389-94d5-218108a45fd3",
   "metadata": {},
   "outputs": [],
   "source": [
    "without_apply_x = without_apply_x.drop(labels=content_list , axis=0)"
   ]
  },
  {
   "cell_type": "code",
   "execution_count": 14,
   "id": "3ab8d098-c40c-4b8c-ba41-d0e7538f750f",
   "metadata": {},
   "outputs": [],
   "source": [
    "without_apply_x = without_apply_x.drop(['Unnamed: 0'], axis=1)"
   ]
  },
  {
   "cell_type": "code",
   "execution_count": 16,
   "id": "b71472f9-d465-4603-a62b-7f8a3dd012af",
   "metadata": {},
   "outputs": [],
   "source": [
    "without_apply_x.to_csv('complete_data/without_apply_x_final.csv')"
   ]
  }
 ],
 "metadata": {
  "kernelspec": {
   "display_name": "Python 3 (ipykernel)",
   "language": "python",
   "name": "python3"
  },
  "language_info": {
   "codemirror_mode": {
    "name": "ipython",
    "version": 3
   },
   "file_extension": ".py",
   "mimetype": "text/x-python",
   "name": "python",
   "nbconvert_exporter": "python",
   "pygments_lexer": "ipython3",
   "version": "3.9.5"
  }
 },
 "nbformat": 4,
 "nbformat_minor": 5
}
