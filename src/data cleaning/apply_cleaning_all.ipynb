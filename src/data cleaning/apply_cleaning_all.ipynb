{
 "cells": [
  {
   "cell_type": "code",
   "execution_count": 1,
   "id": "1aa38563-b8ca-46e5-95e3-183d1a4f739c",
   "metadata": {},
   "outputs": [],
   "source": [
    "#載入github上的json檔\n",
    "import pandas as pd\n",
    "df = pd.read_json('raw.json')\n",
    "keep_dataframe = df[['jobData','applyData','job_id','cust_id']]"
   ]
  },
  {
   "cell_type": "code",
   "execution_count": 2,
   "id": "0c5f3ce9-6bcf-4132-a155-cb7bbb9291fd",
   "metadata": {},
   "outputs": [],
   "source": [
    "#傳回相同元素的index\n",
    "def list_duplicates_of(seq,item):\n",
    "    start_at = -1\n",
    "    locs = []\n",
    "    while True:\n",
    "        try:\n",
    "            loc = seq.index(item,start_at+1)\n",
    "        except ValueError:\n",
    "            break\n",
    "        else:\n",
    "            locs.append(loc)\n",
    "            start_at = loc\n",
    "    return locs"
   ]
  },
  {
   "cell_type": "code",
   "execution_count": 6,
   "id": "3a3ce503-4695-436d-bc57-62e32d6a807a",
   "metadata": {},
   "outputs": [],
   "source": [
    "#應徵分析x變數\n",
    "complete_data = []\n",
    "complete_data_percent = []\n",
    "\n",
    "an_index = 0\n",
    "\n",
    "for unit_data in range(len(keep_dataframe['jobData'])):\n",
    "    row_data = []\n",
    "    row_data_percent = []\n",
    "    \n",
    "    if unit_data in dead_row:\n",
    "        continue\n",
    "    \n",
    "    #index\n",
    "    row_data.append(an_index)\n",
    "    \n",
    "    ###應徵分析###\n",
    "    row_data.append(float(keep_dataframe['applyData'][unit_data]['sex']['0']['percent'])*0.01) #男生比例\n",
    "    \n",
    "    #科系\n",
    "    major = []\n",
    "    major_percent = {}\n",
    "    del keep_dataframe['applyData'][unit_data]['major']['update_time']\n",
    "    del keep_dataframe['applyData'][unit_data]['major']['total']\n",
    "    for i in range(len(keep_dataframe['applyData'][unit_data]['major'])):\n",
    "        major.append(keep_dataframe['applyData'][unit_data]['major'][str(i)]['majorName'])\n",
    "        major_percent[keep_dataframe['applyData'][unit_data]['major'][str(i)]['majorName']] = float(keep_dataframe['applyData'][unit_data]['major'][str(i)]['percent']) * 0.01\n",
    "    row_data.append(major)\n",
    "    row_data_percent.append(major_percent) \n",
    "    \n",
    "    #學歷\n",
    "    education = []\n",
    "    education_percent = {}\n",
    "    del keep_dataframe['applyData'][unit_data]['edu']['update_time']\n",
    "    del keep_dataframe['applyData'][unit_data]['edu']['total']\n",
    "    for i in range(len(keep_dataframe['applyData'][unit_data]['edu'])):\n",
    "        education.append(keep_dataframe['applyData'][unit_data]['edu'][str(i)]['eduName'])\n",
    "        education_percent[keep_dataframe['applyData'][unit_data]['edu'][str(i)]['eduName']] = float(keep_dataframe['applyData'][unit_data]['edu'][str(i)]['percent'])* 0.01\n",
    "    row_data.append(education)\n",
    "    row_data_percent.append(education_percent)    \n",
    "    \n",
    "    #年齡\n",
    "    yearage = []\n",
    "    yearage_percent = {}\n",
    "    del keep_dataframe['applyData'][unit_data]['yearRange']['update_time']\n",
    "    del keep_dataframe['applyData'][unit_data]['yearRange']['total']\n",
    "    for i in range(len(keep_dataframe['applyData'][unit_data]['yearRange'])):\n",
    "        yearage.append(keep_dataframe['applyData'][unit_data]['yearRange'][str(i)]['yearRangeName'])\n",
    "        yearage_percent[keep_dataframe['applyData'][unit_data]['yearRange'][str(i)]['yearRangeName']] = float(keep_dataframe['applyData'][unit_data]['yearRange'][str(i)]['percent'])* 0.01\n",
    "    row_data.append(yearage)\n",
    "    row_data_percent.append(yearage_percent)\n",
    "    \n",
    "    #工作經驗\n",
    "    exp = []\n",
    "    exp_percent = {}\n",
    "    del keep_dataframe['applyData'][unit_data]['exp']['update_time']\n",
    "    del keep_dataframe['applyData'][unit_data]['exp']['total']\n",
    "    for i in range(len(keep_dataframe['applyData'][unit_data]['exp'])):\n",
    "        exp.append(keep_dataframe['applyData'][unit_data]['exp'][str(i)]['expName'])\n",
    "        exp_percent[keep_dataframe['applyData'][unit_data]['exp'][str(i)]['expName']] = float(keep_dataframe['applyData'][unit_data]['exp'][str(i)]['percent'])* 0.01\n",
    "    row_data.append(exp)\n",
    "    row_data_percent.append(exp_percent)\n",
    "    \n",
    "    #語言\n",
    "    selected_lan = ['英文','日文','韓文','德文','西班牙文']\n",
    "    del keep_dataframe['applyData'][unit_data]['language']['update_time']\n",
    "    del keep_dataframe['applyData'][unit_data]['language']['total']\n",
    "\n",
    "    lan_list={}\n",
    "    for i in range(len(keep_dataframe['applyData'][unit_data]['language'])):\n",
    "        if keep_dataframe['applyData'][unit_data]['language'][str(i)]['langName'] in selected_lan:\n",
    "            if type(keep_dataframe['applyData'][unit_data]['language'][str(i)]['level']) is list:\n",
    "                keep_dataframe['applyData'][unit_data]['language'][str(i)]['level'] = {'0':keep_dataframe['applyData'][unit_data]['language'][str(i)]['level'][0]}\n",
    "            if keep_dataframe['applyData'][unit_data]['language'][str(i)]['langName'] in lan_list:\n",
    "                lan_list[keep_dataframe['applyData'][unit_data]['language'][str(i)]['langName']].append(keep_dataframe['applyData'][unit_data]['language'][str(i)]['level'])\n",
    "            else:\n",
    "                lan_list[keep_dataframe['applyData'][unit_data]['language'][str(i)]['langName']] = [keep_dataframe['applyData'][unit_data]['language'][str(i)]['level']]\n",
    "        else:\n",
    "            if type(keep_dataframe['applyData'][unit_data]['language'][str(i)]['level']) is list:\n",
    "                keep_dataframe['applyData'][unit_data]['language'][str(i)]['level'] = {'0':keep_dataframe['applyData'][unit_data]['language'][str(i)]['level'][0]}\n",
    "            if '其他' in lan_list:\n",
    "                lan_list['其他'].append(keep_dataframe['applyData'][unit_data]['language'][str(i)]['level'])\n",
    "            else:\n",
    "                lan_list['其他'] = [keep_dataframe['applyData'][unit_data]['language'][str(i)]['level']]\n",
    "    all_language = {}\n",
    "    key = list(lan_list.keys())\n",
    "    levels = ['精通','中等','略懂','不會']\n",
    "    for k in key:\n",
    "        inner_level = []\n",
    "        inner_percent = []\n",
    "        for inner in range(len(lan_list[k])):\n",
    "            #為一個dictionary\n",
    "            inner_key = list(lan_list[k][inner].keys())\n",
    "            for y in inner_key:\n",
    "                inner_level.append(lan_list[k][inner][y]['levelName'])\n",
    "                inner_percent.append(float(lan_list[k][inner][y]['percent']))\n",
    "        new_inner_percent = []\n",
    "        new_inner_level = []\n",
    "        for lev in levels: #算語言_level的percent\n",
    "            dup_index = list_duplicates_of(inner_level, lev)\n",
    "            if dup_index != []:\n",
    "                new_inner_level.append(lev)\n",
    "                new_per = 0\n",
    "                for c in dup_index:\n",
    "                    new_per += inner_percent[c]\n",
    "                new_inner_percent.append(new_per)\n",
    "        count = 0\n",
    "        for new_level in new_inner_level:\n",
    "            all_language[k + '_' + new_level] = new_inner_percent[count] * 0.01\n",
    "            count += 1\n",
    "\n",
    "    row_data_percent.append(all_language)\n",
    "    row_data.append(list(all_language.keys()))\n",
    "    \n",
    "    #工作技能\n",
    "    skill = []\n",
    "    skill_percent = {}\n",
    "    del keep_dataframe['applyData'][unit_data]['skill']['update_time']\n",
    "    del keep_dataframe['applyData'][unit_data]['skill']['total']\n",
    "    for i in range(len(keep_dataframe['applyData'][unit_data]['skill'])):\n",
    "        if float(keep_dataframe['applyData'][unit_data]['skill'][str(i)]['percent']) >= 50:\n",
    "            skill.append(keep_dataframe['applyData'][unit_data]['skill'][str(i)]['skillName'])\n",
    "            skill_percent[keep_dataframe['applyData'][unit_data]['skill'][str(i)]['skillName']] = float(keep_dataframe['applyData'][unit_data]['skill'][str(i)]['percent']) * 0.01\n",
    "    row_data.append(skill)\n",
    "    row_data_percent.append(skill_percent)\n",
    "    \n",
    "    #證照\n",
    "    cert = []\n",
    "    cert_percent = {}\n",
    "    del keep_dataframe['applyData'][unit_data]['cert']['update_time']\n",
    "    del keep_dataframe['applyData'][unit_data]['cert']['total']\n",
    "    for i in range(len(keep_dataframe['applyData'][unit_data]['cert'])):\n",
    "        if float(keep_dataframe['applyData'][unit_data]['cert'][str(i)]['percent']) >= 50:\n",
    "            cert.append(keep_dataframe['applyData'][unit_data]['cert'][str(i)]['certName'])\n",
    "            cert_percent[keep_dataframe['applyData'][unit_data]['cert'][str(i)]['certName']] = float(keep_dataframe['applyData'][unit_data]['cert'][str(i)]['percent'])* 0.01\n",
    "    row_data.append(cert)\n",
    "    row_data_percent.append(cert_percent)\n",
    "            \n",
    "    complete_data_percent.append(row_data_percent)\n",
    "    complete_data.append(row_data)\n",
    "    an_index += 1"
   ]
  },
  {
   "cell_type": "code",
   "execution_count": 7,
   "id": "d42d5c0c-3981-4a8a-b155-d6dfc6d2e0a7",
   "metadata": {},
   "outputs": [],
   "source": [
    "column_name_apply = ['id','apply_male_ratio','apply_major','apply_education','apply_age','apply_exp','apply_lang','apply_skill','apply_cert']\n",
    "column_name_percent_apply = ['major_percent','education_percent','yearage_percent','exp_percent','lang_percent','skill_percent','cert_percent']"
   ]
  },
  {
   "cell_type": "code",
   "execution_count": null,
   "id": "5c0ae1b9-1031-4e0b-b7a0-c74d12db9581",
   "metadata": {},
   "outputs": [],
   "source": [
    "none_value = []\n",
    "for t in range(len(complete_data_percent)):\n",
    "    if {} in complete_data_percent[t]:\n",
    "        none_value.append(t)"
   ]
  },
  {
   "cell_type": "code",
   "execution_count": null,
   "id": "493e6f0a-4203-4743-8c12-e9d22874beb3",
   "metadata": {},
   "outputs": [],
   "source": [
    "len(none_value)"
   ]
  },
  {
   "cell_type": "code",
   "execution_count": 8,
   "id": "e58a8e3c-272c-4df4-ae77-1687e0d3c110",
   "metadata": {},
   "outputs": [],
   "source": [
    "df_apply = pd.DataFrame(complete_data,columns=column_name_apply)\n",
    "df_percent_apply = pd.DataFrame(complete_data_percent,columns=column_name_percent_apply)"
   ]
  },
  {
   "cell_type": "code",
   "execution_count": null,
   "id": "01fc3c4b-f5fd-4542-80f8-f7e9a66b74f7",
   "metadata": {},
   "outputs": [],
   "source": [
    "df_percent_apply.to_csv('apply_percent.csv')"
   ]
  },
  {
   "cell_type": "code",
   "execution_count": 9,
   "id": "01cc1045-4e29-43b4-bc61-4d1781509d56",
   "metadata": {},
   "outputs": [],
   "source": [
    "df_apply_long = df_apply.explode('apply_major')\n",
    "one_hot_apply = pd.get_dummies(df_apply_long,columns=['apply_major'])\n",
    "one_hot_apply = one_hot_apply.groupby('id').max().reset_index()"
   ]
  },
  {
   "cell_type": "code",
   "execution_count": 10,
   "id": "8c7738a3-df86-45b0-924b-244f59ffa642",
   "metadata": {},
   "outputs": [],
   "source": [
    "one_hot_apply = one_hot_apply.explode('apply_education')\n",
    "one_hot_apply = pd.get_dummies(one_hot_apply,columns=['apply_education'])\n",
    "one_hot_apply = one_hot_apply.groupby('id').max().reset_index()"
   ]
  },
  {
   "cell_type": "code",
   "execution_count": 11,
   "id": "79ebef35-c780-4a7b-babc-707b721065be",
   "metadata": {},
   "outputs": [],
   "source": [
    "one_hot_apply = one_hot_apply.explode('apply_age')\n",
    "one_hot_apply = pd.get_dummies(one_hot_apply,columns=['apply_age'])\n",
    "one_hot_apply = one_hot_apply.groupby('id').max().reset_index()"
   ]
  },
  {
   "cell_type": "code",
   "execution_count": 12,
   "id": "e2402781-48c6-4734-9854-ad50d48922fb",
   "metadata": {},
   "outputs": [],
   "source": [
    "one_hot_apply = one_hot_apply.explode('apply_exp')\n",
    "one_hot_apply = pd.get_dummies(one_hot_apply,columns=['apply_exp'])\n",
    "one_hot_apply = one_hot_apply.groupby('id').max().reset_index()"
   ]
  },
  {
   "cell_type": "code",
   "execution_count": 13,
   "id": "a4b45309-fe9b-4c81-9556-0e2fe4a3a1fa",
   "metadata": {},
   "outputs": [],
   "source": [
    "one_hot_apply = one_hot_apply.explode('apply_lang')\n",
    "one_hot_apply = pd.get_dummies(one_hot_apply,columns=['apply_lang'])\n",
    "one_hot_apply = one_hot_apply.groupby('id').max().reset_index()"
   ]
  },
  {
   "cell_type": "code",
   "execution_count": 14,
   "id": "025101b1-537a-4a68-88c0-11572ffadd74",
   "metadata": {},
   "outputs": [],
   "source": [
    "one_hot_apply = one_hot_apply.explode('apply_skill')\n",
    "one_hot_apply = pd.get_dummies(one_hot_apply,columns=['apply_skill'])\n",
    "one_hot_apply = one_hot_apply.groupby('id').max().reset_index()"
   ]
  },
  {
   "cell_type": "code",
   "execution_count": 15,
   "id": "6f4857e2-2c9b-4fba-b6ad-32c487ba88ee",
   "metadata": {},
   "outputs": [],
   "source": [
    "one_hot_apply = one_hot_apply.explode('apply_cert')\n",
    "one_hot_apply = pd.get_dummies(one_hot_apply,columns=['apply_cert'])\n",
    "one_hot_apply = one_hot_apply.groupby('id').max().reset_index()"
   ]
  },
  {
   "cell_type": "code",
   "execution_count": 16,
   "id": "3cc169f3-1fde-4060-9bb9-7ca533c70e5f",
   "metadata": {},
   "outputs": [],
   "source": [
    "#刪掉薪資缺值的row\n",
    "one_hot_apply = one_hot_apply.drop(labels=record_delete_row , axis=0)\n",
    "df_percent_apply = df_percent_apply.drop(labels=record_delete_row , axis=0)"
   ]
  },
  {
   "cell_type": "code",
   "execution_count": null,
   "id": "8ac54d7b-9dda-45a3-aa46-dbf649da5468",
   "metadata": {},
   "outputs": [],
   "source": [
    "list_percent = df_percent_apply.values.tolist()"
   ]
  },
  {
   "cell_type": "code",
   "execution_count": 18,
   "id": "79ed63d2-458c-4186-9e79-eccd14ce17db",
   "metadata": {},
   "outputs": [],
   "source": [
    "column_name_ = ['apply_major','apply_education','apply_age','apply_exp','apply_lang','apply_skill','apply_cert']"
   ]
  },
  {
   "cell_type": "code",
   "execution_count": 19,
   "id": "0628aee9-48a5-4a26-baf5-e97d552cdfe9",
   "metadata": {},
   "outputs": [],
   "source": [
    "column_name_percent_apply = ['major_percent','education_percent','yearage_percent','exp_percent','lang_percent','skill_percent','cert_percent']"
   ]
  },
  {
   "cell_type": "code",
   "execution_count": null,
   "id": "c76a8175-6f8e-4d80-8e75-d63a8f6a6d95",
   "metadata": {},
   "outputs": [],
   "source": [
    "for data_row_column in range(10000):\n",
    "    count = 0\n",
    "    for name in column_name_percent_apply:\n",
    "        try:\n",
    "            name_int = df_percent_apply.loc[data_row_column][name]\n",
    "            for point in name_int.keys():\n",
    "                one_hot_apply.loc[data_row_column:data_row_column+1, [column_name_[count] + '_' + point]] = [name_int[point]]\n",
    "        except:\n",
    "            pass\n",
    "        count += 1"
   ]
  },
  {
   "cell_type": "code",
   "execution_count": null,
   "id": "786aa6f7-86bf-45c5-b508-980619fb41c2",
   "metadata": {},
   "outputs": [],
   "source": [
    "one_hot_apply[:10000].to_csv('10000_apply.csv')"
   ]
  },
  {
   "cell_type": "code",
   "execution_count": null,
   "id": "cf5409b6-b948-4e47-a4fe-6e18c569c8e6",
   "metadata": {},
   "outputs": [],
   "source": [
    "for data_row_column in range(10000, 20000):\n",
    "    count = 0\n",
    "    for name in column_name_percent_apply:\n",
    "        try:\n",
    "            name_int = df_percent_apply.loc[data_row_column][name]\n",
    "            for point in name_int.keys():\n",
    "                one_hot_apply.loc[data_row_column:data_row_column+1, [column_name_[count] + '_' + point]] = [name_int[point]]\n",
    "        except:\n",
    "            pass\n",
    "        count += 1"
   ]
  },
  {
   "cell_type": "code",
   "execution_count": null,
   "id": "d6027306-441d-443a-b70c-f3a32efe81c9",
   "metadata": {},
   "outputs": [],
   "source": [
    "one_hot_apply[10000:20000].to_csv('20000_apply.csv')"
   ]
  },
  {
   "cell_type": "code",
   "execution_count": null,
   "id": "a9124668-7c47-4213-b30d-f1ce1da02078",
   "metadata": {},
   "outputs": [],
   "source": [
    "for data_row_column in range(20000,30000):\n",
    "    count = 0\n",
    "    for name in column_name_percent_apply:\n",
    "        try:\n",
    "            name_int = df_percent_apply.loc[data_row_column][name]\n",
    "            for point in name_int.keys():\n",
    "                one_hot_apply.loc[data_row_column:data_row_column+1, [column_name_[count] + '_' + point]] = [name_int[point]]\n",
    "        except:\n",
    "            pass\n",
    "        count += 1"
   ]
  },
  {
   "cell_type": "code",
   "execution_count": null,
   "id": "360ee65d-4627-4df9-bafa-727b036d06f8",
   "metadata": {},
   "outputs": [],
   "source": [
    "one_hot_apply[20000:30000].to_csv('30000_apply.csv')"
   ]
  },
  {
   "cell_type": "code",
   "execution_count": null,
   "id": "ce2251a4-7cfa-4b17-8460-c9834a9801ed",
   "metadata": {},
   "outputs": [],
   "source": [
    "for data_row_column in range(30000,40000):\n",
    "    count = 0\n",
    "    for name in column_name_percent_apply:\n",
    "        try:\n",
    "            name_int = df_percent_apply.loc[data_row_column][name]\n",
    "            for point in name_int.keys():\n",
    "                one_hot_apply.loc[data_row_column:data_row_column+1, [column_name_[count] + '_' + point]] = [name_int[point]]\n",
    "        except:\n",
    "            pass\n",
    "        count += 1"
   ]
  },
  {
   "cell_type": "code",
   "execution_count": null,
   "id": "8fec3ed8-53ae-4c55-b70f-fe007e7ca259",
   "metadata": {},
   "outputs": [],
   "source": [
    "one_hot_apply[30000:40000].to_csv('40000_apply.csv')"
   ]
  },
  {
   "cell_type": "code",
   "execution_count": null,
   "id": "6ae1dcf1-9dc4-4af5-a639-51379b73cc65",
   "metadata": {},
   "outputs": [],
   "source": [
    "for data_row_column in range(40000,50000):\n",
    "    count = 0\n",
    "    for name in column_name_percent_apply:\n",
    "        try:\n",
    "            name_int = df_percent_apply.loc[data_row_column][name]\n",
    "            for point in name_int.keys():\n",
    "                one_hot_apply.loc[data_row_column:data_row_column+1, [column_name_[count] + '_' + point]] = [name_int[point]]\n",
    "        except:\n",
    "            pass\n",
    "        count += 1"
   ]
  },
  {
   "cell_type": "code",
   "execution_count": null,
   "id": "4882afdf-2079-404e-ae5b-efcf9bec13cf",
   "metadata": {},
   "outputs": [],
   "source": [
    "one_hot_apply[40000:50000].to_csv('50000_apply.csv')"
   ]
  },
  {
   "cell_type": "code",
   "execution_count": null,
   "id": "bf2c2a9e-27fc-4083-9663-bf9f42a02eea",
   "metadata": {},
   "outputs": [],
   "source": [
    "for data_row_column in range(50000,60000):\n",
    "    count = 0\n",
    "    for name in column_name_percent_apply:\n",
    "        try:\n",
    "            name_int = df_percent_apply.loc[data_row_column][name]\n",
    "            for point in name_int.keys():\n",
    "                one_hot_apply.loc[data_row_column:data_row_column+1, [column_name_[count] + '_' + point]] = [name_int[point]]\n",
    "        except:\n",
    "            pass\n",
    "        count += 1"
   ]
  },
  {
   "cell_type": "code",
   "execution_count": null,
   "id": "d8abfcf3-4053-4f52-a59a-b225b84b1291",
   "metadata": {},
   "outputs": [],
   "source": [
    "one_hot_apply[50000:60000].to_csv('60000_apply.csv')"
   ]
  },
  {
   "cell_type": "code",
   "execution_count": null,
   "id": "2fbbdeb9-027c-4fef-bf2f-0cceab078aad",
   "metadata": {},
   "outputs": [],
   "source": [
    "for data_row_column in range(60000,70000):\n",
    "    count = 0\n",
    "    for name in column_name_percent_apply:\n",
    "        try:\n",
    "            name_int = df_percent_apply.loc[data_row_column][name]\n",
    "            for point in name_int.keys():\n",
    "                one_hot_apply.loc[data_row_column:data_row_column+1, [column_name_[count] + '_' + point]] = [name_int[point]]\n",
    "        except:\n",
    "            pass\n",
    "        count += 1"
   ]
  },
  {
   "cell_type": "code",
   "execution_count": null,
   "id": "e7699aae-6761-44db-861c-dc851fb14cda",
   "metadata": {},
   "outputs": [],
   "source": [
    "one_hot_apply[60000:70000].to_csv('70000_apply.csv')"
   ]
  },
  {
   "cell_type": "code",
   "execution_count": null,
   "id": "5559e32a-0abf-4764-977e-d7bf8cba5380",
   "metadata": {},
   "outputs": [],
   "source": [
    "for data_row_column in range(70000,80000):\n",
    "    count = 0\n",
    "    for name in column_name_percent_apply:\n",
    "        try:\n",
    "            name_int = df_percent_apply.loc[data_row_column][name]\n",
    "            for point in name_int.keys():\n",
    "                one_hot_apply.loc[data_row_column:data_row_column+1, [column_name_[count] + '_' + point]] = [name_int[point]]\n",
    "        except:\n",
    "            pass\n",
    "        count += 1"
   ]
  },
  {
   "cell_type": "code",
   "execution_count": null,
   "id": "8ad3d8d8-a236-4159-a14f-01b31636e41a",
   "metadata": {},
   "outputs": [],
   "source": [
    "one_hot_apply[70000:80000].to_csv('80000_apply.csv')"
   ]
  },
  {
   "cell_type": "code",
   "execution_count": null,
   "id": "519ee51d-8dc6-45d4-9648-a488ba0e8474",
   "metadata": {},
   "outputs": [],
   "source": [
    "for data_row_column in range(80000,90000):\n",
    "    count = 0\n",
    "    for name in column_name_percent_apply:\n",
    "        try:\n",
    "            name_int = df_percent_apply.loc[data_row_column][name]\n",
    "            for point in name_int.keys():\n",
    "                one_hot_apply.loc[data_row_column:data_row_column+1, [column_name_[count] + '_' + point]] = [name_int[point]]\n",
    "        except:\n",
    "            pass\n",
    "        count += 1"
   ]
  },
  {
   "cell_type": "code",
   "execution_count": null,
   "id": "4b9bd0a9-a857-4284-8203-a60ee0d00b35",
   "metadata": {},
   "outputs": [],
   "source": [
    "one_hot_apply[80000:90000].to_csv('90000_apply.csv')"
   ]
  },
  {
   "cell_type": "code",
   "execution_count": null,
   "id": "5fe15dc4-ed78-438e-8844-d3d96d94b614",
   "metadata": {},
   "outputs": [],
   "source": [
    "for data_row_column in range(90000,100000):\n",
    "    count = 0\n",
    "    for name in column_name_percent_apply:\n",
    "        try:\n",
    "            name_int = df_percent_apply.loc[data_row_column][name]\n",
    "            for point in name_int.keys():\n",
    "                one_hot_apply.loc[data_row_column:data_row_column+1, [column_name_[count] + '_' + point]] = [name_int[point]]\n",
    "        except:\n",
    "            pass\n",
    "        count += 1"
   ]
  },
  {
   "cell_type": "code",
   "execution_count": null,
   "id": "d27ee140-3708-44a8-8a76-3022b400edf5",
   "metadata": {},
   "outputs": [],
   "source": [
    "one_hot_apply[90000:100000].to_csv('100000_apply.csv')"
   ]
  },
  {
   "cell_type": "code",
   "execution_count": 20,
   "id": "6bbf4400-09b7-4010-9087-71a6ed934466",
   "metadata": {},
   "outputs": [],
   "source": [
    "for data_row_column in range(100000,110000):\n",
    "    count = 0\n",
    "    for name in column_name_percent_apply:\n",
    "        try:\n",
    "            name_int = df_percent_apply.loc[data_row_column][name]\n",
    "            for point in name_int.keys():\n",
    "                one_hot_apply.loc[data_row_column:data_row_column+1, [column_name_[count] + '_' + point]] = [name_int[point]]\n",
    "        except:\n",
    "            pass\n",
    "        count += 1"
   ]
  },
  {
   "cell_type": "code",
   "execution_count": 21,
   "id": "7bcd1259-2d13-4216-8a9b-e8e0f1374379",
   "metadata": {},
   "outputs": [],
   "source": [
    "one_hot_apply[100000:110000].to_csv('110000_apply.csv')"
   ]
  },
  {
   "cell_type": "code",
   "execution_count": 22,
   "id": "04a40eec-92bc-4bc4-a826-c39f8bd9bbe6",
   "metadata": {},
   "outputs": [],
   "source": [
    "for data_row_column in range(110000,len(one_hot_apply)):\n",
    "    count = 0\n",
    "    for name in column_name_percent_apply:\n",
    "        try:\n",
    "            name_int = df_percent_apply.loc[data_row_column][name]\n",
    "            for point in name_int.keys():\n",
    "                one_hot_apply.loc[data_row_column:data_row_column+1, [column_name_[count] + '_' + point]] = [name_int[point]]\n",
    "        except:\n",
    "            pass\n",
    "        count += 1"
   ]
  },
  {
   "cell_type": "code",
   "execution_count": 23,
   "id": "b2c0e2d7-5dcd-4d01-adee-48f5bc4b83af",
   "metadata": {},
   "outputs": [],
   "source": [
    "one_hot_apply[110000:len(one_hot_apply)].to_csv('last_apply.csv')"
   ]
  },
  {
   "cell_type": "code",
   "execution_count": null,
   "id": "d7152e53-ee78-4d7f-9dab-c91be78d8852",
   "metadata": {},
   "outputs": [],
   "source": [
    "one_hot_apply = one_hot_apply.drop(['id'], axis=1)"
   ]
  },
  {
   "cell_type": "code",
   "execution_count": 3,
   "id": "f7453fa8-7449-4a62-b198-d9d5234a92dd",
   "metadata": {},
   "outputs": [],
   "source": [
    "#薪水\n",
    "y_all = []\n",
    "dead_row = []\n",
    "for l in range(len(keep_dataframe['jobData'])):\n",
    "    if len(keep_dataframe['jobData'][l]) < 17:\n",
    "        dead_row.append(l)\n",
    "        continue\n",
    "    one_y = []\n",
    "    salaryMin = keep_dataframe['jobData'][l]['jobDetail']['salaryMin']\n",
    "    if salaryMin < 10000:\n",
    "        salaryMin = None\n",
    "    salaryMax = keep_dataframe['jobData'][l]['jobDetail']['salaryMax']\n",
    "    if salaryMax == 9999999:\n",
    "        salaryMax = None\n",
    "    one_y = [salaryMin, salaryMax]\n",
    "    y_all.append(one_y)\n",
    "\n",
    "y_column_name = ['salaryMin','salaryMax']\n",
    "y_train = pd.DataFrame(y_all, columns=y_column_name)"
   ]
  },
  {
   "cell_type": "code",
   "execution_count": 4,
   "id": "192e46ae-1537-43a5-b4ff-3843813d5df8",
   "metadata": {},
   "outputs": [],
   "source": [
    "record_delete_row = []\n",
    "for o in range(len(keep_dataframe['jobData'])-len(dead_row)):\n",
    "    if 0 in y_all[o]:\n",
    "        record_delete_row.append(o)\n",
    "        continue\n",
    "    if None in y_all[o]:\n",
    "        record_delete_row.append(o)\n",
    "        continue"
   ]
  },
  {
   "cell_type": "code",
   "execution_count": 5,
   "id": "b5170300-6b62-4ac1-bc62-b722eaf4c002",
   "metadata": {},
   "outputs": [
    {
     "data": {
      "text/html": [
       "<div>\n",
       "<style scoped>\n",
       "    .dataframe tbody tr th:only-of-type {\n",
       "        vertical-align: middle;\n",
       "    }\n",
       "\n",
       "    .dataframe tbody tr th {\n",
       "        vertical-align: top;\n",
       "    }\n",
       "\n",
       "    .dataframe thead th {\n",
       "        text-align: right;\n",
       "    }\n",
       "</style>\n",
       "<table border=\"1\" class=\"dataframe\">\n",
       "  <thead>\n",
       "    <tr style=\"text-align: right;\">\n",
       "      <th></th>\n",
       "      <th>salaryMin</th>\n",
       "      <th>salaryMax</th>\n",
       "    </tr>\n",
       "  </thead>\n",
       "  <tbody>\n",
       "    <tr>\n",
       "      <th>0</th>\n",
       "      <td>36900.0</td>\n",
       "      <td>40000.0</td>\n",
       "    </tr>\n",
       "    <tr>\n",
       "      <th>1</th>\n",
       "      <td>45000.0</td>\n",
       "      <td>70000.0</td>\n",
       "    </tr>\n",
       "    <tr>\n",
       "      <th>3</th>\n",
       "      <td>30000.0</td>\n",
       "      <td>80000.0</td>\n",
       "    </tr>\n",
       "    <tr>\n",
       "      <th>4</th>\n",
       "      <td>35000.0</td>\n",
       "      <td>40000.0</td>\n",
       "    </tr>\n",
       "    <tr>\n",
       "      <th>6</th>\n",
       "      <td>50000.0</td>\n",
       "      <td>70000.0</td>\n",
       "    </tr>\n",
       "    <tr>\n",
       "      <th>...</th>\n",
       "      <td>...</td>\n",
       "      <td>...</td>\n",
       "    </tr>\n",
       "    <tr>\n",
       "      <th>192906</th>\n",
       "      <td>32000.0</td>\n",
       "      <td>35000.0</td>\n",
       "    </tr>\n",
       "    <tr>\n",
       "      <th>192907</th>\n",
       "      <td>33400.0</td>\n",
       "      <td>45400.0</td>\n",
       "    </tr>\n",
       "    <tr>\n",
       "      <th>192908</th>\n",
       "      <td>45000.0</td>\n",
       "      <td>65000.0</td>\n",
       "    </tr>\n",
       "    <tr>\n",
       "      <th>192909</th>\n",
       "      <td>35000.0</td>\n",
       "      <td>45000.0</td>\n",
       "    </tr>\n",
       "    <tr>\n",
       "      <th>192910</th>\n",
       "      <td>35000.0</td>\n",
       "      <td>70000.0</td>\n",
       "    </tr>\n",
       "  </tbody>\n",
       "</table>\n",
       "<p>133015 rows × 2 columns</p>\n",
       "</div>"
      ],
      "text/plain": [
       "        salaryMin  salaryMax\n",
       "0         36900.0    40000.0\n",
       "1         45000.0    70000.0\n",
       "3         30000.0    80000.0\n",
       "4         35000.0    40000.0\n",
       "6         50000.0    70000.0\n",
       "...           ...        ...\n",
       "192906    32000.0    35000.0\n",
       "192907    33400.0    45400.0\n",
       "192908    45000.0    65000.0\n",
       "192909    35000.0    45000.0\n",
       "192910    35000.0    70000.0\n",
       "\n",
       "[133015 rows x 2 columns]"
      ]
     },
     "execution_count": 5,
     "metadata": {},
     "output_type": "execute_result"
    }
   ],
   "source": [
    "y_train = y_train.drop(labels=record_delete_row , axis=0)\n",
    "y_train"
   ]
  },
  {
   "cell_type": "code",
   "execution_count": 26,
   "id": "68be1055-f33d-4553-a853-efb207657588",
   "metadata": {},
   "outputs": [
    {
     "name": "stdout",
     "output_type": "stream",
     "text": [
      "55701.006330113145\n",
      "35035.00408224636\n"
     ]
    }
   ],
   "source": [
    "print(y_train['salaryMax'].mean())\n",
    "print(y_train['salaryMin'].mean())"
   ]
  },
  {
   "cell_type": "code",
   "execution_count": 27,
   "id": "a7017241-7510-4723-abd5-ff99913e2c9d",
   "metadata": {},
   "outputs": [
    {
     "name": "stdout",
     "output_type": "stream",
     "text": [
      "163668.97477900377\n",
      "55329.46312593438\n"
     ]
    }
   ],
   "source": [
    "print(y_train['salaryMax'].std())\n",
    "print(y_train['salaryMin'].std())"
   ]
  },
  {
   "cell_type": "code",
   "execution_count": null,
   "id": "da96992f-8945-4f70-8ca6-7ede4b19112a",
   "metadata": {},
   "outputs": [],
   "source": [
    "y_train.to_csv('before_standard_y.csv')"
   ]
  }
 ],
 "metadata": {
  "kernelspec": {
   "display_name": "Python 3 (ipykernel)",
   "language": "python",
   "name": "python3"
  },
  "language_info": {
   "codemirror_mode": {
    "name": "ipython",
    "version": 3
   },
   "file_extension": ".py",
   "mimetype": "text/x-python",
   "name": "python",
   "nbconvert_exporter": "python",
   "pygments_lexer": "ipython3",
   "version": "3.9.5"
  }
 },
 "nbformat": 4,
 "nbformat_minor": 5
}
